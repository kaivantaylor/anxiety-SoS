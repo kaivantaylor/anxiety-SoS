{
 "cells": [
  {
   "cell_type": "code",
   "execution_count": 3,
   "metadata": {},
   "outputs": [
    {
     "name": "stderr",
     "output_type": "stream",
     "text": [
      "[14/Sep/2019:09:19:28] ENGINE Listening for SIGTERM.\n",
      "[14/Sep/2019:09:19:28] ENGINE Bus STARTING\n",
      "[14/Sep/2019:09:19:28] ENGINE Set handler for console events.\n",
      "[14/Sep/2019:09:19:28] ENGINE Started monitor thread 'Autoreloader'.\n",
      "[14/Sep/2019:09:19:28] ENGINE Serving on http://127.0.0.1:8080\n",
      "[14/Sep/2019:09:19:28] ENGINE Bus STARTED\n"
     ]
    },
    {
     "name": "stdout",
     "output_type": "stream",
     "text": [
      "127.0.0.1 - - [14/Sep/2019:09:19:29] \"GET /?code=d36f3dab05e3bb0b451138d4d44f762e187275f5&state=wLbjd3A1mCeohF3AYEAGtmWNMMaBkI HTTP/1.1\" 200 122 \"\" \"Mozilla/5.0 (Windows NT 10.0; Win64; x64) AppleWebKit/537.36 (KHTML, like Gecko) Chrome/76.0.3809.132 Safari/537.36\"\n"
     ]
    },
    {
     "name": "stderr",
     "output_type": "stream",
     "text": [
      "[14/Sep/2019:09:19:30] ENGINE Bus STOPPING\n",
      "[14/Sep/2019:09:19:39] ENGINE HTTP Server cherrypy._cpwsgi_server.CPWSGIServer(('127.0.0.1', 8080)) shut down\n",
      "[14/Sep/2019:09:19:39] ENGINE Stopped thread 'Autoreloader'.\n",
      "[14/Sep/2019:09:19:39] ENGINE Removed handler for console events.\n",
      "[14/Sep/2019:09:19:39] ENGINE Bus STOPPED\n",
      "[14/Sep/2019:09:19:39] ENGINE Bus EXITING\n",
      "[14/Sep/2019:09:19:39] ENGINE Waiting for child threads to terminate...\n",
      "[14/Sep/2019:09:19:39] ENGINE Bus EXITED\n",
      "[14/Sep/2019:09:19:39] ENGINE Waiting for thread Thread-33.\n"
     ]
    }
   ],
   "source": [
    "# Source: https://towardsdatascience.com/collect-your-own-fitbit-data-with-python-ff145fa10873\n",
    "# Getting familiar with fitbit API\n",
    "# Kaivan Taylor\n",
    "\n",
    "import fitbit\n",
    "import gather_keys_oauth2 as Oauth2\n",
    "import pandas as pd\n",
    "import datetime\n",
    "\n",
    "CLIENT_ID = '22B4RG'\n",
    "CLIENT_SECRET = 'c511ebbf0974a6a69516919bae59b33f'\n",
    "\n",
    "server = Oauth2.OAuth2Server(CLIENT_ID, CLIENT_SECRET)\n",
    "server.browser_authorize()\n",
    "\n",
    "ACCESS_TOKEN = str(server.fitbit.client.session.token['access_token'])\n",
    "REFRESH_TOKEN = str(server.fitbit.client.session.token['refresh_token'])\n",
    "\n",
    "auth2_client = fitbit.Fitbit(CLIENT_ID, CLIENT_SECRET, oauth2=True, access_token=ACCESS_TOKEN, refresh_token=REFRESH_TOKEN)\n",
    "\n",
    "yesterday = str((datetime.datetime.now() - datetime.timedelta(days=1)).strftime(\"%Y%m%d\"))\n",
    "yesterday2 = str((datetime.datetime.now() - datetime.timedelta(days=1)).strftime(\"%Y-%m-%d\"))\n",
    "today = str(datetime.datetime.now().strftime(\"%Y%m%d\"))\n",
    "\n",
    "fit_statsSl = auth2_client.sleep()\n"
   ]
  },
  {
   "cell_type": "code",
   "execution_count": 4,
   "metadata": {},
   "outputs": [
    {
     "data": {
      "text/plain": [
       "{'sleep': [{'awakeCount': 1,\n",
       "   'awakeDuration': 3,\n",
       "   'awakeningsCount': 9,\n",
       "   'dateOfSleep': '2019-09-14',\n",
       "   'duration': 13140000,\n",
       "   'efficiency': 83,\n",
       "   'endTime': '2019-09-14T07:36:30.000',\n",
       "   'isMainSleep': True,\n",
       "   'logId': 23867907439,\n",
       "   'minuteData': [{'dateTime': '03:57:00', 'value': '1'},\n",
       "    {'dateTime': '03:58:00', 'value': '1'},\n",
       "    {'dateTime': '03:59:00', 'value': '1'},\n",
       "    {'dateTime': '04:00:00', 'value': '1'},\n",
       "    {'dateTime': '04:01:00', 'value': '1'},\n",
       "    {'dateTime': '04:02:00', 'value': '1'},\n",
       "    {'dateTime': '04:03:00', 'value': '1'},\n",
       "    {'dateTime': '04:04:00', 'value': '1'},\n",
       "    {'dateTime': '04:05:00', 'value': '1'},\n",
       "    {'dateTime': '04:06:00', 'value': '1'},\n",
       "    {'dateTime': '04:07:00', 'value': '2'},\n",
       "    {'dateTime': '04:08:00', 'value': '2'},\n",
       "    {'dateTime': '04:09:00', 'value': '2'},\n",
       "    {'dateTime': '04:10:00', 'value': '1'},\n",
       "    {'dateTime': '04:11:00', 'value': '1'},\n",
       "    {'dateTime': '04:12:00', 'value': '1'},\n",
       "    {'dateTime': '04:13:00', 'value': '1'},\n",
       "    {'dateTime': '04:14:00', 'value': '1'},\n",
       "    {'dateTime': '04:15:00', 'value': '1'},\n",
       "    {'dateTime': '04:16:00', 'value': '1'},\n",
       "    {'dateTime': '04:17:00', 'value': '1'},\n",
       "    {'dateTime': '04:18:00', 'value': '1'},\n",
       "    {'dateTime': '04:19:00', 'value': '1'},\n",
       "    {'dateTime': '04:20:00', 'value': '1'},\n",
       "    {'dateTime': '04:21:00', 'value': '1'},\n",
       "    {'dateTime': '04:22:00', 'value': '1'},\n",
       "    {'dateTime': '04:23:00', 'value': '1'},\n",
       "    {'dateTime': '04:24:00', 'value': '1'},\n",
       "    {'dateTime': '04:25:00', 'value': '1'},\n",
       "    {'dateTime': '04:26:00', 'value': '1'},\n",
       "    {'dateTime': '04:27:00', 'value': '1'},\n",
       "    {'dateTime': '04:28:00', 'value': '1'},\n",
       "    {'dateTime': '04:29:00', 'value': '1'},\n",
       "    {'dateTime': '04:30:00', 'value': '1'},\n",
       "    {'dateTime': '04:31:00', 'value': '1'},\n",
       "    {'dateTime': '04:32:00', 'value': '1'},\n",
       "    {'dateTime': '04:33:00', 'value': '1'},\n",
       "    {'dateTime': '04:34:00', 'value': '1'},\n",
       "    {'dateTime': '04:35:00', 'value': '1'},\n",
       "    {'dateTime': '04:36:00', 'value': '1'},\n",
       "    {'dateTime': '04:37:00', 'value': '1'},\n",
       "    {'dateTime': '04:38:00', 'value': '1'},\n",
       "    {'dateTime': '04:39:00', 'value': '1'},\n",
       "    {'dateTime': '04:40:00', 'value': '1'},\n",
       "    {'dateTime': '04:41:00', 'value': '1'},\n",
       "    {'dateTime': '04:42:00', 'value': '1'},\n",
       "    {'dateTime': '04:43:00', 'value': '1'},\n",
       "    {'dateTime': '04:44:00', 'value': '1'},\n",
       "    {'dateTime': '04:45:00', 'value': '1'},\n",
       "    {'dateTime': '04:46:00', 'value': '1'},\n",
       "    {'dateTime': '04:47:00', 'value': '1'},\n",
       "    {'dateTime': '04:48:00', 'value': '1'},\n",
       "    {'dateTime': '04:49:00', 'value': '1'},\n",
       "    {'dateTime': '04:50:00', 'value': '1'},\n",
       "    {'dateTime': '04:51:00', 'value': '1'},\n",
       "    {'dateTime': '04:52:00', 'value': '1'},\n",
       "    {'dateTime': '04:53:00', 'value': '1'},\n",
       "    {'dateTime': '04:54:00', 'value': '1'},\n",
       "    {'dateTime': '04:55:00', 'value': '1'},\n",
       "    {'dateTime': '04:56:00', 'value': '1'},\n",
       "    {'dateTime': '04:57:00', 'value': '1'},\n",
       "    {'dateTime': '04:58:00', 'value': '1'},\n",
       "    {'dateTime': '04:59:00', 'value': '1'},\n",
       "    {'dateTime': '05:00:00', 'value': '1'},\n",
       "    {'dateTime': '05:01:00', 'value': '1'},\n",
       "    {'dateTime': '05:02:00', 'value': '1'},\n",
       "    {'dateTime': '05:03:00', 'value': '1'},\n",
       "    {'dateTime': '05:04:00', 'value': '1'},\n",
       "    {'dateTime': '05:05:00', 'value': '1'},\n",
       "    {'dateTime': '05:06:00', 'value': '1'},\n",
       "    {'dateTime': '05:07:00', 'value': '1'},\n",
       "    {'dateTime': '05:08:00', 'value': '1'},\n",
       "    {'dateTime': '05:09:00', 'value': '1'},\n",
       "    {'dateTime': '05:10:00', 'value': '1'},\n",
       "    {'dateTime': '05:11:00', 'value': '1'},\n",
       "    {'dateTime': '05:12:00', 'value': '1'},\n",
       "    {'dateTime': '05:13:00', 'value': '1'},\n",
       "    {'dateTime': '05:14:00', 'value': '1'},\n",
       "    {'dateTime': '05:15:00', 'value': '2'},\n",
       "    {'dateTime': '05:16:00', 'value': '1'},\n",
       "    {'dateTime': '05:17:00', 'value': '2'},\n",
       "    {'dateTime': '05:18:00', 'value': '2'},\n",
       "    {'dateTime': '05:19:00', 'value': '1'},\n",
       "    {'dateTime': '05:20:00', 'value': '1'},\n",
       "    {'dateTime': '05:21:00', 'value': '1'},\n",
       "    {'dateTime': '05:22:00', 'value': '1'},\n",
       "    {'dateTime': '05:23:00', 'value': '1'},\n",
       "    {'dateTime': '05:24:00', 'value': '1'},\n",
       "    {'dateTime': '05:25:00', 'value': '1'},\n",
       "    {'dateTime': '05:26:00', 'value': '1'},\n",
       "    {'dateTime': '05:27:00', 'value': '1'},\n",
       "    {'dateTime': '05:28:00', 'value': '1'},\n",
       "    {'dateTime': '05:29:00', 'value': '1'},\n",
       "    {'dateTime': '05:30:00', 'value': '1'},\n",
       "    {'dateTime': '05:31:00', 'value': '1'},\n",
       "    {'dateTime': '05:32:00', 'value': '2'},\n",
       "    {'dateTime': '05:33:00', 'value': '2'},\n",
       "    {'dateTime': '05:34:00', 'value': '1'},\n",
       "    {'dateTime': '05:35:00', 'value': '1'},\n",
       "    {'dateTime': '05:36:00', 'value': '1'},\n",
       "    {'dateTime': '05:37:00', 'value': '1'},\n",
       "    {'dateTime': '05:38:00', 'value': '1'},\n",
       "    {'dateTime': '05:39:00', 'value': '1'},\n",
       "    {'dateTime': '05:40:00', 'value': '1'},\n",
       "    {'dateTime': '05:41:00', 'value': '1'},\n",
       "    {'dateTime': '05:42:00', 'value': '1'},\n",
       "    {'dateTime': '05:43:00', 'value': '1'},\n",
       "    {'dateTime': '05:44:00', 'value': '1'},\n",
       "    {'dateTime': '05:45:00', 'value': '1'},\n",
       "    {'dateTime': '05:46:00', 'value': '2'},\n",
       "    {'dateTime': '05:47:00', 'value': '2'},\n",
       "    {'dateTime': '05:48:00', 'value': '2'},\n",
       "    {'dateTime': '05:49:00', 'value': '2'},\n",
       "    {'dateTime': '05:50:00', 'value': '2'},\n",
       "    {'dateTime': '05:51:00', 'value': '2'},\n",
       "    {'dateTime': '05:52:00', 'value': '2'},\n",
       "    {'dateTime': '05:53:00', 'value': '2'},\n",
       "    {'dateTime': '05:54:00', 'value': '2'},\n",
       "    {'dateTime': '05:55:00', 'value': '2'},\n",
       "    {'dateTime': '05:56:00', 'value': '2'},\n",
       "    {'dateTime': '05:57:00', 'value': '2'},\n",
       "    {'dateTime': '05:58:00', 'value': '2'},\n",
       "    {'dateTime': '05:59:00', 'value': '2'},\n",
       "    {'dateTime': '06:00:00', 'value': '2'},\n",
       "    {'dateTime': '06:01:00', 'value': '2'},\n",
       "    {'dateTime': '06:02:00', 'value': '1'},\n",
       "    {'dateTime': '06:03:00', 'value': '1'},\n",
       "    {'dateTime': '06:04:00', 'value': '1'},\n",
       "    {'dateTime': '06:05:00', 'value': '2'},\n",
       "    {'dateTime': '06:06:00', 'value': '2'},\n",
       "    {'dateTime': '06:07:00', 'value': '2'},\n",
       "    {'dateTime': '06:08:00', 'value': '1'},\n",
       "    {'dateTime': '06:09:00', 'value': '1'},\n",
       "    {'dateTime': '06:10:00', 'value': '2'},\n",
       "    {'dateTime': '06:11:00', 'value': '2'},\n",
       "    {'dateTime': '06:12:00', 'value': '2'},\n",
       "    {'dateTime': '06:13:00', 'value': '2'},\n",
       "    {'dateTime': '06:14:00', 'value': '1'},\n",
       "    {'dateTime': '06:15:00', 'value': '1'},\n",
       "    {'dateTime': '06:16:00', 'value': '1'},\n",
       "    {'dateTime': '06:17:00', 'value': '1'},\n",
       "    {'dateTime': '06:18:00', 'value': '1'},\n",
       "    {'dateTime': '06:19:00', 'value': '1'},\n",
       "    {'dateTime': '06:20:00', 'value': '1'},\n",
       "    {'dateTime': '06:21:00', 'value': '1'},\n",
       "    {'dateTime': '06:22:00', 'value': '1'},\n",
       "    {'dateTime': '06:23:00', 'value': '1'},\n",
       "    {'dateTime': '06:24:00', 'value': '1'},\n",
       "    {'dateTime': '06:25:00', 'value': '1'},\n",
       "    {'dateTime': '06:26:00', 'value': '1'},\n",
       "    {'dateTime': '06:27:00', 'value': '1'},\n",
       "    {'dateTime': '06:28:00', 'value': '1'},\n",
       "    {'dateTime': '06:29:00', 'value': '1'},\n",
       "    {'dateTime': '06:30:00', 'value': '1'},\n",
       "    {'dateTime': '06:31:00', 'value': '1'},\n",
       "    {'dateTime': '06:32:00', 'value': '1'},\n",
       "    {'dateTime': '06:33:00', 'value': '1'},\n",
       "    {'dateTime': '06:34:00', 'value': '1'},\n",
       "    {'dateTime': '06:35:00', 'value': '1'},\n",
       "    {'dateTime': '06:36:00', 'value': '1'},\n",
       "    {'dateTime': '06:37:00', 'value': '1'},\n",
       "    {'dateTime': '06:38:00', 'value': '1'},\n",
       "    {'dateTime': '06:39:00', 'value': '1'},\n",
       "    {'dateTime': '06:40:00', 'value': '1'},\n",
       "    {'dateTime': '06:41:00', 'value': '1'},\n",
       "    {'dateTime': '06:42:00', 'value': '1'},\n",
       "    {'dateTime': '06:43:00', 'value': '1'},\n",
       "    {'dateTime': '06:44:00', 'value': '1'},\n",
       "    {'dateTime': '06:45:00', 'value': '1'},\n",
       "    {'dateTime': '06:46:00', 'value': '1'},\n",
       "    {'dateTime': '06:47:00', 'value': '1'},\n",
       "    {'dateTime': '06:48:00', 'value': '1'},\n",
       "    {'dateTime': '06:49:00', 'value': '1'},\n",
       "    {'dateTime': '06:50:00', 'value': '1'},\n",
       "    {'dateTime': '06:51:00', 'value': '1'},\n",
       "    {'dateTime': '06:52:00', 'value': '1'},\n",
       "    {'dateTime': '06:53:00', 'value': '2'},\n",
       "    {'dateTime': '06:54:00', 'value': '2'},\n",
       "    {'dateTime': '06:55:00', 'value': '1'},\n",
       "    {'dateTime': '06:56:00', 'value': '1'},\n",
       "    {'dateTime': '06:57:00', 'value': '1'},\n",
       "    {'dateTime': '06:58:00', 'value': '1'},\n",
       "    {'dateTime': '06:59:00', 'value': '1'},\n",
       "    {'dateTime': '07:00:00', 'value': '1'},\n",
       "    {'dateTime': '07:01:00', 'value': '1'},\n",
       "    {'dateTime': '07:02:00', 'value': '1'},\n",
       "    {'dateTime': '07:03:00', 'value': '1'},\n",
       "    {'dateTime': '07:04:00', 'value': '1'},\n",
       "    {'dateTime': '07:05:00', 'value': '1'},\n",
       "    {'dateTime': '07:06:00', 'value': '1'},\n",
       "    {'dateTime': '07:07:00', 'value': '1'},\n",
       "    {'dateTime': '07:08:00', 'value': '1'},\n",
       "    {'dateTime': '07:09:00', 'value': '1'},\n",
       "    {'dateTime': '07:10:00', 'value': '1'},\n",
       "    {'dateTime': '07:11:00', 'value': '1'},\n",
       "    {'dateTime': '07:12:00', 'value': '1'},\n",
       "    {'dateTime': '07:13:00', 'value': '1'},\n",
       "    {'dateTime': '07:14:00', 'value': '1'},\n",
       "    {'dateTime': '07:15:00', 'value': '1'},\n",
       "    {'dateTime': '07:16:00', 'value': '1'},\n",
       "    {'dateTime': '07:17:00', 'value': '1'},\n",
       "    {'dateTime': '07:18:00', 'value': '1'},\n",
       "    {'dateTime': '07:19:00', 'value': '1'},\n",
       "    {'dateTime': '07:20:00', 'value': '1'},\n",
       "    {'dateTime': '07:21:00', 'value': '1'},\n",
       "    {'dateTime': '07:22:00', 'value': '1'},\n",
       "    {'dateTime': '07:23:00', 'value': '1'},\n",
       "    {'dateTime': '07:24:00', 'value': '1'},\n",
       "    {'dateTime': '07:25:00', 'value': '1'},\n",
       "    {'dateTime': '07:26:00', 'value': '1'},\n",
       "    {'dateTime': '07:27:00', 'value': '1'},\n",
       "    {'dateTime': '07:28:00', 'value': '1'},\n",
       "    {'dateTime': '07:29:00', 'value': '1'},\n",
       "    {'dateTime': '07:30:00', 'value': '2'},\n",
       "    {'dateTime': '07:31:00', 'value': '2'},\n",
       "    {'dateTime': '07:32:00', 'value': '2'},\n",
       "    {'dateTime': '07:33:00', 'value': '2'},\n",
       "    {'dateTime': '07:34:00', 'value': '1'},\n",
       "    {'dateTime': '07:35:00', 'value': '3'}],\n",
       "   'minutesAfterWakeup': 1,\n",
       "   'minutesAsleep': 176,\n",
       "   'minutesAwake': 37,\n",
       "   'minutesToFallAsleep': 0,\n",
       "   'restlessCount': 8,\n",
       "   'restlessDuration': 22,\n",
       "   'startTime': '2019-09-14T03:57:00.000',\n",
       "   'timeInBed': 219}],\n",
       " 'summary': {'stages': {'deep': 51, 'light': 110, 'rem': 24, 'wake': 34},\n",
       "  'totalMinutesAsleep': 176,\n",
       "  'totalSleepRecords': 1,\n",
       "  'totalTimeInBed': 219}}"
      ]
     },
     "execution_count": 4,
     "metadata": {},
     "output_type": "execute_result"
    }
   ],
   "source": [
    "fit_statsSl"
   ]
  },
  {
   "cell_type": "code",
   "execution_count": 12,
   "metadata": {},
   "outputs": [
    {
     "data": {
      "text/plain": [
       "dict"
      ]
     },
     "execution_count": 12,
     "metadata": {},
     "output_type": "execute_result"
    }
   ],
   "source": [
    "type(fit_statsSl)"
   ]
  },
  {
   "cell_type": "code",
   "execution_count": 13,
   "metadata": {},
   "outputs": [
    {
     "data": {
      "text/plain": [
       "{'deep': 51, 'light': 110, 'rem': 24, 'wake': 34}"
      ]
     },
     "execution_count": 13,
     "metadata": {},
     "output_type": "execute_result"
    }
   ],
   "source": [
    "fit_statsSl['summary']['stages']"
   ]
  },
  {
   "cell_type": "code",
   "execution_count": 26,
   "metadata": {},
   "outputs": [
    {
     "data": {
      "text/plain": [
       "[{'dateTime': '03:57:00', 'value': '1'},\n",
       " {'dateTime': '03:58:00', 'value': '1'},\n",
       " {'dateTime': '03:59:00', 'value': '1'},\n",
       " {'dateTime': '04:00:00', 'value': '1'},\n",
       " {'dateTime': '04:01:00', 'value': '1'},\n",
       " {'dateTime': '04:02:00', 'value': '1'},\n",
       " {'dateTime': '04:03:00', 'value': '1'},\n",
       " {'dateTime': '04:04:00', 'value': '1'},\n",
       " {'dateTime': '04:05:00', 'value': '1'},\n",
       " {'dateTime': '04:06:00', 'value': '1'},\n",
       " {'dateTime': '04:07:00', 'value': '2'},\n",
       " {'dateTime': '04:08:00', 'value': '2'},\n",
       " {'dateTime': '04:09:00', 'value': '2'},\n",
       " {'dateTime': '04:10:00', 'value': '1'},\n",
       " {'dateTime': '04:11:00', 'value': '1'},\n",
       " {'dateTime': '04:12:00', 'value': '1'},\n",
       " {'dateTime': '04:13:00', 'value': '1'},\n",
       " {'dateTime': '04:14:00', 'value': '1'},\n",
       " {'dateTime': '04:15:00', 'value': '1'},\n",
       " {'dateTime': '04:16:00', 'value': '1'},\n",
       " {'dateTime': '04:17:00', 'value': '1'},\n",
       " {'dateTime': '04:18:00', 'value': '1'},\n",
       " {'dateTime': '04:19:00', 'value': '1'},\n",
       " {'dateTime': '04:20:00', 'value': '1'},\n",
       " {'dateTime': '04:21:00', 'value': '1'},\n",
       " {'dateTime': '04:22:00', 'value': '1'},\n",
       " {'dateTime': '04:23:00', 'value': '1'},\n",
       " {'dateTime': '04:24:00', 'value': '1'},\n",
       " {'dateTime': '04:25:00', 'value': '1'},\n",
       " {'dateTime': '04:26:00', 'value': '1'},\n",
       " {'dateTime': '04:27:00', 'value': '1'},\n",
       " {'dateTime': '04:28:00', 'value': '1'},\n",
       " {'dateTime': '04:29:00', 'value': '1'},\n",
       " {'dateTime': '04:30:00', 'value': '1'},\n",
       " {'dateTime': '04:31:00', 'value': '1'},\n",
       " {'dateTime': '04:32:00', 'value': '1'},\n",
       " {'dateTime': '04:33:00', 'value': '1'},\n",
       " {'dateTime': '04:34:00', 'value': '1'},\n",
       " {'dateTime': '04:35:00', 'value': '1'},\n",
       " {'dateTime': '04:36:00', 'value': '1'},\n",
       " {'dateTime': '04:37:00', 'value': '1'},\n",
       " {'dateTime': '04:38:00', 'value': '1'},\n",
       " {'dateTime': '04:39:00', 'value': '1'},\n",
       " {'dateTime': '04:40:00', 'value': '1'},\n",
       " {'dateTime': '04:41:00', 'value': '1'},\n",
       " {'dateTime': '04:42:00', 'value': '1'},\n",
       " {'dateTime': '04:43:00', 'value': '1'},\n",
       " {'dateTime': '04:44:00', 'value': '1'},\n",
       " {'dateTime': '04:45:00', 'value': '1'},\n",
       " {'dateTime': '04:46:00', 'value': '1'},\n",
       " {'dateTime': '04:47:00', 'value': '1'},\n",
       " {'dateTime': '04:48:00', 'value': '1'},\n",
       " {'dateTime': '04:49:00', 'value': '1'},\n",
       " {'dateTime': '04:50:00', 'value': '1'},\n",
       " {'dateTime': '04:51:00', 'value': '1'},\n",
       " {'dateTime': '04:52:00', 'value': '1'},\n",
       " {'dateTime': '04:53:00', 'value': '1'},\n",
       " {'dateTime': '04:54:00', 'value': '1'},\n",
       " {'dateTime': '04:55:00', 'value': '1'},\n",
       " {'dateTime': '04:56:00', 'value': '1'},\n",
       " {'dateTime': '04:57:00', 'value': '1'},\n",
       " {'dateTime': '04:58:00', 'value': '1'},\n",
       " {'dateTime': '04:59:00', 'value': '1'},\n",
       " {'dateTime': '05:00:00', 'value': '1'},\n",
       " {'dateTime': '05:01:00', 'value': '1'},\n",
       " {'dateTime': '05:02:00', 'value': '1'},\n",
       " {'dateTime': '05:03:00', 'value': '1'},\n",
       " {'dateTime': '05:04:00', 'value': '1'},\n",
       " {'dateTime': '05:05:00', 'value': '1'},\n",
       " {'dateTime': '05:06:00', 'value': '1'},\n",
       " {'dateTime': '05:07:00', 'value': '1'},\n",
       " {'dateTime': '05:08:00', 'value': '1'},\n",
       " {'dateTime': '05:09:00', 'value': '1'},\n",
       " {'dateTime': '05:10:00', 'value': '1'},\n",
       " {'dateTime': '05:11:00', 'value': '1'},\n",
       " {'dateTime': '05:12:00', 'value': '1'},\n",
       " {'dateTime': '05:13:00', 'value': '1'},\n",
       " {'dateTime': '05:14:00', 'value': '1'},\n",
       " {'dateTime': '05:15:00', 'value': '2'},\n",
       " {'dateTime': '05:16:00', 'value': '1'},\n",
       " {'dateTime': '05:17:00', 'value': '2'},\n",
       " {'dateTime': '05:18:00', 'value': '2'},\n",
       " {'dateTime': '05:19:00', 'value': '1'},\n",
       " {'dateTime': '05:20:00', 'value': '1'},\n",
       " {'dateTime': '05:21:00', 'value': '1'},\n",
       " {'dateTime': '05:22:00', 'value': '1'},\n",
       " {'dateTime': '05:23:00', 'value': '1'},\n",
       " {'dateTime': '05:24:00', 'value': '1'},\n",
       " {'dateTime': '05:25:00', 'value': '1'},\n",
       " {'dateTime': '05:26:00', 'value': '1'},\n",
       " {'dateTime': '05:27:00', 'value': '1'},\n",
       " {'dateTime': '05:28:00', 'value': '1'},\n",
       " {'dateTime': '05:29:00', 'value': '1'},\n",
       " {'dateTime': '05:30:00', 'value': '1'},\n",
       " {'dateTime': '05:31:00', 'value': '1'},\n",
       " {'dateTime': '05:32:00', 'value': '2'},\n",
       " {'dateTime': '05:33:00', 'value': '2'},\n",
       " {'dateTime': '05:34:00', 'value': '1'},\n",
       " {'dateTime': '05:35:00', 'value': '1'},\n",
       " {'dateTime': '05:36:00', 'value': '1'},\n",
       " {'dateTime': '05:37:00', 'value': '1'},\n",
       " {'dateTime': '05:38:00', 'value': '1'},\n",
       " {'dateTime': '05:39:00', 'value': '1'},\n",
       " {'dateTime': '05:40:00', 'value': '1'},\n",
       " {'dateTime': '05:41:00', 'value': '1'},\n",
       " {'dateTime': '05:42:00', 'value': '1'},\n",
       " {'dateTime': '05:43:00', 'value': '1'},\n",
       " {'dateTime': '05:44:00', 'value': '1'},\n",
       " {'dateTime': '05:45:00', 'value': '1'},\n",
       " {'dateTime': '05:46:00', 'value': '2'},\n",
       " {'dateTime': '05:47:00', 'value': '2'},\n",
       " {'dateTime': '05:48:00', 'value': '2'},\n",
       " {'dateTime': '05:49:00', 'value': '2'},\n",
       " {'dateTime': '05:50:00', 'value': '2'},\n",
       " {'dateTime': '05:51:00', 'value': '2'},\n",
       " {'dateTime': '05:52:00', 'value': '2'},\n",
       " {'dateTime': '05:53:00', 'value': '2'},\n",
       " {'dateTime': '05:54:00', 'value': '2'},\n",
       " {'dateTime': '05:55:00', 'value': '2'},\n",
       " {'dateTime': '05:56:00', 'value': '2'},\n",
       " {'dateTime': '05:57:00', 'value': '2'},\n",
       " {'dateTime': '05:58:00', 'value': '2'},\n",
       " {'dateTime': '05:59:00', 'value': '2'},\n",
       " {'dateTime': '06:00:00', 'value': '2'},\n",
       " {'dateTime': '06:01:00', 'value': '2'},\n",
       " {'dateTime': '06:02:00', 'value': '1'},\n",
       " {'dateTime': '06:03:00', 'value': '1'},\n",
       " {'dateTime': '06:04:00', 'value': '1'},\n",
       " {'dateTime': '06:05:00', 'value': '2'},\n",
       " {'dateTime': '06:06:00', 'value': '2'},\n",
       " {'dateTime': '06:07:00', 'value': '2'},\n",
       " {'dateTime': '06:08:00', 'value': '1'},\n",
       " {'dateTime': '06:09:00', 'value': '1'},\n",
       " {'dateTime': '06:10:00', 'value': '2'},\n",
       " {'dateTime': '06:11:00', 'value': '2'},\n",
       " {'dateTime': '06:12:00', 'value': '2'},\n",
       " {'dateTime': '06:13:00', 'value': '2'},\n",
       " {'dateTime': '06:14:00', 'value': '1'},\n",
       " {'dateTime': '06:15:00', 'value': '1'},\n",
       " {'dateTime': '06:16:00', 'value': '1'},\n",
       " {'dateTime': '06:17:00', 'value': '1'},\n",
       " {'dateTime': '06:18:00', 'value': '1'},\n",
       " {'dateTime': '06:19:00', 'value': '1'},\n",
       " {'dateTime': '06:20:00', 'value': '1'},\n",
       " {'dateTime': '06:21:00', 'value': '1'},\n",
       " {'dateTime': '06:22:00', 'value': '1'},\n",
       " {'dateTime': '06:23:00', 'value': '1'},\n",
       " {'dateTime': '06:24:00', 'value': '1'},\n",
       " {'dateTime': '06:25:00', 'value': '1'},\n",
       " {'dateTime': '06:26:00', 'value': '1'},\n",
       " {'dateTime': '06:27:00', 'value': '1'},\n",
       " {'dateTime': '06:28:00', 'value': '1'},\n",
       " {'dateTime': '06:29:00', 'value': '1'},\n",
       " {'dateTime': '06:30:00', 'value': '1'},\n",
       " {'dateTime': '06:31:00', 'value': '1'},\n",
       " {'dateTime': '06:32:00', 'value': '1'},\n",
       " {'dateTime': '06:33:00', 'value': '1'},\n",
       " {'dateTime': '06:34:00', 'value': '1'},\n",
       " {'dateTime': '06:35:00', 'value': '1'},\n",
       " {'dateTime': '06:36:00', 'value': '1'},\n",
       " {'dateTime': '06:37:00', 'value': '1'},\n",
       " {'dateTime': '06:38:00', 'value': '1'},\n",
       " {'dateTime': '06:39:00', 'value': '1'},\n",
       " {'dateTime': '06:40:00', 'value': '1'},\n",
       " {'dateTime': '06:41:00', 'value': '1'},\n",
       " {'dateTime': '06:42:00', 'value': '1'},\n",
       " {'dateTime': '06:43:00', 'value': '1'},\n",
       " {'dateTime': '06:44:00', 'value': '1'},\n",
       " {'dateTime': '06:45:00', 'value': '1'},\n",
       " {'dateTime': '06:46:00', 'value': '1'},\n",
       " {'dateTime': '06:47:00', 'value': '1'},\n",
       " {'dateTime': '06:48:00', 'value': '1'},\n",
       " {'dateTime': '06:49:00', 'value': '1'},\n",
       " {'dateTime': '06:50:00', 'value': '1'},\n",
       " {'dateTime': '06:51:00', 'value': '1'},\n",
       " {'dateTime': '06:52:00', 'value': '1'},\n",
       " {'dateTime': '06:53:00', 'value': '2'},\n",
       " {'dateTime': '06:54:00', 'value': '2'},\n",
       " {'dateTime': '06:55:00', 'value': '1'},\n",
       " {'dateTime': '06:56:00', 'value': '1'},\n",
       " {'dateTime': '06:57:00', 'value': '1'},\n",
       " {'dateTime': '06:58:00', 'value': '1'},\n",
       " {'dateTime': '06:59:00', 'value': '1'},\n",
       " {'dateTime': '07:00:00', 'value': '1'},\n",
       " {'dateTime': '07:01:00', 'value': '1'},\n",
       " {'dateTime': '07:02:00', 'value': '1'},\n",
       " {'dateTime': '07:03:00', 'value': '1'},\n",
       " {'dateTime': '07:04:00', 'value': '1'},\n",
       " {'dateTime': '07:05:00', 'value': '1'},\n",
       " {'dateTime': '07:06:00', 'value': '1'},\n",
       " {'dateTime': '07:07:00', 'value': '1'},\n",
       " {'dateTime': '07:08:00', 'value': '1'},\n",
       " {'dateTime': '07:09:00', 'value': '1'},\n",
       " {'dateTime': '07:10:00', 'value': '1'},\n",
       " {'dateTime': '07:11:00', 'value': '1'},\n",
       " {'dateTime': '07:12:00', 'value': '1'},\n",
       " {'dateTime': '07:13:00', 'value': '1'},\n",
       " {'dateTime': '07:14:00', 'value': '1'},\n",
       " {'dateTime': '07:15:00', 'value': '1'},\n",
       " {'dateTime': '07:16:00', 'value': '1'},\n",
       " {'dateTime': '07:17:00', 'value': '1'},\n",
       " {'dateTime': '07:18:00', 'value': '1'},\n",
       " {'dateTime': '07:19:00', 'value': '1'},\n",
       " {'dateTime': '07:20:00', 'value': '1'},\n",
       " {'dateTime': '07:21:00', 'value': '1'},\n",
       " {'dateTime': '07:22:00', 'value': '1'},\n",
       " {'dateTime': '07:23:00', 'value': '1'},\n",
       " {'dateTime': '07:24:00', 'value': '1'},\n",
       " {'dateTime': '07:25:00', 'value': '1'},\n",
       " {'dateTime': '07:26:00', 'value': '1'},\n",
       " {'dateTime': '07:27:00', 'value': '1'},\n",
       " {'dateTime': '07:28:00', 'value': '1'},\n",
       " {'dateTime': '07:29:00', 'value': '1'},\n",
       " {'dateTime': '07:30:00', 'value': '2'},\n",
       " {'dateTime': '07:31:00', 'value': '2'},\n",
       " {'dateTime': '07:32:00', 'value': '2'},\n",
       " {'dateTime': '07:33:00', 'value': '2'},\n",
       " {'dateTime': '07:34:00', 'value': '1'},\n",
       " {'dateTime': '07:35:00', 'value': '3'}]"
      ]
     },
     "execution_count": 26,
     "metadata": {},
     "output_type": "execute_result"
    }
   ],
   "source": [
    "fit_statsSl['sleep'][0]['minuteData']"
   ]
  },
  {
   "cell_type": "code",
   "execution_count": 27,
   "metadata": {},
   "outputs": [],
   "source": [
    "stime_list = []\n",
    "sval_list = []\n",
    "for i in fit_statsSl['sleep'][0]['minuteData']:\n",
    "    stime_list.append(i['dateTime'])\n",
    "    sval_list.append(i['value'])\n",
    "sleepdf = pd.DataFrame({'State':sval_list,\n",
    "                     'Time':stime_list})"
   ]
  },
  {
   "cell_type": "code",
   "execution_count": 28,
   "metadata": {},
   "outputs": [
    {
     "data": {
      "text/html": [
       "<div>\n",
       "<style scoped>\n",
       "    .dataframe tbody tr th:only-of-type {\n",
       "        vertical-align: middle;\n",
       "    }\n",
       "\n",
       "    .dataframe tbody tr th {\n",
       "        vertical-align: top;\n",
       "    }\n",
       "\n",
       "    .dataframe thead th {\n",
       "        text-align: right;\n",
       "    }\n",
       "</style>\n",
       "<table border=\"1\" class=\"dataframe\">\n",
       "  <thead>\n",
       "    <tr style=\"text-align: right;\">\n",
       "      <th></th>\n",
       "      <th>State</th>\n",
       "      <th>Time</th>\n",
       "    </tr>\n",
       "  </thead>\n",
       "  <tbody>\n",
       "    <tr>\n",
       "      <th>0</th>\n",
       "      <td>1</td>\n",
       "      <td>03:57:00</td>\n",
       "    </tr>\n",
       "    <tr>\n",
       "      <th>1</th>\n",
       "      <td>1</td>\n",
       "      <td>03:58:00</td>\n",
       "    </tr>\n",
       "    <tr>\n",
       "      <th>2</th>\n",
       "      <td>1</td>\n",
       "      <td>03:59:00</td>\n",
       "    </tr>\n",
       "    <tr>\n",
       "      <th>3</th>\n",
       "      <td>1</td>\n",
       "      <td>04:00:00</td>\n",
       "    </tr>\n",
       "    <tr>\n",
       "      <th>4</th>\n",
       "      <td>1</td>\n",
       "      <td>04:01:00</td>\n",
       "    </tr>\n",
       "    <tr>\n",
       "      <th>5</th>\n",
       "      <td>1</td>\n",
       "      <td>04:02:00</td>\n",
       "    </tr>\n",
       "    <tr>\n",
       "      <th>6</th>\n",
       "      <td>1</td>\n",
       "      <td>04:03:00</td>\n",
       "    </tr>\n",
       "    <tr>\n",
       "      <th>7</th>\n",
       "      <td>1</td>\n",
       "      <td>04:04:00</td>\n",
       "    </tr>\n",
       "    <tr>\n",
       "      <th>8</th>\n",
       "      <td>1</td>\n",
       "      <td>04:05:00</td>\n",
       "    </tr>\n",
       "    <tr>\n",
       "      <th>9</th>\n",
       "      <td>1</td>\n",
       "      <td>04:06:00</td>\n",
       "    </tr>\n",
       "    <tr>\n",
       "      <th>10</th>\n",
       "      <td>2</td>\n",
       "      <td>04:07:00</td>\n",
       "    </tr>\n",
       "    <tr>\n",
       "      <th>11</th>\n",
       "      <td>2</td>\n",
       "      <td>04:08:00</td>\n",
       "    </tr>\n",
       "    <tr>\n",
       "      <th>12</th>\n",
       "      <td>2</td>\n",
       "      <td>04:09:00</td>\n",
       "    </tr>\n",
       "    <tr>\n",
       "      <th>13</th>\n",
       "      <td>1</td>\n",
       "      <td>04:10:00</td>\n",
       "    </tr>\n",
       "    <tr>\n",
       "      <th>14</th>\n",
       "      <td>1</td>\n",
       "      <td>04:11:00</td>\n",
       "    </tr>\n",
       "    <tr>\n",
       "      <th>15</th>\n",
       "      <td>1</td>\n",
       "      <td>04:12:00</td>\n",
       "    </tr>\n",
       "    <tr>\n",
       "      <th>16</th>\n",
       "      <td>1</td>\n",
       "      <td>04:13:00</td>\n",
       "    </tr>\n",
       "    <tr>\n",
       "      <th>17</th>\n",
       "      <td>1</td>\n",
       "      <td>04:14:00</td>\n",
       "    </tr>\n",
       "    <tr>\n",
       "      <th>18</th>\n",
       "      <td>1</td>\n",
       "      <td>04:15:00</td>\n",
       "    </tr>\n",
       "    <tr>\n",
       "      <th>19</th>\n",
       "      <td>1</td>\n",
       "      <td>04:16:00</td>\n",
       "    </tr>\n",
       "    <tr>\n",
       "      <th>20</th>\n",
       "      <td>1</td>\n",
       "      <td>04:17:00</td>\n",
       "    </tr>\n",
       "    <tr>\n",
       "      <th>21</th>\n",
       "      <td>1</td>\n",
       "      <td>04:18:00</td>\n",
       "    </tr>\n",
       "    <tr>\n",
       "      <th>22</th>\n",
       "      <td>1</td>\n",
       "      <td>04:19:00</td>\n",
       "    </tr>\n",
       "    <tr>\n",
       "      <th>23</th>\n",
       "      <td>1</td>\n",
       "      <td>04:20:00</td>\n",
       "    </tr>\n",
       "    <tr>\n",
       "      <th>24</th>\n",
       "      <td>1</td>\n",
       "      <td>04:21:00</td>\n",
       "    </tr>\n",
       "    <tr>\n",
       "      <th>25</th>\n",
       "      <td>1</td>\n",
       "      <td>04:22:00</td>\n",
       "    </tr>\n",
       "    <tr>\n",
       "      <th>26</th>\n",
       "      <td>1</td>\n",
       "      <td>04:23:00</td>\n",
       "    </tr>\n",
       "    <tr>\n",
       "      <th>27</th>\n",
       "      <td>1</td>\n",
       "      <td>04:24:00</td>\n",
       "    </tr>\n",
       "    <tr>\n",
       "      <th>28</th>\n",
       "      <td>1</td>\n",
       "      <td>04:25:00</td>\n",
       "    </tr>\n",
       "    <tr>\n",
       "      <th>29</th>\n",
       "      <td>1</td>\n",
       "      <td>04:26:00</td>\n",
       "    </tr>\n",
       "    <tr>\n",
       "      <th>...</th>\n",
       "      <td>...</td>\n",
       "      <td>...</td>\n",
       "    </tr>\n",
       "    <tr>\n",
       "      <th>189</th>\n",
       "      <td>1</td>\n",
       "      <td>07:06:00</td>\n",
       "    </tr>\n",
       "    <tr>\n",
       "      <th>190</th>\n",
       "      <td>1</td>\n",
       "      <td>07:07:00</td>\n",
       "    </tr>\n",
       "    <tr>\n",
       "      <th>191</th>\n",
       "      <td>1</td>\n",
       "      <td>07:08:00</td>\n",
       "    </tr>\n",
       "    <tr>\n",
       "      <th>192</th>\n",
       "      <td>1</td>\n",
       "      <td>07:09:00</td>\n",
       "    </tr>\n",
       "    <tr>\n",
       "      <th>193</th>\n",
       "      <td>1</td>\n",
       "      <td>07:10:00</td>\n",
       "    </tr>\n",
       "    <tr>\n",
       "      <th>194</th>\n",
       "      <td>1</td>\n",
       "      <td>07:11:00</td>\n",
       "    </tr>\n",
       "    <tr>\n",
       "      <th>195</th>\n",
       "      <td>1</td>\n",
       "      <td>07:12:00</td>\n",
       "    </tr>\n",
       "    <tr>\n",
       "      <th>196</th>\n",
       "      <td>1</td>\n",
       "      <td>07:13:00</td>\n",
       "    </tr>\n",
       "    <tr>\n",
       "      <th>197</th>\n",
       "      <td>1</td>\n",
       "      <td>07:14:00</td>\n",
       "    </tr>\n",
       "    <tr>\n",
       "      <th>198</th>\n",
       "      <td>1</td>\n",
       "      <td>07:15:00</td>\n",
       "    </tr>\n",
       "    <tr>\n",
       "      <th>199</th>\n",
       "      <td>1</td>\n",
       "      <td>07:16:00</td>\n",
       "    </tr>\n",
       "    <tr>\n",
       "      <th>200</th>\n",
       "      <td>1</td>\n",
       "      <td>07:17:00</td>\n",
       "    </tr>\n",
       "    <tr>\n",
       "      <th>201</th>\n",
       "      <td>1</td>\n",
       "      <td>07:18:00</td>\n",
       "    </tr>\n",
       "    <tr>\n",
       "      <th>202</th>\n",
       "      <td>1</td>\n",
       "      <td>07:19:00</td>\n",
       "    </tr>\n",
       "    <tr>\n",
       "      <th>203</th>\n",
       "      <td>1</td>\n",
       "      <td>07:20:00</td>\n",
       "    </tr>\n",
       "    <tr>\n",
       "      <th>204</th>\n",
       "      <td>1</td>\n",
       "      <td>07:21:00</td>\n",
       "    </tr>\n",
       "    <tr>\n",
       "      <th>205</th>\n",
       "      <td>1</td>\n",
       "      <td>07:22:00</td>\n",
       "    </tr>\n",
       "    <tr>\n",
       "      <th>206</th>\n",
       "      <td>1</td>\n",
       "      <td>07:23:00</td>\n",
       "    </tr>\n",
       "    <tr>\n",
       "      <th>207</th>\n",
       "      <td>1</td>\n",
       "      <td>07:24:00</td>\n",
       "    </tr>\n",
       "    <tr>\n",
       "      <th>208</th>\n",
       "      <td>1</td>\n",
       "      <td>07:25:00</td>\n",
       "    </tr>\n",
       "    <tr>\n",
       "      <th>209</th>\n",
       "      <td>1</td>\n",
       "      <td>07:26:00</td>\n",
       "    </tr>\n",
       "    <tr>\n",
       "      <th>210</th>\n",
       "      <td>1</td>\n",
       "      <td>07:27:00</td>\n",
       "    </tr>\n",
       "    <tr>\n",
       "      <th>211</th>\n",
       "      <td>1</td>\n",
       "      <td>07:28:00</td>\n",
       "    </tr>\n",
       "    <tr>\n",
       "      <th>212</th>\n",
       "      <td>1</td>\n",
       "      <td>07:29:00</td>\n",
       "    </tr>\n",
       "    <tr>\n",
       "      <th>213</th>\n",
       "      <td>2</td>\n",
       "      <td>07:30:00</td>\n",
       "    </tr>\n",
       "    <tr>\n",
       "      <th>214</th>\n",
       "      <td>2</td>\n",
       "      <td>07:31:00</td>\n",
       "    </tr>\n",
       "    <tr>\n",
       "      <th>215</th>\n",
       "      <td>2</td>\n",
       "      <td>07:32:00</td>\n",
       "    </tr>\n",
       "    <tr>\n",
       "      <th>216</th>\n",
       "      <td>2</td>\n",
       "      <td>07:33:00</td>\n",
       "    </tr>\n",
       "    <tr>\n",
       "      <th>217</th>\n",
       "      <td>1</td>\n",
       "      <td>07:34:00</td>\n",
       "    </tr>\n",
       "    <tr>\n",
       "      <th>218</th>\n",
       "      <td>3</td>\n",
       "      <td>07:35:00</td>\n",
       "    </tr>\n",
       "  </tbody>\n",
       "</table>\n",
       "<p>219 rows × 2 columns</p>\n",
       "</div>"
      ],
      "text/plain": [
       "    State      Time\n",
       "0       1  03:57:00\n",
       "1       1  03:58:00\n",
       "2       1  03:59:00\n",
       "3       1  04:00:00\n",
       "4       1  04:01:00\n",
       "..    ...       ...\n",
       "214     2  07:31:00\n",
       "215     2  07:32:00\n",
       "216     2  07:33:00\n",
       "217     1  07:34:00\n",
       "218     3  07:35:00\n",
       "\n",
       "[219 rows x 2 columns]"
      ]
     },
     "execution_count": 28,
     "metadata": {},
     "output_type": "execute_result"
    }
   ],
   "source": [
    "sleepdf"
   ]
  },
  {
   "cell_type": "code",
   "execution_count": 3,
   "metadata": {},
   "outputs": [
    {
     "name": "stderr",
     "output_type": "stream",
     "text": [
      "[14/Sep/2019:14:58:01] ENGINE Listening for SIGTERM.\n",
      "[14/Sep/2019:14:58:01] ENGINE Bus STARTING\n",
      "CherryPy Checker:\n",
      "The Application mounted at '' has an empty config.\n",
      "\n",
      "[14/Sep/2019:14:58:01] ENGINE Set handler for console events.\n",
      "[14/Sep/2019:14:58:01] ENGINE Started monitor thread 'Autoreloader'.\n",
      "[14/Sep/2019:14:58:01] ENGINE Serving on http://127.0.0.1:8080\n",
      "[14/Sep/2019:14:58:01] ENGINE Bus STARTED\n"
     ]
    },
    {
     "name": "stdout",
     "output_type": "stream",
     "text": [
      "127.0.0.1 - - [14/Sep/2019:14:58:03] \"GET /?code=8f52cedf5b2139cf7e00e8737920596baa005665&state=1z0oAqVCE9nWJvRtW4ovLv8QdurY8f HTTP/1.1\" 200 122 \"\" \"Mozilla/5.0 (Windows NT 10.0; Win64; x64) AppleWebKit/537.36 (KHTML, like Gecko) Chrome/76.0.3809.132 Safari/537.36\"\n"
     ]
    },
    {
     "name": "stderr",
     "output_type": "stream",
     "text": [
      "[14/Sep/2019:14:58:04] ENGINE Bus STOPPING\n",
      "[14/Sep/2019:14:58:13] ENGINE HTTP Server cherrypy._cpwsgi_server.CPWSGIServer(('127.0.0.1', 8080)) shut down\n",
      "[14/Sep/2019:14:58:13] ENGINE Removed handler for console events.\n",
      "[14/Sep/2019:14:58:13] ENGINE Stopped thread 'Autoreloader'.\n",
      "[14/Sep/2019:14:58:13] ENGINE Bus STOPPED\n",
      "[14/Sep/2019:14:58:13] ENGINE Bus EXITING\n",
      "[14/Sep/2019:14:58:13] ENGINE Waiting for child threads to terminate...\n",
      "[14/Sep/2019:14:58:13] ENGINE Bus EXITED\n",
      "[14/Sep/2019:14:58:13] ENGINE Waiting for thread Thread-19.\n"
     ]
    },
    {
     "name": "stdout",
     "output_type": "stream",
     "text": [
      "{'body': {'bmi': 0, 'fat': 0, 'weight': 0}}\n"
     ]
    }
   ],
   "source": [
    "# Source: https://towardsdatascience.com/collect-your-own-fitbit-data-with-python-ff145fa10873\n",
    "# Getting familiar with fitbit API\n",
    "# Kaivan Taylor\n",
    "\n",
    "import fitbit\n",
    "import gather_keys_oauth2 as Oauth2\n",
    "import pandas as pd\n",
    "import datetime\n",
    "from secret import fb_CLIENT_ID,fb_CLIENT_SECRET\n",
    "\n",
    "CLIENT_ID = fb_CLIENT_ID\n",
    "CLIENT_SECRET = fb_CLIENT_SECRET\n",
    "\n",
    "server = Oauth2.OAuth2Server(CLIENT_ID, CLIENT_SECRET)\n",
    "server.browser_authorize()\n",
    "\n",
    "ACCESS_TOKEN = str(server.fitbit.client.session.token['access_token'])\n",
    "REFRESH_TOKEN = str(server.fitbit.client.session.token['refresh_token'])\n",
    "\n",
    "auth2_client = fitbit.Fitbit(CLIENT_ID, CLIENT_SECRET, oauth2=True, access_token=ACCESS_TOKEN, refresh_token=REFRESH_TOKEN)\n",
    "\n",
    "yesterday = str((datetime.datetime.now() - datetime.timedelta(days=1)).strftime(\"%Y%m%d\"))\n",
    "yesterday2 = str((datetime.datetime.now() - datetime.timedelta(days=1)).strftime(\"%Y-%m-%d\"))\n",
    "today = str(datetime.datetime.now().strftime(\"%Y%m%d\"))\n",
    "\n",
    "_001fb = auth2_client.body()\n",
    "print(_001fb)\n"
   ]
  },
  {
   "cell_type": "code",
   "execution_count": 4,
   "metadata": {},
   "outputs": [
    {
     "name": "stdout",
     "output_type": "stream",
     "text": [
      "{'activities': [], 'goals': {'activeMinutes': 30, 'caloriesOut': 2689, 'distance': 5, 'floors': 10, 'steps': 10000}, 'summary': {'activeScore': -1, 'activityCalories': 321, 'caloriesBMR': 975, 'caloriesOut': 1308, 'distances': [{'activity': 'total', 'distance': 1.14}, {'activity': 'tracker', 'distance': 1.14}, {'activity': 'loggedActivities', 'distance': 0}, {'activity': 'veryActive', 'distance': 0.21}, {'activity': 'moderatelyActive', 'distance': 0.13}, {'activity': 'lightlyActive', 'distance': 0.77}, {'activity': 'sedentaryActive', 'distance': 0}], 'elevation': 90, 'fairlyActiveMinutes': 6, 'floors': 9, 'heartRateZones': [{'caloriesOut': 889.663, 'max': 100, 'min': 30, 'minutes': 632, 'name': 'Out of Range'}, {'caloriesOut': 151.1238, 'max': 140, 'min': 100, 'minutes': 34, 'name': 'Fat Burn'}, {'caloriesOut': 0, 'max': 170, 'min': 140, 'minutes': 0, 'name': 'Cardio'}, {'caloriesOut': 0, 'max': 220, 'min': 170, 'minutes': 0, 'name': 'Peak'}], 'lightlyActiveMinutes': 64, 'marginalCalories': 178, 'restingHeartRate': 79, 'sedentaryMinutes': 607, 'steps': 2732, 'veryActiveMinutes': 6}}\n"
     ]
    }
   ],
   "source": [
    "_001fb = auth2_client.activities()\n",
    "print(_001fb)"
   ]
  },
  {
   "cell_type": "code",
   "execution_count": 5,
   "metadata": {},
   "outputs": [
    {
     "name": "stdout",
     "output_type": "stream",
     "text": [
      "{'foods': [], 'summary': {'calories': 0, 'carbs': 0, 'fat': 0, 'fiber': 0, 'protein': 0, 'sodium': 0, 'water': 0}}\n"
     ]
    }
   ],
   "source": [
    "_001fb = auth2_client.foods_log()\n",
    "print(_001fb)"
   ]
  },
  {
   "cell_type": "code",
   "execution_count": 6,
   "metadata": {},
   "outputs": [
    {
     "name": "stdout",
     "output_type": "stream",
     "text": [
      "{'summary': {'water': 0}, 'water': []}\n"
     ]
    }
   ],
   "source": [
    "_001fb = auth2_client.foods_log_water()\n",
    "print(_001fb)"
   ]
  },
  {
   "cell_type": "code",
   "execution_count": 7,
   "metadata": {},
   "outputs": [
    {
     "name": "stdout",
     "output_type": "stream",
     "text": [
      "{'sleep': [{'awakeCount': 1, 'awakeDuration': 3, 'awakeningsCount': 9, 'dateOfSleep': '2019-09-14', 'duration': 13140000, 'efficiency': 83, 'endTime': '2019-09-14T07:36:30.000', 'isMainSleep': True, 'logId': 23867907439, 'minuteData': [{'dateTime': '03:57:00', 'value': '1'}, {'dateTime': '03:58:00', 'value': '1'}, {'dateTime': '03:59:00', 'value': '1'}, {'dateTime': '04:00:00', 'value': '1'}, {'dateTime': '04:01:00', 'value': '1'}, {'dateTime': '04:02:00', 'value': '1'}, {'dateTime': '04:03:00', 'value': '1'}, {'dateTime': '04:04:00', 'value': '1'}, {'dateTime': '04:05:00', 'value': '1'}, {'dateTime': '04:06:00', 'value': '1'}, {'dateTime': '04:07:00', 'value': '2'}, {'dateTime': '04:08:00', 'value': '2'}, {'dateTime': '04:09:00', 'value': '2'}, {'dateTime': '04:10:00', 'value': '1'}, {'dateTime': '04:11:00', 'value': '1'}, {'dateTime': '04:12:00', 'value': '1'}, {'dateTime': '04:13:00', 'value': '1'}, {'dateTime': '04:14:00', 'value': '1'}, {'dateTime': '04:15:00', 'value': '1'}, {'dateTime': '04:16:00', 'value': '1'}, {'dateTime': '04:17:00', 'value': '1'}, {'dateTime': '04:18:00', 'value': '1'}, {'dateTime': '04:19:00', 'value': '1'}, {'dateTime': '04:20:00', 'value': '1'}, {'dateTime': '04:21:00', 'value': '1'}, {'dateTime': '04:22:00', 'value': '1'}, {'dateTime': '04:23:00', 'value': '1'}, {'dateTime': '04:24:00', 'value': '1'}, {'dateTime': '04:25:00', 'value': '1'}, {'dateTime': '04:26:00', 'value': '1'}, {'dateTime': '04:27:00', 'value': '1'}, {'dateTime': '04:28:00', 'value': '1'}, {'dateTime': '04:29:00', 'value': '1'}, {'dateTime': '04:30:00', 'value': '1'}, {'dateTime': '04:31:00', 'value': '1'}, {'dateTime': '04:32:00', 'value': '1'}, {'dateTime': '04:33:00', 'value': '1'}, {'dateTime': '04:34:00', 'value': '1'}, {'dateTime': '04:35:00', 'value': '1'}, {'dateTime': '04:36:00', 'value': '1'}, {'dateTime': '04:37:00', 'value': '1'}, {'dateTime': '04:38:00', 'value': '1'}, {'dateTime': '04:39:00', 'value': '1'}, {'dateTime': '04:40:00', 'value': '1'}, {'dateTime': '04:41:00', 'value': '1'}, {'dateTime': '04:42:00', 'value': '1'}, {'dateTime': '04:43:00', 'value': '1'}, {'dateTime': '04:44:00', 'value': '1'}, {'dateTime': '04:45:00', 'value': '1'}, {'dateTime': '04:46:00', 'value': '1'}, {'dateTime': '04:47:00', 'value': '1'}, {'dateTime': '04:48:00', 'value': '1'}, {'dateTime': '04:49:00', 'value': '1'}, {'dateTime': '04:50:00', 'value': '1'}, {'dateTime': '04:51:00', 'value': '1'}, {'dateTime': '04:52:00', 'value': '1'}, {'dateTime': '04:53:00', 'value': '1'}, {'dateTime': '04:54:00', 'value': '1'}, {'dateTime': '04:55:00', 'value': '1'}, {'dateTime': '04:56:00', 'value': '1'}, {'dateTime': '04:57:00', 'value': '1'}, {'dateTime': '04:58:00', 'value': '1'}, {'dateTime': '04:59:00', 'value': '1'}, {'dateTime': '05:00:00', 'value': '1'}, {'dateTime': '05:01:00', 'value': '1'}, {'dateTime': '05:02:00', 'value': '1'}, {'dateTime': '05:03:00', 'value': '1'}, {'dateTime': '05:04:00', 'value': '1'}, {'dateTime': '05:05:00', 'value': '1'}, {'dateTime': '05:06:00', 'value': '1'}, {'dateTime': '05:07:00', 'value': '1'}, {'dateTime': '05:08:00', 'value': '1'}, {'dateTime': '05:09:00', 'value': '1'}, {'dateTime': '05:10:00', 'value': '1'}, {'dateTime': '05:11:00', 'value': '1'}, {'dateTime': '05:12:00', 'value': '1'}, {'dateTime': '05:13:00', 'value': '1'}, {'dateTime': '05:14:00', 'value': '1'}, {'dateTime': '05:15:00', 'value': '2'}, {'dateTime': '05:16:00', 'value': '1'}, {'dateTime': '05:17:00', 'value': '2'}, {'dateTime': '05:18:00', 'value': '2'}, {'dateTime': '05:19:00', 'value': '1'}, {'dateTime': '05:20:00', 'value': '1'}, {'dateTime': '05:21:00', 'value': '1'}, {'dateTime': '05:22:00', 'value': '1'}, {'dateTime': '05:23:00', 'value': '1'}, {'dateTime': '05:24:00', 'value': '1'}, {'dateTime': '05:25:00', 'value': '1'}, {'dateTime': '05:26:00', 'value': '1'}, {'dateTime': '05:27:00', 'value': '1'}, {'dateTime': '05:28:00', 'value': '1'}, {'dateTime': '05:29:00', 'value': '1'}, {'dateTime': '05:30:00', 'value': '1'}, {'dateTime': '05:31:00', 'value': '1'}, {'dateTime': '05:32:00', 'value': '2'}, {'dateTime': '05:33:00', 'value': '2'}, {'dateTime': '05:34:00', 'value': '1'}, {'dateTime': '05:35:00', 'value': '1'}, {'dateTime': '05:36:00', 'value': '1'}, {'dateTime': '05:37:00', 'value': '1'}, {'dateTime': '05:38:00', 'value': '1'}, {'dateTime': '05:39:00', 'value': '1'}, {'dateTime': '05:40:00', 'value': '1'}, {'dateTime': '05:41:00', 'value': '1'}, {'dateTime': '05:42:00', 'value': '1'}, {'dateTime': '05:43:00', 'value': '1'}, {'dateTime': '05:44:00', 'value': '1'}, {'dateTime': '05:45:00', 'value': '1'}, {'dateTime': '05:46:00', 'value': '2'}, {'dateTime': '05:47:00', 'value': '2'}, {'dateTime': '05:48:00', 'value': '2'}, {'dateTime': '05:49:00', 'value': '2'}, {'dateTime': '05:50:00', 'value': '2'}, {'dateTime': '05:51:00', 'value': '2'}, {'dateTime': '05:52:00', 'value': '2'}, {'dateTime': '05:53:00', 'value': '2'}, {'dateTime': '05:54:00', 'value': '2'}, {'dateTime': '05:55:00', 'value': '2'}, {'dateTime': '05:56:00', 'value': '2'}, {'dateTime': '05:57:00', 'value': '2'}, {'dateTime': '05:58:00', 'value': '2'}, {'dateTime': '05:59:00', 'value': '2'}, {'dateTime': '06:00:00', 'value': '2'}, {'dateTime': '06:01:00', 'value': '2'}, {'dateTime': '06:02:00', 'value': '1'}, {'dateTime': '06:03:00', 'value': '1'}, {'dateTime': '06:04:00', 'value': '1'}, {'dateTime': '06:05:00', 'value': '2'}, {'dateTime': '06:06:00', 'value': '2'}, {'dateTime': '06:07:00', 'value': '2'}, {'dateTime': '06:08:00', 'value': '1'}, {'dateTime': '06:09:00', 'value': '1'}, {'dateTime': '06:10:00', 'value': '2'}, {'dateTime': '06:11:00', 'value': '2'}, {'dateTime': '06:12:00', 'value': '2'}, {'dateTime': '06:13:00', 'value': '2'}, {'dateTime': '06:14:00', 'value': '1'}, {'dateTime': '06:15:00', 'value': '1'}, {'dateTime': '06:16:00', 'value': '1'}, {'dateTime': '06:17:00', 'value': '1'}, {'dateTime': '06:18:00', 'value': '1'}, {'dateTime': '06:19:00', 'value': '1'}, {'dateTime': '06:20:00', 'value': '1'}, {'dateTime': '06:21:00', 'value': '1'}, {'dateTime': '06:22:00', 'value': '1'}, {'dateTime': '06:23:00', 'value': '1'}, {'dateTime': '06:24:00', 'value': '1'}, {'dateTime': '06:25:00', 'value': '1'}, {'dateTime': '06:26:00', 'value': '1'}, {'dateTime': '06:27:00', 'value': '1'}, {'dateTime': '06:28:00', 'value': '1'}, {'dateTime': '06:29:00', 'value': '1'}, {'dateTime': '06:30:00', 'value': '1'}, {'dateTime': '06:31:00', 'value': '1'}, {'dateTime': '06:32:00', 'value': '1'}, {'dateTime': '06:33:00', 'value': '1'}, {'dateTime': '06:34:00', 'value': '1'}, {'dateTime': '06:35:00', 'value': '1'}, {'dateTime': '06:36:00', 'value': '1'}, {'dateTime': '06:37:00', 'value': '1'}, {'dateTime': '06:38:00', 'value': '1'}, {'dateTime': '06:39:00', 'value': '1'}, {'dateTime': '06:40:00', 'value': '1'}, {'dateTime': '06:41:00', 'value': '1'}, {'dateTime': '06:42:00', 'value': '1'}, {'dateTime': '06:43:00', 'value': '1'}, {'dateTime': '06:44:00', 'value': '1'}, {'dateTime': '06:45:00', 'value': '1'}, {'dateTime': '06:46:00', 'value': '1'}, {'dateTime': '06:47:00', 'value': '1'}, {'dateTime': '06:48:00', 'value': '1'}, {'dateTime': '06:49:00', 'value': '1'}, {'dateTime': '06:50:00', 'value': '1'}, {'dateTime': '06:51:00', 'value': '1'}, {'dateTime': '06:52:00', 'value': '1'}, {'dateTime': '06:53:00', 'value': '2'}, {'dateTime': '06:54:00', 'value': '2'}, {'dateTime': '06:55:00', 'value': '1'}, {'dateTime': '06:56:00', 'value': '1'}, {'dateTime': '06:57:00', 'value': '1'}, {'dateTime': '06:58:00', 'value': '1'}, {'dateTime': '06:59:00', 'value': '1'}, {'dateTime': '07:00:00', 'value': '1'}, {'dateTime': '07:01:00', 'value': '1'}, {'dateTime': '07:02:00', 'value': '1'}, {'dateTime': '07:03:00', 'value': '1'}, {'dateTime': '07:04:00', 'value': '1'}, {'dateTime': '07:05:00', 'value': '1'}, {'dateTime': '07:06:00', 'value': '1'}, {'dateTime': '07:07:00', 'value': '1'}, {'dateTime': '07:08:00', 'value': '1'}, {'dateTime': '07:09:00', 'value': '1'}, {'dateTime': '07:10:00', 'value': '1'}, {'dateTime': '07:11:00', 'value': '1'}, {'dateTime': '07:12:00', 'value': '1'}, {'dateTime': '07:13:00', 'value': '1'}, {'dateTime': '07:14:00', 'value': '1'}, {'dateTime': '07:15:00', 'value': '1'}, {'dateTime': '07:16:00', 'value': '1'}, {'dateTime': '07:17:00', 'value': '1'}, {'dateTime': '07:18:00', 'value': '1'}, {'dateTime': '07:19:00', 'value': '1'}, {'dateTime': '07:20:00', 'value': '1'}, {'dateTime': '07:21:00', 'value': '1'}, {'dateTime': '07:22:00', 'value': '1'}, {'dateTime': '07:23:00', 'value': '1'}, {'dateTime': '07:24:00', 'value': '1'}, {'dateTime': '07:25:00', 'value': '1'}, {'dateTime': '07:26:00', 'value': '1'}, {'dateTime': '07:27:00', 'value': '1'}, {'dateTime': '07:28:00', 'value': '1'}, {'dateTime': '07:29:00', 'value': '1'}, {'dateTime': '07:30:00', 'value': '2'}, {'dateTime': '07:31:00', 'value': '2'}, {'dateTime': '07:32:00', 'value': '2'}, {'dateTime': '07:33:00', 'value': '2'}, {'dateTime': '07:34:00', 'value': '1'}, {'dateTime': '07:35:00', 'value': '3'}], 'minutesAfterWakeup': 1, 'minutesAsleep': 176, 'minutesAwake': 37, 'minutesToFallAsleep': 0, 'restlessCount': 8, 'restlessDuration': 22, 'startTime': '2019-09-14T03:57:00.000', 'timeInBed': 219}], 'summary': {'stages': {'deep': 51, 'light': 110, 'rem': 24, 'wake': 34}, 'totalMinutesAsleep': 176, 'totalSleepRecords': 1, 'totalTimeInBed': 219}}\n"
     ]
    }
   ],
   "source": [
    "_001fb = auth2_client.sleep()\n",
    "print(_001fb)"
   ]
  },
  {
   "cell_type": "code",
   "execution_count": 8,
   "metadata": {},
   "outputs": [
    {
     "ename": "HTTPNotFound",
     "evalue": "The API you are requesting could not be found.",
     "output_type": "error",
     "traceback": [
      "\u001b[1;31m---------------------------------------------------------------------------\u001b[0m",
      "\u001b[1;31mHTTPNotFound\u001b[0m                              Traceback (most recent call last)",
      "\u001b[1;32m<ipython-input-8-7d63980ffdf4>\u001b[0m in \u001b[0;36m<module>\u001b[1;34m\u001b[0m\n\u001b[1;32m----> 1\u001b[1;33m \u001b[0m_001fb\u001b[0m \u001b[1;33m=\u001b[0m \u001b[0mauth2_client\u001b[0m\u001b[1;33m.\u001b[0m\u001b[0mheart\u001b[0m\u001b[1;33m(\u001b[0m\u001b[1;33m)\u001b[0m\u001b[1;33m\u001b[0m\u001b[1;33m\u001b[0m\u001b[0m\n\u001b[0m\u001b[0;32m      2\u001b[0m \u001b[0mprint\u001b[0m\u001b[1;33m(\u001b[0m\u001b[0m_001fb\u001b[0m\u001b[1;33m)\u001b[0m\u001b[1;33m\u001b[0m\u001b[1;33m\u001b[0m\u001b[0m\n",
      "\u001b[1;32mc:\\users\\speedykai\\appdata\\local\\programs\\python\\python36-32\\lib\\site-packages\\fitbit\\utils.py\u001b[0m in \u001b[0;36m_curried\u001b[1;34m(*moreargs, **morekwargs)\u001b[0m\n\u001b[0;32m     36\u001b[0m \u001b[1;32mdef\u001b[0m \u001b[0mcurry\u001b[0m\u001b[1;33m(\u001b[0m\u001b[0m_curried_func\u001b[0m\u001b[1;33m,\u001b[0m \u001b[1;33m*\u001b[0m\u001b[0margs\u001b[0m\u001b[1;33m,\u001b[0m \u001b[1;33m**\u001b[0m\u001b[0mkwargs\u001b[0m\u001b[1;33m)\u001b[0m\u001b[1;33m:\u001b[0m\u001b[1;33m\u001b[0m\u001b[1;33m\u001b[0m\u001b[0m\n\u001b[0;32m     37\u001b[0m     \u001b[1;32mdef\u001b[0m \u001b[0m_curried\u001b[0m\u001b[1;33m(\u001b[0m\u001b[1;33m*\u001b[0m\u001b[0mmoreargs\u001b[0m\u001b[1;33m,\u001b[0m \u001b[1;33m**\u001b[0m\u001b[0mmorekwargs\u001b[0m\u001b[1;33m)\u001b[0m\u001b[1;33m:\u001b[0m\u001b[1;33m\u001b[0m\u001b[1;33m\u001b[0m\u001b[0m\n\u001b[1;32m---> 38\u001b[1;33m         \u001b[1;32mreturn\u001b[0m \u001b[0m_curried_func\u001b[0m\u001b[1;33m(\u001b[0m\u001b[1;33m*\u001b[0m\u001b[1;33m(\u001b[0m\u001b[0margs\u001b[0m\u001b[1;33m+\u001b[0m\u001b[0mmoreargs\u001b[0m\u001b[1;33m)\u001b[0m\u001b[1;33m,\u001b[0m \u001b[1;33m**\u001b[0m\u001b[0mdict\u001b[0m\u001b[1;33m(\u001b[0m\u001b[0mkwargs\u001b[0m\u001b[1;33m,\u001b[0m \u001b[1;33m**\u001b[0m\u001b[0mmorekwargs\u001b[0m\u001b[1;33m)\u001b[0m\u001b[1;33m)\u001b[0m\u001b[1;33m\u001b[0m\u001b[1;33m\u001b[0m\u001b[0m\n\u001b[0m\u001b[0;32m     39\u001b[0m     \u001b[1;32mreturn\u001b[0m \u001b[0m_curried\u001b[0m\u001b[1;33m\u001b[0m\u001b[1;33m\u001b[0m\u001b[0m\n",
      "\u001b[1;32mc:\\users\\speedykai\\appdata\\local\\programs\\python\\python36-32\\lib\\site-packages\\fitbit\\api.py\u001b[0m in \u001b[0;36m_COLLECTION_RESOURCE\u001b[1;34m(self, resource, date, user_id, data)\u001b[0m\n\u001b[0;32m    346\u001b[0m             \u001b[0mbase_url\u001b[0m \u001b[1;33m=\u001b[0m \u001b[1;34m\"{0}/{1}/user/{2}/{resource}.json\"\u001b[0m\u001b[1;33m\u001b[0m\u001b[1;33m\u001b[0m\u001b[0m\n\u001b[0;32m    347\u001b[0m         \u001b[0murl\u001b[0m \u001b[1;33m=\u001b[0m \u001b[0mbase_url\u001b[0m\u001b[1;33m.\u001b[0m\u001b[0mformat\u001b[0m\u001b[1;33m(\u001b[0m\u001b[1;33m*\u001b[0m\u001b[0mself\u001b[0m\u001b[1;33m.\u001b[0m\u001b[0m_get_common_args\u001b[0m\u001b[1;33m(\u001b[0m\u001b[0muser_id\u001b[0m\u001b[1;33m)\u001b[0m\u001b[1;33m,\u001b[0m \u001b[1;33m**\u001b[0m\u001b[0mkwargs\u001b[0m\u001b[1;33m)\u001b[0m\u001b[1;33m\u001b[0m\u001b[1;33m\u001b[0m\u001b[0m\n\u001b[1;32m--> 348\u001b[1;33m         \u001b[1;32mreturn\u001b[0m \u001b[0mself\u001b[0m\u001b[1;33m.\u001b[0m\u001b[0mmake_request\u001b[0m\u001b[1;33m(\u001b[0m\u001b[0murl\u001b[0m\u001b[1;33m,\u001b[0m \u001b[0mdata\u001b[0m\u001b[1;33m)\u001b[0m\u001b[1;33m\u001b[0m\u001b[1;33m\u001b[0m\u001b[0m\n\u001b[0m\u001b[0;32m    349\u001b[0m \u001b[1;33m\u001b[0m\u001b[0m\n\u001b[0;32m    350\u001b[0m     \u001b[1;32mdef\u001b[0m \u001b[0m_DELETE_COLLECTION_RESOURCE\u001b[0m\u001b[1;33m(\u001b[0m\u001b[0mself\u001b[0m\u001b[1;33m,\u001b[0m \u001b[0mresource\u001b[0m\u001b[1;33m,\u001b[0m \u001b[0mlog_id\u001b[0m\u001b[1;33m)\u001b[0m\u001b[1;33m:\u001b[0m\u001b[1;33m\u001b[0m\u001b[1;33m\u001b[0m\u001b[0m\n",
      "\u001b[1;32mc:\\users\\speedykai\\appdata\\local\\programs\\python\\python36-32\\lib\\site-packages\\fitbit\\api.py\u001b[0m in \u001b[0;36mmake_request\u001b[1;34m(self, *args, **kwargs)\u001b[0m\n\u001b[0;32m    254\u001b[0m \u001b[1;33m\u001b[0m\u001b[0m\n\u001b[0;32m    255\u001b[0m         \u001b[0mmethod\u001b[0m \u001b[1;33m=\u001b[0m \u001b[0mkwargs\u001b[0m\u001b[1;33m.\u001b[0m\u001b[0mget\u001b[0m\u001b[1;33m(\u001b[0m\u001b[1;34m'method'\u001b[0m\u001b[1;33m,\u001b[0m \u001b[1;34m'POST'\u001b[0m \u001b[1;32mif\u001b[0m \u001b[1;34m'data'\u001b[0m \u001b[1;32min\u001b[0m \u001b[0mkwargs\u001b[0m \u001b[1;32melse\u001b[0m \u001b[1;34m'GET'\u001b[0m\u001b[1;33m)\u001b[0m\u001b[1;33m\u001b[0m\u001b[1;33m\u001b[0m\u001b[0m\n\u001b[1;32m--> 256\u001b[1;33m         \u001b[0mresponse\u001b[0m \u001b[1;33m=\u001b[0m \u001b[0mself\u001b[0m\u001b[1;33m.\u001b[0m\u001b[0mclient\u001b[0m\u001b[1;33m.\u001b[0m\u001b[0mmake_request\u001b[0m\u001b[1;33m(\u001b[0m\u001b[1;33m*\u001b[0m\u001b[0margs\u001b[0m\u001b[1;33m,\u001b[0m \u001b[1;33m**\u001b[0m\u001b[0mkwargs\u001b[0m\u001b[1;33m)\u001b[0m\u001b[1;33m\u001b[0m\u001b[1;33m\u001b[0m\u001b[0m\n\u001b[0m\u001b[0;32m    257\u001b[0m \u001b[1;33m\u001b[0m\u001b[0m\n\u001b[0;32m    258\u001b[0m         \u001b[1;32mif\u001b[0m \u001b[0mresponse\u001b[0m\u001b[1;33m.\u001b[0m\u001b[0mstatus_code\u001b[0m \u001b[1;33m==\u001b[0m \u001b[1;36m202\u001b[0m\u001b[1;33m:\u001b[0m\u001b[1;33m\u001b[0m\u001b[1;33m\u001b[0m\u001b[0m\n",
      "\u001b[1;32mc:\\users\\speedykai\\appdata\\local\\programs\\python\\python36-32\\lib\\site-packages\\fitbit\\api.py\u001b[0m in \u001b[0;36mmake_request\u001b[1;34m(self, url, data, method, **kwargs)\u001b[0m\n\u001b[0;32m     97\u001b[0m         )\n\u001b[0;32m     98\u001b[0m \u001b[1;33m\u001b[0m\u001b[0m\n\u001b[1;32m---> 99\u001b[1;33m         \u001b[0mexceptions\u001b[0m\u001b[1;33m.\u001b[0m\u001b[0mdetect_and_raise_error\u001b[0m\u001b[1;33m(\u001b[0m\u001b[0mresponse\u001b[0m\u001b[1;33m)\u001b[0m\u001b[1;33m\u001b[0m\u001b[1;33m\u001b[0m\u001b[0m\n\u001b[0m\u001b[0;32m    100\u001b[0m \u001b[1;33m\u001b[0m\u001b[0m\n\u001b[0;32m    101\u001b[0m         \u001b[1;32mreturn\u001b[0m \u001b[0mresponse\u001b[0m\u001b[1;33m\u001b[0m\u001b[1;33m\u001b[0m\u001b[0m\n",
      "\u001b[1;32mc:\\users\\speedykai\\appdata\\local\\programs\\python\\python36-32\\lib\\site-packages\\fitbit\\exceptions.py\u001b[0m in \u001b[0;36mdetect_and_raise_error\u001b[1;34m(response)\u001b[0m\n\u001b[0;32m     84\u001b[0m         \u001b[1;32mraise\u001b[0m \u001b[0mHTTPForbidden\u001b[0m\u001b[1;33m(\u001b[0m\u001b[0mresponse\u001b[0m\u001b[1;33m)\u001b[0m\u001b[1;33m\u001b[0m\u001b[1;33m\u001b[0m\u001b[0m\n\u001b[0;32m     85\u001b[0m     \u001b[1;32melif\u001b[0m \u001b[0mresponse\u001b[0m\u001b[1;33m.\u001b[0m\u001b[0mstatus_code\u001b[0m \u001b[1;33m==\u001b[0m \u001b[1;36m404\u001b[0m\u001b[1;33m:\u001b[0m\u001b[1;33m\u001b[0m\u001b[1;33m\u001b[0m\u001b[0m\n\u001b[1;32m---> 86\u001b[1;33m         \u001b[1;32mraise\u001b[0m \u001b[0mHTTPNotFound\u001b[0m\u001b[1;33m(\u001b[0m\u001b[0mresponse\u001b[0m\u001b[1;33m)\u001b[0m\u001b[1;33m\u001b[0m\u001b[1;33m\u001b[0m\u001b[0m\n\u001b[0m\u001b[0;32m     87\u001b[0m     \u001b[1;32melif\u001b[0m \u001b[0mresponse\u001b[0m\u001b[1;33m.\u001b[0m\u001b[0mstatus_code\u001b[0m \u001b[1;33m==\u001b[0m \u001b[1;36m409\u001b[0m\u001b[1;33m:\u001b[0m\u001b[1;33m\u001b[0m\u001b[1;33m\u001b[0m\u001b[0m\n\u001b[0;32m     88\u001b[0m         \u001b[1;32mraise\u001b[0m \u001b[0mHTTPConflict\u001b[0m\u001b[1;33m(\u001b[0m\u001b[0mresponse\u001b[0m\u001b[1;33m)\u001b[0m\u001b[1;33m\u001b[0m\u001b[1;33m\u001b[0m\u001b[0m\n",
      "\u001b[1;31mHTTPNotFound\u001b[0m: The API you are requesting could not be found."
     ]
    }
   ],
   "source": [
    "_001fb = auth2_client.heart()\n",
    "print(_001fb)"
   ]
  },
  {
   "cell_type": "code",
   "execution_count": 9,
   "metadata": {},
   "outputs": [
    {
     "name": "stdout",
     "output_type": "stream",
     "text": [
      "{'bp': []}\n"
     ]
    }
   ],
   "source": [
    "_001fb = auth2_client.bp()\n",
    "print(_001fb)"
   ]
  },
  {
   "cell_type": "code",
   "execution_count": 10,
   "metadata": {},
   "outputs": [
    {
     "name": "stdout",
     "output_type": "stream",
     "text": [
      "[]\n"
     ]
    }
   ],
   "source": [
    "_001fb = auth2_client.recent_foods()\n",
    "print(_001fb)"
   ]
  },
  {
   "cell_type": "code",
   "execution_count": 11,
   "metadata": {},
   "outputs": [
    {
     "name": "stdout",
     "output_type": "stream",
     "text": [
      "[]\n"
     ]
    }
   ],
   "source": [
    "_001fb = auth2_client.frequent_foods()\n",
    "print(_001fb)"
   ]
  },
  {
   "cell_type": "code",
   "execution_count": 12,
   "metadata": {},
   "outputs": [
    {
     "name": "stdout",
     "output_type": "stream",
     "text": [
      "[]\n"
     ]
    }
   ],
   "source": [
    "_001fb = auth2_client.favorite_foods()\n",
    "print(_001fb)"
   ]
  },
  {
   "cell_type": "code",
   "execution_count": 13,
   "metadata": {},
   "outputs": [
    {
     "name": "stdout",
     "output_type": "stream",
     "text": [
      "[]\n"
     ]
    }
   ],
   "source": [
    "_001fb = auth2_client.recent_activities()\n",
    "print(_001fb)"
   ]
  },
  {
   "cell_type": "code",
   "execution_count": 14,
   "metadata": {},
   "outputs": [
    {
     "name": "stdout",
     "output_type": "stream",
     "text": [
      "[]\n"
     ]
    }
   ],
   "source": [
    "_001fb = auth2_client.frequent_activities()\n",
    "print(_001fb)"
   ]
  },
  {
   "cell_type": "code",
   "execution_count": 15,
   "metadata": {},
   "outputs": [
    {
     "name": "stdout",
     "output_type": "stream",
     "text": [
      "{}\n"
     ]
    }
   ],
   "source": [
    "_001fb = auth2_client.food_goal()\n",
    "print(_001fb)"
   ]
  },
  {
   "cell_type": "code",
   "execution_count": 16,
   "metadata": {},
   "outputs": [
    {
     "name": "stdout",
     "output_type": "stream",
     "text": [
      "{'weight': []}\n"
     ]
    }
   ],
   "source": [
    "_001fb = auth2_client.get_bodyweight()\n",
    "print(_001fb)"
   ]
  },
  {
   "cell_type": "code",
   "execution_count": 18,
   "metadata": {},
   "outputs": [
    {
     "name": "stdout",
     "output_type": "stream",
     "text": [
      "{'activities-heart': [{'dateTime': '2019-09-14', 'value': {'customHeartRateZones': [], 'heartRateZones': [{'caloriesOut': 913.6612, 'max': 100, 'min': 30, 'minutes': 641, 'name': 'Out of Range'}, {'caloriesOut': 155.0154, 'max': 140, 'min': 100, 'minutes': 35, 'name': 'Fat Burn'}, {'caloriesOut': 0, 'max': 170, 'min': 140, 'minutes': 0, 'name': 'Cardio'}, {'caloriesOut': 0, 'max': 220, 'min': 170, 'minutes': 0, 'name': 'Peak'}], 'restingHeartRate': 79}}], 'activities-heart-intraday': {'dataset': [{'time': '00:59:00', 'value': 71}, {'time': '01:00:00', 'value': 72}, {'time': '01:01:00', 'value': 72}, {'time': '01:13:00', 'value': 75}, {'time': '01:14:00', 'value': 70}, {'time': '01:15:00', 'value': 77}, {'time': '01:16:00', 'value': 87}, {'time': '01:17:00', 'value': 96}, {'time': '01:18:00', 'value': 90}, {'time': '01:19:00', 'value': 83}, {'time': '01:20:00', 'value': 80}, {'time': '01:21:00', 'value': 87}, {'time': '01:22:00', 'value': 88}, {'time': '01:23:00', 'value': 80}, {'time': '01:24:00', 'value': 82}, {'time': '01:25:00', 'value': 90}, {'time': '01:26:00', 'value': 83}, {'time': '01:27:00', 'value': 81}, {'time': '01:28:00', 'value': 82}, {'time': '01:29:00', 'value': 83}, {'time': '01:30:00', 'value': 83}, {'time': '01:31:00', 'value': 90}, {'time': '01:32:00', 'value': 102}, {'time': '01:33:00', 'value': 101}, {'time': '01:34:00', 'value': 96}, {'time': '01:35:00', 'value': 104}, {'time': '01:36:00', 'value': 112}, {'time': '01:37:00', 'value': 130}, {'time': '01:38:00', 'value': 128}, {'time': '01:39:00', 'value': 113}, {'time': '01:40:00', 'value': 118}, {'time': '01:42:00', 'value': 119}, {'time': '01:43:00', 'value': 101}, {'time': '01:44:00', 'value': 107}, {'time': '01:45:00', 'value': 109}, {'time': '01:46:00', 'value': 93}, {'time': '01:47:00', 'value': 89}, {'time': '01:48:00', 'value': 86}, {'time': '01:49:00', 'value': 89}, {'time': '01:50:00', 'value': 89}, {'time': '01:51:00', 'value': 91}, {'time': '01:52:00', 'value': 91}, {'time': '01:53:00', 'value': 87}, {'time': '01:54:00', 'value': 88}, {'time': '01:55:00', 'value': 91}, {'time': '01:56:00', 'value': 96}, {'time': '01:57:00', 'value': 95}, {'time': '01:58:00', 'value': 96}, {'time': '01:59:00', 'value': 97}, {'time': '02:00:00', 'value': 98}, {'time': '02:01:00', 'value': 98}, {'time': '02:02:00', 'value': 97}, {'time': '02:03:00', 'value': 95}, {'time': '02:04:00', 'value': 94}, {'time': '02:05:00', 'value': 94}, {'time': '02:06:00', 'value': 94}, {'time': '02:07:00', 'value': 92}, {'time': '02:08:00', 'value': 85}, {'time': '02:09:00', 'value': 89}, {'time': '02:10:00', 'value': 91}, {'time': '02:11:00', 'value': 91}, {'time': '02:12:00', 'value': 91}, {'time': '02:13:00', 'value': 91}, {'time': '02:14:00', 'value': 92}, {'time': '02:15:00', 'value': 92}, {'time': '02:16:00', 'value': 90}, {'time': '02:17:00', 'value': 90}, {'time': '02:18:00', 'value': 90}, {'time': '02:19:00', 'value': 90}, {'time': '02:20:00', 'value': 90}, {'time': '02:21:00', 'value': 91}, {'time': '02:22:00', 'value': 87}, {'time': '02:23:00', 'value': 84}, {'time': '02:24:00', 'value': 82}, {'time': '02:25:00', 'value': 84}, {'time': '02:26:00', 'value': 85}, {'time': '02:27:00', 'value': 87}, {'time': '02:28:00', 'value': 87}, {'time': '02:29:00', 'value': 88}, {'time': '02:30:00', 'value': 88}, {'time': '02:32:00', 'value': 88}, {'time': '02:33:00', 'value': 88}, {'time': '02:34:00', 'value': 88}, {'time': '02:35:00', 'value': 89}, {'time': '02:36:00', 'value': 89}, {'time': '02:37:00', 'value': 90}, {'time': '02:38:00', 'value': 90}, {'time': '02:39:00', 'value': 90}, {'time': '02:40:00', 'value': 91}, {'time': '02:41:00', 'value': 92}, {'time': '02:42:00', 'value': 93}, {'time': '02:43:00', 'value': 93}, {'time': '02:44:00', 'value': 95}, {'time': '02:45:00', 'value': 95}, {'time': '02:46:00', 'value': 97}, {'time': '02:47:00', 'value': 99}, {'time': '02:48:00', 'value': 95}, {'time': '02:49:00', 'value': 98}, {'time': '02:50:00', 'value': 104}, {'time': '02:51:00', 'value': 104}, {'time': '02:52:00', 'value': 104}, {'time': '02:53:00', 'value': 97}, {'time': '02:54:00', 'value': 86}, {'time': '02:55:00', 'value': 87}, {'time': '02:56:00', 'value': 90}, {'time': '02:57:00', 'value': 89}, {'time': '03:01:00', 'value': 70}, {'time': '03:31:00', 'value': 70}, {'time': '03:32:00', 'value': 70}, {'time': '03:49:00', 'value': 74}, {'time': '03:50:00', 'value': 71}, {'time': '03:51:00', 'value': 78}, {'time': '03:52:00', 'value': 62}, {'time': '03:53:00', 'value': 70}, {'time': '03:54:00', 'value': 77}, {'time': '03:55:00', 'value': 77}, {'time': '03:56:00', 'value': 87}, {'time': '03:57:00', 'value': 83}, {'time': '03:58:00', 'value': 77}, {'time': '03:59:00', 'value': 74}, {'time': '04:00:00', 'value': 71}, {'time': '04:01:00', 'value': 71}, {'time': '04:02:00', 'value': 72}, {'time': '04:03:00', 'value': 71}, {'time': '04:04:00', 'value': 71}, {'time': '04:05:00', 'value': 70}, {'time': '04:06:00', 'value': 70}, {'time': '04:07:00', 'value': 75}, {'time': '04:08:00', 'value': 80}, {'time': '04:09:00', 'value': 75}, {'time': '04:10:00', 'value': 77}, {'time': '04:11:00', 'value': 73}, {'time': '04:12:00', 'value': 73}, {'time': '04:13:00', 'value': 73}, {'time': '04:14:00', 'value': 72}, {'time': '04:15:00', 'value': 73}, {'time': '04:16:00', 'value': 73}, {'time': '04:17:00', 'value': 72}, {'time': '04:18:00', 'value': 72}, {'time': '04:19:00', 'value': 73}, {'time': '04:20:00', 'value': 71}, {'time': '04:21:00', 'value': 72}, {'time': '04:22:00', 'value': 76}, {'time': '04:23:00', 'value': 71}, {'time': '04:24:00', 'value': 73}, {'time': '04:25:00', 'value': 74}, {'time': '04:26:00', 'value': 73}, {'time': '04:27:00', 'value': 71}, {'time': '04:28:00', 'value': 73}, {'time': '04:29:00', 'value': 73}, {'time': '04:30:00', 'value': 75}, {'time': '04:31:00', 'value': 75}, {'time': '04:32:00', 'value': 74}, {'time': '04:33:00', 'value': 74}, {'time': '04:34:00', 'value': 73}, {'time': '04:35:00', 'value': 73}, {'time': '04:36:00', 'value': 74}, {'time': '04:37:00', 'value': 73}, {'time': '04:38:00', 'value': 74}, {'time': '04:39:00', 'value': 75}, {'time': '04:40:00', 'value': 76}, {'time': '04:41:00', 'value': 76}, {'time': '04:42:00', 'value': 77}, {'time': '04:43:00', 'value': 77}, {'time': '04:44:00', 'value': 76}, {'time': '04:45:00', 'value': 76}, {'time': '04:46:00', 'value': 75}, {'time': '04:47:00', 'value': 78}, {'time': '04:48:00', 'value': 76}, {'time': '04:49:00', 'value': 77}, {'time': '04:50:00', 'value': 76}, {'time': '04:51:00', 'value': 78}, {'time': '04:52:00', 'value': 77}, {'time': '04:53:00', 'value': 76}, {'time': '04:54:00', 'value': 77}, {'time': '04:55:00', 'value': 77}, {'time': '04:56:00', 'value': 76}, {'time': '04:57:00', 'value': 75}, {'time': '04:58:00', 'value': 78}, {'time': '04:59:00', 'value': 77}, {'time': '05:00:00', 'value': 77}, {'time': '05:01:00', 'value': 77}, {'time': '05:02:00', 'value': 78}, {'time': '05:03:00', 'value': 77}, {'time': '05:04:00', 'value': 78}, {'time': '05:05:00', 'value': 78}, {'time': '05:06:00', 'value': 78}, {'time': '05:07:00', 'value': 78}, {'time': '05:08:00', 'value': 79}, {'time': '05:09:00', 'value': 79}, {'time': '05:10:00', 'value': 78}, {'time': '05:11:00', 'value': 81}, {'time': '05:12:00', 'value': 79}, {'time': '05:13:00', 'value': 80}, {'time': '05:14:00', 'value': 79}, {'time': '05:15:00', 'value': 79}, {'time': '05:16:00', 'value': 78}, {'time': '05:17:00', 'value': 84}, {'time': '05:18:00', 'value': 78}, {'time': '05:19:00', 'value': 73}, {'time': '05:20:00', 'value': 72}, {'time': '05:21:00', 'value': 74}, {'time': '05:22:00', 'value': 75}, {'time': '05:23:00', 'value': 74}, {'time': '05:24:00', 'value': 71}, {'time': '05:25:00', 'value': 72}, {'time': '05:26:00', 'value': 73}, {'time': '05:27:00', 'value': 76}, {'time': '05:28:00', 'value': 75}, {'time': '05:29:00', 'value': 73}, {'time': '05:30:00', 'value': 73}, {'time': '05:31:00', 'value': 73}, {'time': '05:32:00', 'value': 73}, {'time': '05:33:00', 'value': 89}, {'time': '05:34:00', 'value': 81}, {'time': '05:35:00', 'value': 77}, {'time': '05:36:00', 'value': 83}, {'time': '05:37:00', 'value': 81}, {'time': '05:38:00', 'value': 81}, {'time': '05:39:00', 'value': 83}, {'time': '05:40:00', 'value': 79}, {'time': '05:41:00', 'value': 79}, {'time': '05:42:00', 'value': 79}, {'time': '05:43:00', 'value': 75}, {'time': '05:44:00', 'value': 80}, {'time': '05:45:00', 'value': 72}, {'time': '05:46:00', 'value': 84}, {'time': '05:47:00', 'value': 78}, {'time': '05:48:00', 'value': 77}, {'time': '05:49:00', 'value': 75}, {'time': '05:50:00', 'value': 78}, {'time': '05:51:00', 'value': 73}, {'time': '05:52:00', 'value': 76}, {'time': '05:53:00', 'value': 75}, {'time': '05:54:00', 'value': 73}, {'time': '05:55:00', 'value': 73}, {'time': '05:56:00', 'value': 76}, {'time': '05:57:00', 'value': 78}, {'time': '05:58:00', 'value': 79}, {'time': '05:59:00', 'value': 77}, {'time': '06:00:00', 'value': 93}, {'time': '06:01:00', 'value': 87}, {'time': '06:02:00', 'value': 74}, {'time': '06:03:00', 'value': 74}, {'time': '06:04:00', 'value': 75}, {'time': '06:05:00', 'value': 78}, {'time': '06:06:00', 'value': 79}, {'time': '06:07:00', 'value': 73}, {'time': '06:08:00', 'value': 70}, {'time': '06:09:00', 'value': 69}, {'time': '06:10:00', 'value': 98}, {'time': '06:11:00', 'value': 93}, {'time': '06:12:00', 'value': 91}, {'time': '06:13:00', 'value': 83}, {'time': '06:14:00', 'value': 76}, {'time': '06:15:00', 'value': 76}, {'time': '06:16:00', 'value': 78}, {'time': '06:17:00', 'value': 77}, {'time': '06:18:00', 'value': 78}, {'time': '06:19:00', 'value': 72}, {'time': '06:20:00', 'value': 71}, {'time': '06:21:00', 'value': 72}, {'time': '06:22:00', 'value': 76}, {'time': '06:23:00', 'value': 72}, {'time': '06:24:00', 'value': 79}, {'time': '06:25:00', 'value': 72}, {'time': '06:26:00', 'value': 68}, {'time': '06:27:00', 'value': 71}, {'time': '06:28:00', 'value': 72}, {'time': '06:29:00', 'value': 70}, {'time': '06:30:00', 'value': 68}, {'time': '06:31:00', 'value': 69}, {'time': '06:32:00', 'value': 72}, {'time': '06:33:00', 'value': 72}, {'time': '06:34:00', 'value': 69}, {'time': '06:35:00', 'value': 71}, {'time': '06:36:00', 'value': 71}, {'time': '06:37:00', 'value': 71}, {'time': '06:38:00', 'value': 71}, {'time': '06:39:00', 'value': 69}, {'time': '06:40:00', 'value': 73}, {'time': '06:41:00', 'value': 77}, {'time': '06:42:00', 'value': 75}, {'time': '06:43:00', 'value': 73}, {'time': '06:44:00', 'value': 73}, {'time': '06:45:00', 'value': 74}, {'time': '06:46:00', 'value': 76}, {'time': '06:47:00', 'value': 82}, {'time': '06:48:00', 'value': 88}, {'time': '06:49:00', 'value': 89}, {'time': '06:50:00', 'value': 90}, {'time': '06:51:00', 'value': 88}, {'time': '06:52:00', 'value': 89}, {'time': '06:53:00', 'value': 90}, {'time': '06:54:00', 'value': 91}, {'time': '06:55:00', 'value': 85}, {'time': '06:56:00', 'value': 76}, {'time': '06:57:00', 'value': 75}, {'time': '06:58:00', 'value': 73}, {'time': '06:59:00', 'value': 72}, {'time': '07:00:00', 'value': 76}, {'time': '07:01:00', 'value': 79}, {'time': '07:02:00', 'value': 83}, {'time': '07:03:00', 'value': 82}, {'time': '07:04:00', 'value': 83}, {'time': '07:05:00', 'value': 83}, {'time': '07:06:00', 'value': 81}, {'time': '07:07:00', 'value': 81}, {'time': '07:08:00', 'value': 77}, {'time': '07:09:00', 'value': 75}, {'time': '07:10:00', 'value': 73}, {'time': '07:11:00', 'value': 79}, {'time': '07:12:00', 'value': 80}, {'time': '07:13:00', 'value': 81}, {'time': '07:14:00', 'value': 80}, {'time': '07:15:00', 'value': 80}, {'time': '07:16:00', 'value': 81}, {'time': '07:17:00', 'value': 82}, {'time': '07:18:00', 'value': 73}, {'time': '07:19:00', 'value': 75}, {'time': '07:20:00', 'value': 73}, {'time': '07:21:00', 'value': 77}, {'time': '07:22:00', 'value': 76}, {'time': '07:23:00', 'value': 79}, {'time': '07:24:00', 'value': 78}, {'time': '07:25:00', 'value': 77}, {'time': '07:26:00', 'value': 75}, {'time': '07:27:00', 'value': 77}, {'time': '07:28:00', 'value': 77}, {'time': '07:29:00', 'value': 77}, {'time': '07:30:00', 'value': 72}, {'time': '07:33:00', 'value': 89}, {'time': '07:34:00', 'value': 84}, {'time': '07:35:00', 'value': 84}, {'time': '09:18:00', 'value': 88}, {'time': '09:19:00', 'value': 92}, {'time': '09:20:00', 'value': 91}, {'time': '09:21:00', 'value': 91}, {'time': '09:22:00', 'value': 97}, {'time': '09:23:00', 'value': 97}, {'time': '09:24:00', 'value': 95}, {'time': '09:25:00', 'value': 91}, {'time': '09:26:00', 'value': 93}, {'time': '09:27:00', 'value': 94}, {'time': '09:28:00', 'value': 92}, {'time': '09:29:00', 'value': 93}, {'time': '09:30:00', 'value': 93}, {'time': '09:31:00', 'value': 90}, {'time': '09:32:00', 'value': 92}, {'time': '09:33:00', 'value': 92}, {'time': '09:34:00', 'value': 93}, {'time': '09:35:00', 'value': 94}, {'time': '09:36:00', 'value': 95}, {'time': '09:37:00', 'value': 100}, {'time': '09:38:00', 'value': 104}, {'time': '09:39:00', 'value': 96}, {'time': '09:40:00', 'value': 99}, {'time': '09:41:00', 'value': 91}, {'time': '09:42:00', 'value': 98}, {'time': '09:43:00', 'value': 96}, {'time': '09:44:00', 'value': 104}, {'time': '09:45:00', 'value': 99}, {'time': '09:46:00', 'value': 98}, {'time': '09:47:00', 'value': 97}, {'time': '09:48:00', 'value': 100}, {'time': '09:49:00', 'value': 98}, {'time': '09:50:00', 'value': 98}, {'time': '09:51:00', 'value': 98}, {'time': '09:52:00', 'value': 95}, {'time': '09:53:00', 'value': 99}, {'time': '09:54:00', 'value': 94}, {'time': '09:55:00', 'value': 87}, {'time': '09:56:00', 'value': 88}, {'time': '09:57:00', 'value': 90}, {'time': '09:58:00', 'value': 95}, {'time': '09:59:00', 'value': 91}, {'time': '10:00:00', 'value': 92}, {'time': '10:01:00', 'value': 96}, {'time': '10:02:00', 'value': 100}, {'time': '10:03:00', 'value': 103}, {'time': '10:04:00', 'value': 103}, {'time': '10:05:00', 'value': 96}, {'time': '10:06:00', 'value': 88}, {'time': '10:07:00', 'value': 89}, {'time': '10:08:00', 'value': 87}, {'time': '10:09:00', 'value': 92}, {'time': '10:10:00', 'value': 92}, {'time': '10:11:00', 'value': 93}, {'time': '10:12:00', 'value': 90}, {'time': '10:13:00', 'value': 84}, {'time': '10:14:00', 'value': 92}, {'time': '10:15:00', 'value': 88}, {'time': '10:16:00', 'value': 85}, {'time': '10:17:00', 'value': 84}, {'time': '10:18:00', 'value': 90}, {'time': '10:19:00', 'value': 90}, {'time': '10:20:00', 'value': 92}, {'time': '10:21:00', 'value': 96}, {'time': '10:22:00', 'value': 89}, {'time': '10:23:00', 'value': 84}, {'time': '10:24:00', 'value': 87}, {'time': '10:25:00', 'value': 87}, {'time': '10:26:00', 'value': 89}, {'time': '10:27:00', 'value': 96}, {'time': '10:28:00', 'value': 92}, {'time': '10:29:00', 'value': 95}, {'time': '10:30:00', 'value': 95}, {'time': '10:31:00', 'value': 90}, {'time': '10:32:00', 'value': 87}, {'time': '10:33:00', 'value': 92}, {'time': '10:34:00', 'value': 89}, {'time': '10:35:00', 'value': 86}, {'time': '10:36:00', 'value': 92}, {'time': '10:37:00', 'value': 92}, {'time': '10:38:00', 'value': 84}, {'time': '10:39:00', 'value': 87}, {'time': '10:40:00', 'value': 90}, {'time': '10:41:00', 'value': 87}, {'time': '10:42:00', 'value': 92}, {'time': '10:43:00', 'value': 92}, {'time': '10:44:00', 'value': 93}, {'time': '10:45:00', 'value': 96}, {'time': '10:46:00', 'value': 102}, {'time': '10:47:00', 'value': 94}, {'time': '10:48:00', 'value': 86}, {'time': '10:49:00', 'value': 85}, {'time': '10:50:00', 'value': 91}, {'time': '10:51:00', 'value': 96}, {'time': '10:52:00', 'value': 104}, {'time': '10:53:00', 'value': 114}, {'time': '10:54:00', 'value': 114}, {'time': '10:55:00', 'value': 113}, {'time': '10:56:00', 'value': 94}, {'time': '10:57:00', 'value': 92}, {'time': '10:58:00', 'value': 88}, {'time': '10:59:00', 'value': 95}, {'time': '11:00:00', 'value': 98}, {'time': '11:01:00', 'value': 92}, {'time': '11:02:00', 'value': 87}, {'time': '11:03:00', 'value': 91}, {'time': '11:04:00', 'value': 94}, {'time': '11:05:00', 'value': 91}, {'time': '11:06:00', 'value': 94}, {'time': '11:07:00', 'value': 96}, {'time': '11:08:00', 'value': 91}, {'time': '11:09:00', 'value': 91}, {'time': '11:10:00', 'value': 95}, {'time': '11:11:00', 'value': 88}, {'time': '11:12:00', 'value': 86}, {'time': '11:13:00', 'value': 89}, {'time': '11:14:00', 'value': 86}, {'time': '11:15:00', 'value': 87}, {'time': '11:16:00', 'value': 89}, {'time': '11:17:00', 'value': 88}, {'time': '11:18:00', 'value': 89}, {'time': '11:19:00', 'value': 88}, {'time': '11:20:00', 'value': 96}, {'time': '11:21:00', 'value': 101}, {'time': '11:22:00', 'value': 96}, {'time': '11:23:00', 'value': 98}, {'time': '11:24:00', 'value': 103}, {'time': '11:25:00', 'value': 101}, {'time': '11:26:00', 'value': 103}, {'time': '11:27:00', 'value': 94}, {'time': '11:28:00', 'value': 89}, {'time': '11:29:00', 'value': 89}, {'time': '11:30:00', 'value': 89}, {'time': '11:31:00', 'value': 94}, {'time': '11:32:00', 'value': 93}, {'time': '11:33:00', 'value': 90}, {'time': '11:34:00', 'value': 86}, {'time': '11:35:00', 'value': 87}, {'time': '11:36:00', 'value': 89}, {'time': '11:37:00', 'value': 87}, {'time': '11:38:00', 'value': 84}, {'time': '11:39:00', 'value': 84}, {'time': '11:40:00', 'value': 83}, {'time': '11:41:00', 'value': 83}, {'time': '11:42:00', 'value': 84}, {'time': '11:43:00', 'value': 81}, {'time': '11:44:00', 'value': 85}, {'time': '11:45:00', 'value': 89}, {'time': '11:46:00', 'value': 89}, {'time': '11:47:00', 'value': 92}, {'time': '11:48:00', 'value': 89}, {'time': '11:49:00', 'value': 87}, {'time': '11:50:00', 'value': 86}, {'time': '11:51:00', 'value': 85}, {'time': '11:52:00', 'value': 87}, {'time': '11:53:00', 'value': 86}, {'time': '11:54:00', 'value': 83}, {'time': '11:55:00', 'value': 84}, {'time': '11:56:00', 'value': 87}, {'time': '11:57:00', 'value': 87}, {'time': '11:58:00', 'value': 87}, {'time': '11:59:00', 'value': 87}, {'time': '12:00:00', 'value': 88}, {'time': '12:01:00', 'value': 87}, {'time': '12:02:00', 'value': 89}, {'time': '12:03:00', 'value': 86}, {'time': '12:04:00', 'value': 85}, {'time': '12:05:00', 'value': 91}, {'time': '12:06:00', 'value': 87}, {'time': '12:07:00', 'value': 87}, {'time': '12:08:00', 'value': 83}, {'time': '12:09:00', 'value': 85}, {'time': '12:10:00', 'value': 88}, {'time': '12:11:00', 'value': 91}, {'time': '12:12:00', 'value': 85}, {'time': '12:13:00', 'value': 81}, {'time': '12:14:00', 'value': 82}, {'time': '12:15:00', 'value': 86}, {'time': '12:16:00', 'value': 87}, {'time': '12:17:00', 'value': 89}, {'time': '12:18:00', 'value': 85}, {'time': '12:19:00', 'value': 87}, {'time': '12:20:00', 'value': 88}, {'time': '12:21:00', 'value': 86}, {'time': '12:22:00', 'value': 85}, {'time': '12:23:00', 'value': 87}, {'time': '12:24:00', 'value': 85}, {'time': '12:25:00', 'value': 85}, {'time': '12:26:00', 'value': 89}, {'time': '12:27:00', 'value': 90}, {'time': '12:28:00', 'value': 88}, {'time': '12:29:00', 'value': 88}, {'time': '12:30:00', 'value': 87}, {'time': '12:31:00', 'value': 88}, {'time': '12:32:00', 'value': 88}, {'time': '12:33:00', 'value': 88}, {'time': '12:34:00', 'value': 88}, {'time': '12:35:00', 'value': 87}, {'time': '12:36:00', 'value': 84}, {'time': '12:37:00', 'value': 86}, {'time': '12:38:00', 'value': 87}, {'time': '12:39:00', 'value': 81}, {'time': '12:40:00', 'value': 79}, {'time': '12:41:00', 'value': 87}, {'time': '12:42:00', 'value': 89}, {'time': '12:43:00', 'value': 87}, {'time': '12:44:00', 'value': 89}, {'time': '12:45:00', 'value': 90}, {'time': '12:46:00', 'value': 89}, {'time': '12:47:00', 'value': 89}, {'time': '12:48:00', 'value': 88}, {'time': '12:49:00', 'value': 88}, {'time': '12:50:00', 'value': 91}, {'time': '12:51:00', 'value': 91}, {'time': '12:52:00', 'value': 88}, {'time': '12:53:00', 'value': 88}, {'time': '12:54:00', 'value': 88}, {'time': '12:55:00', 'value': 90}, {'time': '12:56:00', 'value': 90}, {'time': '12:57:00', 'value': 90}, {'time': '12:58:00', 'value': 90}, {'time': '12:59:00', 'value': 91}, {'time': '13:00:00', 'value': 90}, {'time': '13:01:00', 'value': 85}, {'time': '13:02:00', 'value': 88}, {'time': '13:03:00', 'value': 93}, {'time': '13:04:00', 'value': 99}, {'time': '13:05:00', 'value': 105}, {'time': '13:06:00', 'value': 110}, {'time': '13:07:00', 'value': 91}, {'time': '13:08:00', 'value': 94}, {'time': '13:09:00', 'value': 94}, {'time': '13:10:00', 'value': 97}, {'time': '13:11:00', 'value': 96}, {'time': '13:12:00', 'value': 97}, {'time': '13:13:00', 'value': 87}, {'time': '13:14:00', 'value': 83}, {'time': '13:15:00', 'value': 85}, {'time': '13:16:00', 'value': 85}, {'time': '13:17:00', 'value': 86}, {'time': '13:18:00', 'value': 86}, {'time': '13:19:00', 'value': 86}, {'time': '13:20:00', 'value': 89}, {'time': '13:21:00', 'value': 87}, {'time': '13:22:00', 'value': 88}, {'time': '13:23:00', 'value': 87}, {'time': '13:24:00', 'value': 88}, {'time': '13:25:00', 'value': 88}, {'time': '13:26:00', 'value': 88}, {'time': '13:27:00', 'value': 88}, {'time': '13:28:00', 'value': 86}, {'time': '13:29:00', 'value': 86}, {'time': '13:30:00', 'value': 87}, {'time': '13:31:00', 'value': 85}, {'time': '13:32:00', 'value': 86}, {'time': '13:33:00', 'value': 83}, {'time': '13:34:00', 'value': 87}, {'time': '13:35:00', 'value': 89}, {'time': '13:36:00', 'value': 91}, {'time': '13:37:00', 'value': 93}, {'time': '13:38:00', 'value': 93}, {'time': '13:39:00', 'value': 91}, {'time': '13:40:00', 'value': 91}, {'time': '13:41:00', 'value': 93}, {'time': '13:42:00', 'value': 98}, {'time': '13:43:00', 'value': 99}, {'time': '13:44:00', 'value': 98}, {'time': '13:45:00', 'value': 98}, {'time': '13:46:00', 'value': 99}, {'time': '13:47:00', 'value': 99}, {'time': '13:48:00', 'value': 103}, {'time': '13:49:00', 'value': 99}, {'time': '13:50:00', 'value': 95}, {'time': '13:51:00', 'value': 84}, {'time': '13:52:00', 'value': 83}, {'time': '13:53:00', 'value': 84}, {'time': '13:54:00', 'value': 82}, {'time': '13:55:00', 'value': 85}, {'time': '13:56:00', 'value': 82}, {'time': '13:57:00', 'value': 86}, {'time': '13:58:00', 'value': 86}, {'time': '13:59:00', 'value': 82}, {'time': '14:00:00', 'value': 82}, {'time': '14:01:00', 'value': 85}, {'time': '14:02:00', 'value': 85}, {'time': '14:03:00', 'value': 86}, {'time': '14:04:00', 'value': 86}, {'time': '14:05:00', 'value': 85}, {'time': '14:06:00', 'value': 83}, {'time': '14:07:00', 'value': 85}, {'time': '14:09:00', 'value': 90}, {'time': '14:10:00', 'value': 88}, {'time': '14:11:00', 'value': 87}, {'time': '14:12:00', 'value': 89}, {'time': '14:13:00', 'value': 94}, {'time': '14:14:00', 'value': 90}, {'time': '14:15:00', 'value': 83}, {'time': '14:16:00', 'value': 84}, {'time': '14:17:00', 'value': 83}, {'time': '14:18:00', 'value': 84}, {'time': '14:19:00', 'value': 83}, {'time': '14:20:00', 'value': 82}, {'time': '14:21:00', 'value': 84}, {'time': '14:22:00', 'value': 87}, {'time': '14:23:00', 'value': 86}, {'time': '14:24:00', 'value': 87}, {'time': '14:25:00', 'value': 85}, {'time': '14:26:00', 'value': 82}, {'time': '14:27:00', 'value': 85}, {'time': '14:28:00', 'value': 85}, {'time': '14:29:00', 'value': 88}, {'time': '14:30:00', 'value': 87}, {'time': '14:31:00', 'value': 90}, {'time': '14:32:00', 'value': 84}, {'time': '14:33:00', 'value': 89}, {'time': '14:34:00', 'value': 89}, {'time': '14:35:00', 'value': 85}, {'time': '14:36:00', 'value': 89}, {'time': '14:37:00', 'value': 85}, {'time': '14:38:00', 'value': 90}, {'time': '14:39:00', 'value': 97}, {'time': '14:40:00', 'value': 98}, {'time': '14:41:00', 'value': 96}, {'time': '14:42:00', 'value': 96}, {'time': '14:43:00', 'value': 96}, {'time': '14:44:00', 'value': 95}, {'time': '14:45:00', 'value': 92}, {'time': '14:46:00', 'value': 84}, {'time': '14:47:00', 'value': 84}, {'time': '14:48:00', 'value': 85}, {'time': '14:49:00', 'value': 83}, {'time': '14:50:00', 'value': 85}, {'time': '14:51:00', 'value': 83}, {'time': '14:52:00', 'value': 83}, {'time': '14:53:00', 'value': 82}, {'time': '14:54:00', 'value': 92}, {'time': '14:55:00', 'value': 99}, {'time': '14:56:00', 'value': 106}, {'time': '14:57:00', 'value': 99}, {'time': '14:58:00', 'value': 90}, {'time': '14:59:00', 'value': 84}, {'time': '15:00:00', 'value': 85}], 'datasetInterval': 1, 'datasetType': 'minute'}}\n"
     ]
    }
   ],
   "source": [
    "_001fb = auth2_client.intraday_time_series('activities/heart')\n",
    "print(_001fb)"
   ]
  },
  {
   "cell_type": "code",
   "execution_count": 26,
   "metadata": {},
   "outputs": [
    {
     "name": "stdout",
     "output_type": "stream",
     "text": [
      "{'categories': [{'activities': [{'accessLevel': 'PUBLIC', 'activityLevels': [{'id': 3016, 'maxSpeedMPH': -1, 'mets': 8.5, 'minSpeedMPH': -1, 'name': '6 - 8 inch step'}, {'id': 3017, 'maxSpeedMPH': -1, 'mets': 10, 'minSpeedMPH': -1, 'name': '10 - 12 inch step'}], 'hasSpeed': False, 'id': 90004, 'name': 'Aerobic step'}, {'accessLevel': 'PUBLIC', 'hasSpeed': False, 'id': 3015, 'mets': 6.5, 'name': 'Aerobic, general'}, {'accessLevel': 'PUBLIC', 'activityLevels': [{'id': 3020, 'maxSpeedMPH': -1, 'mets': 5, 'minSpeedMPH': -1, 'name': 'low impact'}, {'id': 3021, 'maxSpeedMPH': -1, 'mets': 7, 'minSpeedMPH': -1, 'name': 'high impact'}], 'hasSpeed': False, 'id': 90005, 'name': 'Aerobics'}, {'accessLevel': 'PUBLIC', 'hasSpeed': False, 'id': 3050, 'mets': 5.5, 'name': 'Anishinaabe Jingle Dancing or other traditional American Indian dancing'}, {'accessLevel': 'PUBLIC', 'hasSpeed': False, 'id': 3010, 'mets': 4.800000190734863, 'name': 'Ballet'}, {'accessLevel': 'PUBLIC', 'hasSpeed': False, 'id': 3040, 'mets': 3, 'name': 'Ballroom, slow (e.g. waltz, foxtrot, slow dancing), samba, tango, 19th C, mambo, chacha'}, {'accessLevel': 'PUBLIC', 'hasSpeed': False, 'id': 3031, 'mets': 5, 'name': 'Dancing'}, {'accessLevel': 'PUBLIC', 'hasSpeed': False, 'id': 3025, 'mets': 4.5, 'name': 'General, Greek, Middle Eastern, hula, flamenco, belly, swing'}, {'accessLevel': 'PUBLIC', 'hasSpeed': False, 'id': 56001, 'mets': 5.5, 'name': 'Zumba'}], 'id': 0, 'name': 'Dancing'}, {'activities': [{'accessLevel': 'PUBLIC', 'hasSpeed': False, 'id': 4010, 'mets': 4, 'name': 'Digging worms, with shovel'}, {'accessLevel': 'PUBLIC', 'hasSpeed': False, 'id': 4001, 'mets': 3, 'name': 'Fishing'}, {'accessLevel': 'PUBLIC', 'hasSpeed': False, 'id': 4030, 'mets': 2.5, 'name': 'Fishing from boat, sitting'}, {'accessLevel': 'PUBLIC', 'hasSpeed': False, 'id': 4020, 'mets': 4, 'name': 'Fishing from river bank and walking'}, {'accessLevel': 'PUBLIC', 'hasSpeed': False, 'id': 4040, 'mets': 3.5, 'name': 'Fishing from river bank, standing'}, {'accessLevel': 'PUBLIC', 'hasSpeed': False, 'id': 4050, 'mets': 6, 'name': 'Fishing in stream, in waders'}, {'accessLevel': 'PUBLIC', 'hasSpeed': False, 'id': 4060, 'mets': 2, 'name': 'Fishing, ice, sitting'}, {'accessLevel': 'PUBLIC', 'hasSpeed': False, 'id': 4100, 'mets': 5, 'name': 'Hunting'}, {'accessLevel': 'PUBLIC', 'hasSpeed': False, 'id': 4070, 'mets': 2.5, 'name': 'Hunting, bow and arrow or crossbow'}, {'accessLevel': 'PUBLIC', 'hasSpeed': False, 'id': 4080, 'mets': 6, 'name': 'Hunting, deer, elk, large game'}, {'accessLevel': 'PUBLIC', 'hasSpeed': False, 'id': 4090, 'mets': 2.5, 'name': 'Hunting, duck, wading'}, {'accessLevel': 'PUBLIC', 'hasSpeed': False, 'id': 4110, 'mets': 6, 'name': 'Hunting, pheasants or grouse'}, {'accessLevel': 'PUBLIC', 'hasSpeed': False, 'id': 4120, 'mets': 5, 'name': 'Hunting, rabbit, squirrel, prairie chick, raccoon, small game'}, {'accessLevel': 'PUBLIC', 'hasSpeed': False, 'id': 4130, 'mets': 2.5, 'name': 'Shooting'}], 'id': 1, 'name': 'Fishing and Hunting'}, {'activities': [{'accessLevel': 'PUBLIC', 'hasSpeed': False, 'id': 5149, 'mets': 2.5, 'name': 'Building a fire inside'}, {'accessLevel': 'PUBLIC', 'hasSpeed': False, 'id': 5010, 'mets': 3.299999952316284, 'name': 'Carpet sweeping, sweeping floors'}, {'accessLevel': 'PUBLIC', 'hasSpeed': False, 'id': 5056, 'mets': 7.5, 'name': 'Carrying groceries upstairs'}, {'accessLevel': 'PUBLIC', 'hasSpeed': False, 'id': 5181, 'mets': 3, 'name': 'Carrying small children'}, {'accessLevel': 'PUBLIC', 'hasSpeed': False, 'id': 5161, 'mets': 2, 'name': 'Change light bulb'}, {'accessLevel': 'PUBLIC', 'hasSpeed': False, 'id': 5185, 'mets': 2.5, 'name': 'Child care: sitting/kneeling - dressing, bathing, grooming, feeding, occasional lifting of child-light effort, general'}, {'accessLevel': 'PUBLIC', 'hasSpeed': False, 'id': 5186, 'mets': 3, 'name': 'Child care: standing - dressing, bathing, grooming, feeding, occasional lifting of child-light effort'}, {'accessLevel': 'PUBLIC', 'hasSpeed': False, 'id': 5020, 'mets': 3, 'name': 'Cleaning'}, {'accessLevel': 'PUBLIC', 'hasSpeed': False, 'id': 5030, 'mets': 3, 'name': 'Cleaning, house or cabin, general'}, {'accessLevel': 'PUBLIC', 'hasSpeed': False, 'id': 5040, 'mets': 2.5, 'name': 'Cleaning, light (dusting, straightening up, changing linen, carrying out trash)'}, {'accessLevel': 'PUBLIC', 'hasSpeed': False, 'id': 5166, 'mets': 3, 'name': 'Closing windows and locking doors'}, {'accessLevel': 'PUBLIC', 'hasSpeed': False, 'id': 5057, 'mets': 3, 'name': 'Cooking Indian bread on an outside stove'}, {'accessLevel': 'PUBLIC', 'hasSpeed': False, 'id': 5052, 'mets': 2.5, 'name': 'Cooking or food preparation'}, {'accessLevel': 'PUBLIC', 'hasSpeed': False, 'id': 5187, 'mets': 4, 'name': 'Elder care, disabled adult, only active periods'}, {'accessLevel': 'PUBLIC', 'hasSpeed': False, 'id': 5053, 'mets': 2.5, 'name': 'Feeding animals'}, {'accessLevel': 'PUBLIC', 'hasSpeed': False, 'id': 5060, 'mets': 2.299999952316284, 'name': 'Food shopping with or without a grocery cart, standing or walking'}, {'accessLevel': 'PUBLIC', 'activityLevels': [{'id': 5025, 'maxSpeedMPH': -1, 'mets': 2.5, 'minSpeedMPH': -1, 'name': 'light effort'}, {'id': 5026, 'maxSpeedMPH': -1, 'mets': 3.5, 'minSpeedMPH': -1, 'name': 'moderate effort'}, {'id': 5027, 'maxSpeedMPH': -1, 'mets': 4, 'minSpeedMPH': -1, 'name': 'vigorous effort'}], 'hasSpeed': False, 'id': 90006, 'name': 'Household Chores'}, {'accessLevel': 'PUBLIC', 'hasSpeed': False, 'id': 5070, 'mets': 2.299999952316284, 'name': 'Ironing'}, {'accessLevel': 'PUBLIC', 'hasSpeed': False, 'id': 5080, 'mets': 1.5, 'name': 'Knitting, sewing'}, {'accessLevel': 'PUBLIC', 'hasSpeed': False, 'id': 5090, 'mets': 2, 'name': 'Laundry, fold or hang clothes, put clothes in washer or dryer, packing suitcase'}, {'accessLevel': 'PUBLIC', 'hasSpeed': False, 'id': 17031, 'mets': 3, 'name': 'Loading /unloading a car'}, {'accessLevel': 'PUBLIC', 'hasSpeed': False, 'id': 5100, 'mets': 2, 'name': 'Making a bed'}, {'accessLevel': 'PUBLIC', 'hasSpeed': False, 'id': 5110, 'mets': 5, 'name': 'Maple syruping/sugar bushing (including carrying buckets, carrying wood)'}, {'accessLevel': 'PUBLIC', 'hasSpeed': False, 'id': 5021, 'mets': 3.5, 'name': 'Mopping'}, {'accessLevel': 'PUBLIC', 'hasSpeed': False, 'id': 5120, 'mets': 6, 'name': 'Moving furniture, household items, carrying boxes'}, {'accessLevel': 'PUBLIC', 'hasSpeed': False, 'id': 5150, 'mets': 9, 'name': 'Moving household items upstairs, carrying boxes or furniture'}, {'accessLevel': 'PUBLIC', 'hasSpeed': False, 'id': 5160, 'mets': 2, 'name': 'Pumping gas, change light bulb, etc.)'}, {'accessLevel': 'PUBLIC', 'hasSpeed': False, 'id': 5095, 'mets': 2.299999952316284, 'name': 'Putting away clothes, gathering clothes to pack, putting away laundry'}, {'accessLevel': 'PUBLIC', 'hasSpeed': False, 'id': 5055, 'mets': 2.5, 'name': 'Putting away groceries (e.g. carrying groceries, shopping without a grocery cart), carrying packages'}, {'accessLevel': 'PUBLIC', 'hasSpeed': False, 'id': 5147, 'mets': 3, 'name': 'Putting away household items - moderate effort'}, {'accessLevel': 'PUBLIC', 'hasSpeed': False, 'id': 5165, 'mets': 3, 'name': 'Readying to leave'}, {'accessLevel': 'PUBLIC', 'hasSpeed': False, 'id': 5130, 'mets': 3.799999952316284, 'name': 'Scrubbing floors, on hands and knees, scrubbing bathroom, bathtub'}, {'accessLevel': 'PUBLIC', 'hasSpeed': False, 'id': 5051, 'mets': 2.5, 'name': 'Serving food, setting table'}, {'accessLevel': 'PUBLIC', 'hasSpeed': False, 'id': 5065, 'mets': 2.299999952316284, 'name': 'Shopping'}, {'accessLevel': 'PUBLIC', 'hasSpeed': False, 'id': 5190, 'mets': 2.5, 'name': 'Sit, playing with animals, light, only active periods'}, {'accessLevel': 'PUBLIC', 'hasSpeed': False, 'id': 5170, 'mets': 2.5, 'name': 'Sitting - playing with child(ren) - light, only active periods'}, {'accessLevel': 'PUBLIC', 'hasSpeed': False, 'id': 5191, 'mets': 2.799999952316284, 'name': 'Stand, playing with animals, light, only active periods'}, {'accessLevel': 'PUBLIC', 'hasSpeed': False, 'id': 5195, 'mets': 3.5, 'name': 'Standing - bathing dog'}, {'accessLevel': 'PUBLIC', 'hasSpeed': False, 'id': 5146, 'mets': 3.5, 'name': 'Standing - packing/unpacking boxes, occasional lifting of household items light - moderate effort'}, {'accessLevel': 'PUBLIC', 'hasSpeed': False, 'id': 5171, 'mets': 2.799999952316284, 'name': 'Standing - playing with child(ren) - light, only active periods'}, {'accessLevel': 'PUBLIC', 'hasSpeed': False, 'id': 5140, 'mets': 4, 'name': 'Sweeping garage, sidewalk or outside of house'}, {'accessLevel': 'PUBLIC', 'hasSpeed': False, 'id': 5043, 'mets': 3.5, 'name': 'Vacuuming'}, {'accessLevel': 'PUBLIC', 'hasSpeed': False, 'id': 5175, 'mets': 4, 'name': 'Walk/run - playing with child(ren) - moderate, only active periods'}, {'accessLevel': 'PUBLIC', 'hasSpeed': False, 'id': 5180, 'mets': 5, 'name': 'Walk/run - playing with child(ren) - vigorous, only active periods'}, {'accessLevel': 'PUBLIC', 'hasSpeed': False, 'id': 5192, 'mets': 2.799999952316284, 'name': 'Walk/run, playing with animals, light, only active periods'}, {'accessLevel': 'PUBLIC', 'hasSpeed': False, 'id': 5193, 'mets': 4, 'name': 'Walk/run, playing with animals, moderate, only active periods'}, {'accessLevel': 'PUBLIC', 'hasSpeed': False, 'id': 5194, 'mets': 5, 'name': 'Walk/run, playing with animals, vigorous, only active periods'}, {'accessLevel': 'PUBLIC', 'hasSpeed': False, 'id': 5041, 'mets': 2.299999952316284, 'name': 'Washing dishes - standing or in general (not broken into stand/walk components)'}, {'accessLevel': 'PUBLIC', 'hasSpeed': False, 'id': 5042, 'mets': 2.5, 'name': 'Washing dishes; clearing dishes from table - walking'}, {'accessLevel': 'PUBLIC', 'hasSpeed': False, 'id': 5148, 'mets': 2.5, 'name': 'Watering plants'}, {'accessLevel': 'PUBLIC', 'hasSpeed': False, 'id': 5081, 'mets': 1.5, 'name': 'Wrapping presents'}], 'id': 2, 'name': 'Home activities'}, {'activities': [{'accessLevel': 'PUBLIC', 'hasSpeed': False, 'id': 6010, 'mets': 3, 'name': 'Airplane repair'}, {'accessLevel': 'PUBLIC', 'hasSpeed': False, 'id': 6020, 'mets': 4, 'name': 'Automobile body work'}, {'accessLevel': 'PUBLIC', 'hasSpeed': False, 'id': 6030, 'mets': 3, 'name': 'Automobile repair'}, {'accessLevel': 'PUBLIC', 'hasSpeed': False, 'id': 6060, 'mets': 4.5, 'name': 'Carpentry, finishing or refinishing cabinets or furniture'}, {'accessLevel': 'PUBLIC', 'hasSpeed': False, 'id': 6040, 'mets': 3, 'name': 'Carpentry, general, workshop'}, {'accessLevel': 'PUBLIC', 'hasSpeed': False, 'id': 6050, 'mets': 6, 'name': 'Carpentry, outside house, installing rain gutters, building a fence'}, {'accessLevel': 'PUBLIC', 'hasSpeed': False, 'id': 6070, 'mets': 7.5, 'name': 'Carpentry, sawing hardwood'}, {'accessLevel': 'PUBLIC', 'hasSpeed': False, 'id': 6080, 'mets': 5, 'name': 'Caulking, chinking log cabin'}, {'accessLevel': 'PUBLIC', 'hasSpeed': False, 'id': 6090, 'mets': 4.5, 'name': 'Caulking, except log cabin'}, {'accessLevel': 'PUBLIC', 'hasSpeed': False, 'id': 6100, 'mets': 5, 'name': 'Cleaning gutters'}, {'accessLevel': 'PUBLIC', 'hasSpeed': False, 'id': 6110, 'mets': 5, 'name': 'Excavating garage'}, {'accessLevel': 'PUBLIC', 'hasSpeed': False, 'id': 6120, 'mets': 5, 'name': 'Hanging storm windows'}, {'accessLevel': 'PUBLIC', 'hasSpeed': False, 'id': 6130, 'mets': 4.5, 'name': 'Laying or removing carpet'}, {'accessLevel': 'PUBLIC', 'hasSpeed': False, 'id': 6140, 'mets': 4.5, 'name': 'Laying tile or linoleum, repairing appliances'}, {'accessLevel': 'PUBLIC', 'hasSpeed': False, 'id': 6165, 'mets': 4.5, 'name': 'Painting'}, {'accessLevel': 'PUBLIC', 'hasSpeed': False, 'id': 6150, 'mets': 5, 'name': 'Painting, outside home'}, {'accessLevel': 'PUBLIC', 'hasSpeed': False, 'id': 6160, 'mets': 3, 'name': 'Painting, papering, plastering, scraping, inside house, hanging sheet rock, remodeling'}, {'accessLevel': 'PUBLIC', 'hasSpeed': False, 'id': 6170, 'mets': 3, 'name': 'Put on and removal of tarp - sailboat'}, {'accessLevel': 'PUBLIC', 'hasSpeed': False, 'id': 6180, 'mets': 6, 'name': 'Roofing'}, {'accessLevel': 'PUBLIC', 'hasSpeed': False, 'id': 6190, 'mets': 4.5, 'name': 'Sanding floors with a power sander'}, {'accessLevel': 'PUBLIC', 'hasSpeed': False, 'id': 6200, 'mets': 4.5, 'name': 'Scraping and painting sailboat or powerboat'}, {'accessLevel': 'PUBLIC', 'hasSpeed': False, 'id': 6210, 'mets': 5, 'name': 'Spreading dirt with a shovel'}, {'accessLevel': 'PUBLIC', 'hasSpeed': False, 'id': 6220, 'mets': 4.5, 'name': 'Washing and waxing hull of sailboat, car, powerboat, airplane'}, {'accessLevel': 'PUBLIC', 'hasSpeed': False, 'id': 6230, 'mets': 4.5, 'name': 'Washing fence, painting fence'}, {'accessLevel': 'PUBLIC', 'hasSpeed': False, 'id': 6240, 'mets': 3, 'name': 'Wiring, plumbing'}], 'id': 3, 'name': 'Home repair'}, {'activities': [{'accessLevel': 'PUBLIC', 'hasSpeed': False, 'id': 8010, 'mets': 5, 'name': 'Carrying, loading or stacking wood, loading/unloading or carrying lumber'}, {'accessLevel': 'PUBLIC', 'hasSpeed': False, 'id': 8020, 'mets': 6, 'name': 'Chopping wood, splitting logs'}, {'accessLevel': 'PUBLIC', 'hasSpeed': False, 'id': 8030, 'mets': 5, 'name': 'Clearing land, hauling branches, wheelbarrow chores'}, {'accessLevel': 'PUBLIC', 'hasSpeed': False, 'id': 8040, 'mets': 5, 'name': 'Digging sandbox'}, {'accessLevel': 'PUBLIC', 'hasSpeed': False, 'id': 8050, 'mets': 5, 'name': 'Digging, spading, filling garden, composting'}, {'accessLevel': 'PUBLIC', 'hasSpeed': False, 'id': 8245, 'mets': 4, 'name': 'Gardening'}, {'accessLevel': 'PUBLIC', 'hasSpeed': False, 'id': 8060, 'mets': 6, 'name': 'Gardening with heavy power tools, tilling a garden, chain saw'}, {'accessLevel': 'PUBLIC', 'hasSpeed': False, 'id': 8250, 'mets': 3, 'name': 'Implied walking/standing -picking up yard, light, picking flowers or vegetables'}, {'accessLevel': 'PUBLIC', 'hasSpeed': False, 'id': 8080, 'mets': 5, 'name': 'Laying crushed rock'}, {'accessLevel': 'PUBLIC', 'hasSpeed': False, 'id': 8090, 'mets': 5, 'name': 'Laying sod'}, {'accessLevel': 'PUBLIC', 'hasSpeed': False, 'id': 8095, 'mets': 5.5, 'name': 'Mowing lawn'}, {'accessLevel': 'PUBLIC', 'hasSpeed': False, 'id': 8100, 'mets': 2.5, 'name': 'Mowing lawn, riding mower'}, {'accessLevel': 'PUBLIC', 'hasSpeed': False, 'id': 8110, 'mets': 6, 'name': 'Mowing lawn, walk, hand mower'}, {'accessLevel': 'PUBLIC', 'hasSpeed': False, 'id': 8120, 'mets': 5.5, 'name': 'Mowing lawn, walk, power mower'}, {'accessLevel': 'PUBLIC', 'hasSpeed': False, 'id': 8130, 'mets': 4.5, 'name': 'Operating snow blower, walking'}, {'accessLevel': 'PUBLIC', 'hasSpeed': False, 'id': 8246, 'mets': 3, 'name': 'Picking fruit off trees, picking fruits/vegetables, moderate effort'}, {'accessLevel': 'PUBLIC', 'hasSpeed': False, 'id': 8140, 'mets': 4.5, 'name': 'Planting seedlings, shrubs'}, {'accessLevel': 'PUBLIC', 'hasSpeed': False, 'id': 8150, 'mets': 4.5, 'name': 'Planting trees'}, {'accessLevel': 'PUBLIC', 'hasSpeed': False, 'id': 8160, 'mets': 4.300000190734863, 'name': 'Raking lawn'}, {'accessLevel': 'PUBLIC', 'hasSpeed': False, 'id': 8170, 'mets': 4, 'name': 'Raking roof with snow rake'}, {'accessLevel': 'PUBLIC', 'hasSpeed': False, 'id': 8180, 'mets': 3, 'name': 'Riding snow blower'}, {'accessLevel': 'PUBLIC', 'hasSpeed': False, 'id': 8190, 'mets': 4, 'name': 'Sacking grass, leaves'}, {'accessLevel': 'PUBLIC', 'hasSpeed': False, 'id': 8200, 'mets': 6, 'name': 'Shoveling snow, by hand'}, {'accessLevel': 'PUBLIC', 'hasSpeed': False, 'id': 8210, 'mets': 4.5, 'name': 'Trimming shrubs or trees, manual cutter'}, {'accessLevel': 'PUBLIC', 'hasSpeed': False, 'id': 8215, 'mets': 3.5, 'name': 'Trimming shrubs or trees, power cutter, using leaf blower, edger'}, {'accessLevel': 'PUBLIC', 'hasSpeed': False, 'id': 8220, 'mets': 2.5, 'name': 'Walking, applying fertilizer or seeding a lawn'}, {'accessLevel': 'PUBLIC', 'hasSpeed': False, 'id': 8251, 'mets': 3, 'name': 'Walking, gathering gardening tools'}, {'accessLevel': 'PUBLIC', 'hasSpeed': False, 'id': 8230, 'mets': 1.5, 'name': 'Watering lawn or garden, standing or walking'}, {'accessLevel': 'PUBLIC', 'hasSpeed': False, 'id': 8240, 'mets': 4.5, 'name': 'Weeding, cultivating garden'}], 'id': 5, 'name': 'Lawn and garden'}, {'activities': [{'accessLevel': 'PUBLIC', 'hasSpeed': False, 'id': 7010, 'mets': 1, 'name': 'Lying quietly and watching television'}, {'accessLevel': 'PUBLIC', 'hasSpeed': False, 'id': 7011, 'mets': 1, 'name': 'Lying quietly, doing nothing, lying in bed awake, listening to music (not talking or reading)'}, {'accessLevel': 'PUBLIC', 'hasSpeed': False, 'id': 7075, 'mets': 1, 'name': 'Meditating'}, {'accessLevel': 'PUBLIC', 'hasSpeed': False, 'id': 7070, 'mets': 1, 'name': 'Reclining - reading'}, {'accessLevel': 'PUBLIC', 'hasSpeed': False, 'id': 7060, 'mets': 1, 'name': 'Reclining - talking or talking on phone'}, {'accessLevel': 'PUBLIC', 'hasSpeed': False, 'id': 7050, 'mets': 1, 'name': 'Reclining - writing'}, {'accessLevel': 'PUBLIC', 'hasSpeed': False, 'id': 7020, 'mets': 1, 'name': 'Sitting quietly and watching television'}, {'accessLevel': 'PUBLIC', 'hasSpeed': False, 'id': 7021, 'mets': 1, 'name': 'Sitting quietly, sitting smoking, listening to music (not talking or reading), watching a movie in a theater'}, {'accessLevel': 'PUBLIC', 'hasSpeed': False, 'id': 7030, 'mets': 0.8999999761581421, 'name': 'Sleeping'}, {'accessLevel': 'PUBLIC', 'hasSpeed': False, 'id': 7040, 'mets': 1.2000000476837158, 'name': 'Standing quietly (standing in a line)'}], 'id': 4, 'name': 'Leisure and inactivity'}, {'activities': [{'accessLevel': 'PUBLIC', 'hasSpeed': False, 'id': 9110, 'mets': 2.5, 'name': 'Camping involving standing, walking, sitting, light-to-moderate effort'}, {'accessLevel': 'PUBLIC', 'hasSpeed': False, 'id': 9100, 'mets': 1.5, 'name': 'Retreat/family reunion activities involving sitting, relaxing, talking, eating'}, {'accessLevel': 'PUBLIC', 'hasSpeed': False, 'id': 9075, 'mets': 1.5, 'name': 'Sitting - arts and crafts, light effort'}, {'accessLevel': 'PUBLIC', 'hasSpeed': False, 'id': 9065, 'mets': 1.7999999523162842, 'name': 'Sitting - in class, general, including note-taking or class discussion'}, {'accessLevel': 'PUBLIC', 'hasSpeed': False, 'id': 9030, 'mets': 1.2999999523162842, 'name': 'Sitting - reading, book, newspaper, etc.'}, {'accessLevel': 'PUBLIC', 'hasSpeed': False, 'id': 9060, 'mets': 1.7999999523162842, 'name': 'Sitting - studying, general, including reading and/or writing'}, {'accessLevel': 'PUBLIC', 'hasSpeed': False, 'id': 9055, 'mets': 1.5, 'name': 'Sitting - talking or talking on the phone'}, {'accessLevel': 'PUBLIC', 'hasSpeed': False, 'id': 9040, 'mets': 1.7999999523162842, 'name': 'Sitting - writing, desk work, typing'}, {'accessLevel': 'PUBLIC', 'hasSpeed': False, 'id': 9080, 'mets': 2, 'name': 'Sitting -arts and crafts, moderate effort'}, {'accessLevel': 'PUBLIC', 'hasSpeed': False, 'id': 9010, 'mets': 1.5, 'name': 'Sitting -card playing, playing board games'}, {'accessLevel': 'PUBLIC', 'hasSpeed': False, 'id': 9115, 'mets': 1.5, 'name': 'Sitting at a sporting event, spectator'}, {'accessLevel': 'PUBLIC', 'hasSpeed': False, 'id': 9085, 'mets': 1.7999999523162842, 'name': 'Standing - arts and crafts, light effort'}, {'accessLevel': 'PUBLIC', 'hasSpeed': False, 'id': 9090, 'mets': 3, 'name': 'Standing - arts and crafts, moderate effort'}, {'accessLevel': 'PUBLIC', 'hasSpeed': False, 'id': 9095, 'mets': 3.5, 'name': 'Standing - arts and crafts, vigorous effort'}, {'accessLevel': 'PUBLIC', 'hasSpeed': False, 'id': 9071, 'mets': 2, 'name': 'Standing - miscellaneous'}, {'accessLevel': 'PUBLIC', 'hasSpeed': False, 'id': 9070, 'mets': 1.7999999523162842, 'name': 'Standing - reading'}, {'accessLevel': 'PUBLIC', 'hasSpeed': False, 'id': 9050, 'mets': 1.7999999523162842, 'name': 'Standing - talking or talking on the phone'}, {'accessLevel': 'PUBLIC', 'hasSpeed': False, 'id': 9020, 'mets': 2.299999952316284, 'name': 'Standing -drawing (writing), casino gambling, duplicating machine'}, {'accessLevel': 'PUBLIC', 'hasSpeed': False, 'id': 9105, 'mets': 2, 'name': 'Touring/traveling/vacation involving walking and riding'}], 'id': 6, 'name': 'Miscellaneous'}, {'activities': [{'accessLevel': 'PUBLIC', 'hasSpeed': False, 'id': 10010, 'mets': 1.7999999523162842, 'name': 'Accordion'}, {'accessLevel': 'PUBLIC', 'hasSpeed': False, 'id': 10020, 'mets': 2, 'name': 'Cello'}, {'accessLevel': 'PUBLIC', 'hasSpeed': False, 'id': 10030, 'mets': 2.5, 'name': 'Conducting'}, {'accessLevel': 'PUBLIC', 'hasSpeed': False, 'id': 10040, 'mets': 4, 'name': 'Drums'}, {'accessLevel': 'PUBLIC', 'hasSpeed': False, 'id': 10050, 'mets': 2, 'name': 'Flute (sitting)'}, {'accessLevel': 'PUBLIC', 'hasSpeed': False, 'id': 10120, 'mets': 2, 'name': 'Guitar, classical, folk (sitting)'}, {'accessLevel': 'PUBLIC', 'hasSpeed': False, 'id': 10125, 'mets': 3, 'name': 'Guitar, rock and roll band (standing)'}, {'accessLevel': 'PUBLIC', 'hasSpeed': False, 'id': 10060, 'mets': 2, 'name': 'Horn'}, {'accessLevel': 'PUBLIC', 'hasSpeed': False, 'id': 10135, 'mets': 3.5, 'name': 'Marching band, drum major (walking)'}, {'accessLevel': 'PUBLIC', 'hasSpeed': False, 'id': 10130, 'mets': 4, 'name': 'Marching band, playing an instrument, baton twirling (walking)'}, {'accessLevel': 'PUBLIC', 'hasSpeed': False, 'id': 10070, 'mets': 2.5, 'name': 'Piano or organ'}, {'accessLevel': 'PUBLIC', 'hasSpeed': False, 'id': 10080, 'mets': 3.5, 'name': 'Trombone'}, {'accessLevel': 'PUBLIC', 'hasSpeed': False, 'id': 10090, 'mets': 2.5, 'name': 'Trumpet'}, {'accessLevel': 'PUBLIC', 'hasSpeed': False, 'id': 10100, 'mets': 2.5, 'name': 'Violin'}, {'accessLevel': 'PUBLIC', 'hasSpeed': False, 'id': 10110, 'mets': 2, 'name': 'Woodwind'}], 'id': 7, 'name': 'Music playing'}, {'activities': [{'accessLevel': 'PUBLIC', 'hasSpeed': False, 'id': 11010, 'mets': 4, 'name': 'Bakery, general, moderate effort'}, {'accessLevel': 'PUBLIC', 'hasSpeed': False, 'id': 11015, 'mets': 2.5, 'name': 'Bakery, light effort'}, {'accessLevel': 'PUBLIC', 'hasSpeed': False, 'id': 11020, 'mets': 2.299999952316284, 'name': 'Bookbinding'}, {'accessLevel': 'PUBLIC', 'hasSpeed': False, 'id': 11030, 'mets': 6, 'name': 'Building road (including hauling debris, driving heavy machinery)'}, {'accessLevel': 'PUBLIC', 'hasSpeed': False, 'id': 11035, 'mets': 2, 'name': 'Building road, directing traffic (standing)'}, {'accessLevel': 'PUBLIC', 'hasSpeed': False, 'id': 11040, 'mets': 3.5, 'name': 'Carpentry'}, {'accessLevel': 'PUBLIC', 'hasSpeed': False, 'id': 11050, 'mets': 8, 'name': 'Carrying heavy loads, such as bricks'}, {'accessLevel': 'PUBLIC', 'hasSpeed': False, 'id': 11060, 'mets': 8, 'name': 'Carrying moderate loads up stairs, moving boxes (16-40 pounds)'}, {'accessLevel': 'PUBLIC', 'hasSpeed': False, 'id': 11070, 'mets': 2.5, 'name': 'Chambermaid, making bed (nursing)'}, {'accessLevel': 'PUBLIC', 'hasSpeed': False, 'id': 11120, 'mets': 5.5, 'name': 'Construction, outside, remodeling'}, {'accessLevel': 'PUBLIC', 'hasSpeed': False, 'id': 11130, 'mets': 3.5, 'name': 'Electrical work, plumbing'}, {'accessLevel': 'PUBLIC', 'hasSpeed': False, 'id': 11370, 'mets': 4.5, 'name': 'Furriery'}, {'accessLevel': 'PUBLIC', 'hasSpeed': False, 'id': 11380, 'mets': 6, 'name': 'Horse grooming'}, {'accessLevel': 'PUBLIC', 'hasSpeed': False, 'id': 11615, 'mets': 4, 'name': 'Lifting items continuously, 10 - 20 lbs, with limited walking or resting'}, {'accessLevel': 'PUBLIC', 'hasSpeed': False, 'id': 11420, 'mets': 3.5, 'name': 'Locksmith'}, {'accessLevel': 'PUBLIC', 'hasSpeed': False, 'id': 11480, 'mets': 7, 'name': 'Masonry concrete'}, {'accessLevel': 'PUBLIC', 'hasSpeed': False, 'id': 11485, 'mets': 4, 'name': 'Massage therapist (standing)'}, {'accessLevel': 'PUBLIC', 'hasSpeed': False, 'id': 11490, 'mets': 7.5, 'name': 'Moving, pushing heavy objects, 75 lbs or more (desks, moving van work)'}, {'accessLevel': 'PUBLIC', 'hasSpeed': False, 'id': 11500, 'mets': 2.5, 'name': 'Operating heavy duty equipment/automated, not driving'}, {'accessLevel': 'PUBLIC', 'hasSpeed': False, 'id': 11510, 'mets': 4.5, 'name': 'Orange grove work'}, {'accessLevel': 'PUBLIC', 'hasSpeed': False, 'id': 11520, 'mets': 2.299999952316284, 'name': 'Printing (standing)'}, {'accessLevel': 'PUBLIC', 'hasSpeed': False, 'id': 11530, 'mets': 2.5, 'name': 'Shoe repair, general'}, {'accessLevel': 'PUBLIC', 'activityLevels': [{'id': 11540, 'maxSpeedMPH': -1, 'mets': 8.5, 'minSpeedMPH': -1, 'name': 'Digging ditches'}, {'id': 11550, 'maxSpeedMPH': -1, 'mets': 9, 'minSpeedMPH': -1, 'name': 'Heavy lifting (more than 16 pounds/minute)'}, {'id': 11560, 'maxSpeedMPH': -1, 'mets': 6, 'minSpeedMPH': -1, 'name': 'Light lifting (less than 10 pounds/minute)'}, {'id': 11570, 'maxSpeedMPH': -1, 'mets': 7, 'minSpeedMPH': -1, 'name': 'Moderate lifting (10 to 15 pounds/minute)'}], 'hasSpeed': False, 'id': 90007, 'name': 'Shoveling'}, {'accessLevel': 'PUBLIC', 'hasSpeed': False, 'id': 11580, 'mets': 1.5, 'name': 'Sitting - light office work, general (chemistry lab work, light use of hand tools, watch repair or micro-assembly, light assembly/repair), sitting, reading, driving at work'}, {'accessLevel': 'PUBLIC', 'hasSpeed': False, 'id': 11585, 'mets': 1.5, 'name': 'Sitting - meetings, general, and/or with talking involved, eating at a business meeting'}, {'accessLevel': 'PUBLIC', 'hasSpeed': False, 'id': 11590, 'mets': 2.5, 'name': 'Sitting; moderate (heavy levers, riding mower/forklift, crane operation), teaching stretching or yoga'}, {'accessLevel': 'PUBLIC', 'hasSpeed': False, 'id': 11495, 'mets': 12, 'name': 'Skindiving or SCUBA diving as a frogman (Navy Seal)'}, {'accessLevel': 'PUBLIC', 'hasSpeed': False, 'id': 11600, 'mets': 2.299999952316284, 'name': 'Standing; light (bartending, store clerk, assembling, filing, duplicating, putting up a Christmas tree), standing and talking at work, changing clothes when teaching physical education'}, {'accessLevel': 'PUBLIC', 'hasSpeed': False, 'id': 11610, 'mets': 3, 'name': 'Standing; light/moderate (assemble/repair heavy parts, welding, stocking, auto repair, pack boxes for moving, etc.), patient care (as in nursing)'}, {'accessLevel': 'PUBLIC', 'hasSpeed': False, 'id': 11620, 'mets': 3.5, 'name': 'Standing; moderate (assembling at fast rate, intermittent, lifting 50 lbs, hitch/twisting ropes)'}, {'accessLevel': 'PUBLIC', 'hasSpeed': False, 'id': 11630, 'mets': 4, 'name': 'Standing; moderate/heavy (lifting more than 50 lbs, masonry, painting, paper hanging)'}, {'accessLevel': 'PUBLIC', 'hasSpeed': False, 'id': 11875, 'mets': 4, 'name': 'Teach physical education, exercise, sports classes (non-sport play)'}, {'accessLevel': 'PUBLIC', 'hasSpeed': False, 'id': 11876, 'mets': 6.5, 'name': 'Teach physical education, exercise, sports classes (participate in the class)'}, {'accessLevel': 'PUBLIC', 'hasSpeed': False, 'id': 11766, 'mets': 6.5, 'name': 'Truck driving, loading and unloading truck (standing)'}, {'accessLevel': 'PUBLIC', 'hasSpeed': False, 'id': 11770, 'mets': 1.5, 'name': 'Typing, electric, manual or computer'}, {'accessLevel': 'PUBLIC', 'hasSpeed': False, 'id': 11780, 'mets': 6, 'name': 'Using heavy power tools such as pneumatic tools (jackhammers, drills. etc.)'}, {'accessLevel': 'PUBLIC', 'hasSpeed': False, 'id': 11790, 'mets': 8, 'name': 'Using heavy tools (not power) such as shovel, pick, tunnel bar, spade'}, {'accessLevel': 'PUBLIC', 'activityLevels': [{'id': 11810, 'maxSpeedMPH': -1, 'mets': 4.5, 'minSpeedMPH': -1, 'name': 'Carrying under 25 pounds'}, {'id': 11820, 'maxSpeedMPH': -1, 'mets': 5, 'minSpeedMPH': -1, 'name': 'Carrying 25 to 49 pounds'}, {'id': 11830, 'maxSpeedMPH': -1, 'mets': 6.5, 'minSpeedMPH': -1, 'name': 'Carrying 50 to 74 pounds'}, {'id': 11840, 'maxSpeedMPH': -1, 'mets': 7.5, 'minSpeedMPH': -1, 'name': 'Carrying 75 to 99 pounds'}, {'id': 11850, 'maxSpeedMPH': -1, 'mets': 8.5, 'minSpeedMPH': -1, 'name': 'Carrying over 100 pounds'}], 'hasSpeed': False, 'id': 90008, 'name': 'Walking while carrying things'}, {'accessLevel': 'PUBLIC', 'hasSpeed': False, 'id': 11870, 'mets': 3, 'name': 'Working in scene shop, theater actor, backstage employee'}], 'id': 8, 'name': 'Occupations', 'subCategories': [{'activities': [{'accessLevel': 'PUBLIC', 'hasSpeed': False, 'id': 11090, 'mets': 6.5, 'name': 'Coal mining, erecting supports'}, {'accessLevel': 'PUBLIC', 'hasSpeed': False, 'id': 11100, 'mets': 6, 'name': 'Coal mining, general'}, {'accessLevel': 'PUBLIC', 'hasSpeed': False, 'id': 11080, 'mets': 6.5, 'name': 'Drilling coal, rock'}, {'accessLevel': 'PUBLIC', 'hasSpeed': False, 'id': 11110, 'mets': 7, 'name': 'Shoveling coal'}], 'id': 9, 'name': 'Coal Mining'}, {'activities': [{'accessLevel': 'PUBLIC', 'hasSpeed': False, 'id': 11121, 'mets': 3, 'name': 'Buffing the floor with electric buffer'}, {'accessLevel': 'PUBLIC', 'hasSpeed': False, 'id': 11122, 'mets': 2.5, 'name': 'Cleaning sink and toilet, light effort'}, {'accessLevel': 'PUBLIC', 'hasSpeed': False, 'id': 11123, 'mets': 2.5, 'name': 'Dusting, light effort'}, {'accessLevel': 'PUBLIC', 'hasSpeed': False, 'id': 11124, 'mets': 4, 'name': 'Feathering arena floor, moderate effort'}, {'accessLevel': 'PUBLIC', 'hasSpeed': False, 'id': 11125, 'mets': 3.5, 'name': 'General cleaning, moderate effort'}, {'accessLevel': 'PUBLIC', 'hasSpeed': False, 'id': 11126, 'mets': 3.5, 'name': 'Mopping, moderate effort'}, {'accessLevel': 'PUBLIC', 'hasSpeed': False, 'id': 11127, 'mets': 3, 'name': 'Taking out the trash, moderate effort'}, {'accessLevel': 'PUBLIC', 'hasSpeed': False, 'id': 11128, 'mets': 2.5, 'name': 'Vacuuming, light effort'}, {'accessLevel': 'PUBLIC', 'hasSpeed': False, 'id': 11129, 'mets': 3, 'name': 'Vacuuming, moderate effort'}], 'id': 10, 'name': 'Custodial Work'}, {'activities': [{'accessLevel': 'PUBLIC', 'hasSpeed': False, 'id': 11140, 'mets': 8, 'name': 'Baling hay, cleaning barn, poultry work, vigorous effort'}, {'accessLevel': 'PUBLIC', 'hasSpeed': False, 'id': 11151, 'mets': 4, 'name': 'Chasing cattle or other livestock on horseback, moderate effort'}, {'accessLevel': 'PUBLIC', 'hasSpeed': False, 'id': 11152, 'mets': 2, 'name': 'Chasing cattle or other livestock, driving, light effort'}, {'accessLevel': 'PUBLIC', 'hasSpeed': False, 'id': 11150, 'mets': 3.5, 'name': 'Chasing cattle, non-strenuous (walking), moderate effort'}, {'accessLevel': 'PUBLIC', 'hasSpeed': False, 'id': 11160, 'mets': 2.5, 'name': 'Driving a harvester, cutting hay, irrigation work'}, {'accessLevel': 'PUBLIC', 'hasSpeed': False, 'id': 11170, 'mets': 2.5, 'name': 'Driving a tractor'}, {'accessLevel': 'PUBLIC', 'hasSpeed': False, 'id': 11190, 'mets': 4.5, 'name': 'Feeding cattle, horses'}, {'accessLevel': 'PUBLIC', 'hasSpeed': False, 'id': 11180, 'mets': 4, 'name': 'Feeding small animals'}, {'accessLevel': 'PUBLIC', 'hasSpeed': False, 'id': 11200, 'mets': 8, 'name': 'Forking straw bales, cleaning corral or bars, vigorous effort'}, {'accessLevel': 'PUBLIC', 'hasSpeed': False, 'id': 11191, 'mets': 4.5, 'name': 'Hauling water for animals, general hauling water'}, {'accessLevel': 'PUBLIC', 'hasSpeed': False, 'id': 11210, 'mets': 3, 'name': 'Milking by hand, moderate effort'}, {'accessLevel': 'PUBLIC', 'hasSpeed': False, 'id': 11220, 'mets': 1.5, 'name': 'Milking by machine, light effort'}, {'accessLevel': 'PUBLIC', 'hasSpeed': False, 'id': 11230, 'mets': 5.5, 'name': 'Shoveling grain, moderate effort'}, {'accessLevel': 'PUBLIC', 'hasSpeed': False, 'id': 11192, 'mets': 6, 'name': 'Taking care of animals (grooming, brushing, shearing sheep, assisting with birthing, medical care, branding)'}], 'id': 11, 'name': 'Farming'}, {'activities': [{'accessLevel': 'PUBLIC', 'hasSpeed': False, 'id': 11245, 'mets': 11, 'name': 'Fire fighter, climbing ladder with full gear'}, {'accessLevel': 'PUBLIC', 'hasSpeed': False, 'id': 11240, 'mets': 12, 'name': 'Fire fighter, general'}, {'accessLevel': 'PUBLIC', 'hasSpeed': False, 'id': 11246, 'mets': 8, 'name': 'Fire fighter, hauling hoses on ground'}], 'id': 12, 'name': 'Fire Fighter'}, {'activities': [{'accessLevel': 'PUBLIC', 'hasSpeed': False, 'id': 11250, 'mets': 17, 'name': 'Ax chopping, fast'}, {'accessLevel': 'PUBLIC', 'hasSpeed': False, 'id': 11260, 'mets': 5, 'name': 'Ax chopping, slow'}, {'accessLevel': 'PUBLIC', 'hasSpeed': False, 'id': 11270, 'mets': 7, 'name': 'Barking trees'}, {'accessLevel': 'PUBLIC', 'hasSpeed': False, 'id': 11280, 'mets': 11, 'name': 'Carrying logs'}, {'accessLevel': 'PUBLIC', 'hasSpeed': False, 'id': 11290, 'mets': 8, 'name': 'Felling trees'}, {'accessLevel': 'PUBLIC', 'hasSpeed': False, 'id': 11300, 'mets': 8, 'name': 'Forestry, general'}, {'accessLevel': 'PUBLIC', 'hasSpeed': False, 'id': 11310, 'mets': 5, 'name': 'Hoeing'}, {'accessLevel': 'PUBLIC', 'hasSpeed': False, 'id': 11320, 'mets': 6, 'name': 'Planting by hand'}, {'accessLevel': 'PUBLIC', 'hasSpeed': False, 'id': 11330, 'mets': 7, 'name': 'Sawing by hand'}, {'accessLevel': 'PUBLIC', 'hasSpeed': False, 'id': 11340, 'mets': 4.5, 'name': 'Sawing with a chainsaw'}, {'accessLevel': 'PUBLIC', 'hasSpeed': False, 'id': 11350, 'mets': 9, 'name': 'Trimming trees'}, {'accessLevel': 'PUBLIC', 'hasSpeed': False, 'id': 11360, 'mets': 4, 'name': 'Weeding'}], 'id': 13, 'name': 'Forestry'}, {'activities': [{'accessLevel': 'PUBLIC', 'hasSpeed': False, 'id': 11390, 'mets': 8, 'name': 'Horseback riding - galloping'}, {'accessLevel': 'PUBLIC', 'hasSpeed': False, 'id': 11400, 'mets': 6.5, 'name': 'Horseback riding - trotting'}, {'accessLevel': 'PUBLIC', 'hasSpeed': False, 'id': 11410, 'mets': 2.5999999046325684, 'name': 'Horseback riding - walking'}], 'id': 14, 'name': 'Horse Trainer'}, {'activities': [{'accessLevel': 'PUBLIC', 'hasSpeed': False, 'id': 11430, 'mets': 2.5, 'name': 'Machine tooling, machining, working sheet metal'}, {'accessLevel': 'PUBLIC', 'hasSpeed': False, 'id': 11440, 'mets': 3, 'name': 'Operating a lathe'}, {'accessLevel': 'PUBLIC', 'hasSpeed': False, 'id': 11450, 'mets': 5, 'name': 'Operating a punch press'}, {'accessLevel': 'PUBLIC', 'hasSpeed': False, 'id': 11460, 'mets': 4, 'name': 'Tapping and drilling'}, {'accessLevel': 'PUBLIC', 'hasSpeed': False, 'id': 11470, 'mets': 3, 'name': 'Welding'}], 'id': 15, 'name': 'Machine Shop'}, {'activities': [{'accessLevel': 'PUBLIC', 'hasSpeed': False, 'id': 11525, 'mets': 2.5, 'name': 'Directing traffic (standing)'}, {'accessLevel': 'PUBLIC', 'hasSpeed': False, 'id': 11526, 'mets': 2, 'name': 'Driving a squad car (sitting)'}, {'accessLevel': 'PUBLIC', 'hasSpeed': False, 'id': 11528, 'mets': 4, 'name': 'Making an arrest (standing)'}, {'accessLevel': 'PUBLIC', 'hasSpeed': False, 'id': 11527, 'mets': 1.2999999523162842, 'name': 'Riding in a squad car (sitting)'}], 'id': 16, 'name': 'Police'}, {'activities': [{'accessLevel': 'PUBLIC', 'hasSpeed': False, 'id': 11640, 'mets': 5, 'name': 'Fettling'}, {'accessLevel': 'PUBLIC', 'hasSpeed': False, 'id': 11650, 'mets': 5.5, 'name': 'Forging'}, {'accessLevel': 'PUBLIC', 'hasSpeed': False, 'id': 11660, 'mets': 8, 'name': 'Hand rolling'}, {'accessLevel': 'PUBLIC', 'hasSpeed': False, 'id': 11670, 'mets': 8, 'name': 'Merchant mill rolling'}, {'accessLevel': 'PUBLIC', 'hasSpeed': False, 'id': 11680, 'mets': 11, 'name': 'Removing slag'}, {'accessLevel': 'PUBLIC', 'hasSpeed': False, 'id': 11690, 'mets': 7.5, 'name': 'Tending furnace'}, {'accessLevel': 'PUBLIC', 'hasSpeed': False, 'id': 11700, 'mets': 5.5, 'name': 'Tipping molds'}, {'accessLevel': 'PUBLIC', 'hasSpeed': False, 'id': 11710, 'mets': 8, 'name': 'Working in general'}], 'id': 17, 'name': 'Steel Mill'}, {'activities': [{'accessLevel': 'PUBLIC', 'hasSpeed': False, 'id': 11740, 'mets': 2, 'name': 'Hand sewing'}, {'accessLevel': 'PUBLIC', 'hasSpeed': False, 'id': 11750, 'mets': 2.5, 'name': 'Machine sewing'}, {'accessLevel': 'PUBLIC', 'hasSpeed': False, 'id': 11760, 'mets': 4, 'name': 'Pressing'}, {'accessLevel': 'PUBLIC', 'hasSpeed': False, 'id': 11720, 'mets': 2.5, 'name': 'Tailoring, cutting'}, {'accessLevel': 'PUBLIC', 'hasSpeed': False, 'id': 11730, 'mets': 2.5, 'name': 'Tailoring, general'}, {'accessLevel': 'PUBLIC', 'hasSpeed': False, 'id': 11765, 'mets': 3.5, 'name': 'Weaving'}], 'id': 18, 'name': 'Tailoring'}]}, {'activities': [{'accessLevel': 'PUBLIC', 'hasSpeed': False, 'id': 53001, 'mets': 3.0999999046325684, 'name': 'Pilates'}, {'accessLevel': 'PUBLIC', 'hasSpeed': False, 'id': 53003, 'mets': 5.300000190734863, 'name': 'Pilates, Advanced'}, {'accessLevel': 'PUBLIC', 'hasSpeed': False, 'id': 53002, 'mets': 4.300000190734863, 'name': 'Pilates, Intermediate'}], 'id': 32, 'name': 'Pilates'}, {'activities': [{'accessLevel': 'PUBLIC', 'hasSpeed': False, 'id': 13030, 'mets': 1.5, 'name': 'Eating (sitting)'}, {'accessLevel': 'PUBLIC', 'hasSpeed': False, 'id': 13040, 'mets': 2, 'name': 'Grooming (washing, shaving, brushing teeth, washing hands, putting on make-up), sitting or standing'}, {'accessLevel': 'PUBLIC', 'hasSpeed': False, 'id': 13045, 'mets': 2.5, 'name': 'Hairstyling'}, {'accessLevel': 'PUBLIC', 'hasSpeed': False, 'id': 13046, 'mets': 1, 'name': 'Having hair or nails done by someone else, sitting'}, {'accessLevel': 'PUBLIC', 'hasSpeed': False, 'id': 13000, 'mets': 2, 'name': 'Standing - getting ready for bed, in general'}, {'accessLevel': 'PUBLIC', 'hasSpeed': False, 'id': 13036, 'mets': 1, 'name': 'Taking medication, sitting or standing'}, {'accessLevel': 'PUBLIC', 'hasSpeed': False, 'id': 13035, 'mets': 2, 'name': 'Talking and eating or eating only (standing)'}], 'id': 19, 'name': 'Self care'}, {'activities': [{'accessLevel': 'PUBLIC', 'hasSpeed': False, 'id': 15010, 'mets': 3.5, 'name': 'Archery'}, {'accessLevel': 'PUBLIC', 'hasSpeed': False, 'id': 15020, 'mets': 7, 'name': 'Badminton'}, {'accessLevel': 'PUBLIC', 'hasSpeed': False, 'id': 15030, 'mets': 4.5, 'name': 'Badminton, social singles and doubles, general'}, {'accessLevel': 'PUBLIC', 'hasSpeed': False, 'id': 15620, 'mets': 5, 'name': 'Baseball'}, {'accessLevel': 'PUBLIC', 'hasSpeed': False, 'id': 15040, 'mets': 8, 'name': 'Basketball'}, {'accessLevel': 'PUBLIC', 'hasSpeed': False, 'id': 15050, 'mets': 6, 'name': 'Basketball, non-game, general'}, {'accessLevel': 'PUBLIC', 'hasSpeed': False, 'id': 15060, 'mets': 7, 'name': 'Basketball, officiating'}, {'accessLevel': 'PUBLIC', 'hasSpeed': False, 'id': 15070, 'mets': 4.5, 'name': 'Basketball, shooting baskets'}, {'accessLevel': 'PUBLIC', 'hasSpeed': False, 'id': 15075, 'mets': 6.5, 'name': 'Basketball, wheelchair'}, {'accessLevel': 'PUBLIC', 'hasSpeed': False, 'id': 15080, 'mets': 2.5, 'name': 'Billiards'}, {'accessLevel': 'PUBLIC', 'hasSpeed': False, 'id': 55003, 'mets': 8.899999618530273, 'name': 'Bootcamp'}, {'accessLevel': 'PUBLIC', 'hasSpeed': False, 'id': 15090, 'mets': 3, 'name': 'Bowling'}, {'accessLevel': 'PUBLIC', 'hasSpeed': False, 'id': 15100, 'mets': 12, 'name': 'Boxing'}, {'accessLevel': 'PUBLIC', 'hasSpeed': False, 'id': 15110, 'mets': 6, 'name': 'Boxing, punching bag'}, {'accessLevel': 'PUBLIC', 'hasSpeed': False, 'id': 15120, 'mets': 9, 'name': 'Boxing, sparring'}, {'accessLevel': 'PUBLIC', 'hasSpeed': False, 'id': 15130, 'mets': 7, 'name': 'Broomball'}, {'accessLevel': 'PUBLIC', 'hasSpeed': False, 'id': 15135, 'mets': 5, 'name': \"Children's games (hopscotch, 4-square, dodge bail, playground apparatus, t-ball, tetherbai;, marbles, jacks, acrace games)\"}, {'accessLevel': 'PUBLIC', 'hasSpeed': False, 'id': 15140, 'mets': 4, 'name': 'Coaching: football, soccer, basketball, baseball, swimming, etc.'}, {'accessLevel': 'PUBLIC', 'hasSpeed': False, 'id': 15150, 'mets': 5, 'name': 'Cricket'}, {'accessLevel': 'PUBLIC', 'hasSpeed': False, 'id': 15160, 'mets': 2.5, 'name': 'Croquet'}, {'accessLevel': 'PUBLIC', 'hasSpeed': False, 'id': 15170, 'mets': 4, 'name': 'Curling'}, {'accessLevel': 'PUBLIC', 'hasSpeed': False, 'id': 15180, 'mets': 2.5, 'name': 'Darts, wail or lawn'}, {'accessLevel': 'PUBLIC', 'hasSpeed': False, 'id': 15190, 'mets': 6, 'name': 'Drag racing, pushing or driving a car'}, {'accessLevel': 'PUBLIC', 'hasSpeed': False, 'id': 15200, 'mets': 6, 'name': 'Fencing'}, {'accessLevel': 'PUBLIC', 'hasSpeed': False, 'id': 15350, 'mets': 8, 'name': 'Field Hockey'}, {'accessLevel': 'PUBLIC', 'hasSpeed': False, 'id': 15210, 'mets': 9, 'name': 'Football'}, {'accessLevel': 'PUBLIC', 'hasSpeed': False, 'id': 15235, 'mets': 2.5, 'name': 'Football or baseball, playing catch'}, {'accessLevel': 'PUBLIC', 'hasSpeed': False, 'id': 15230, 'mets': 8, 'name': 'Football, touch, flag, general'}, {'accessLevel': 'PUBLIC', 'hasSpeed': False, 'id': 15240, 'mets': 3, 'name': 'Frisbee playing, general'}, {'accessLevel': 'PUBLIC', 'hasSpeed': False, 'id': 15255, 'mets': 4.5, 'name': 'Golf'}, {'accessLevel': 'PUBLIC', 'hasSpeed': False, 'id': 15270, 'mets': 3, 'name': 'Golf, miniature, driving range'}, {'accessLevel': 'PUBLIC', 'hasSpeed': False, 'id': 15290, 'mets': 3.5, 'name': 'Golf, using power cart'}, {'accessLevel': 'PUBLIC', 'hasSpeed': False, 'id': 15265, 'mets': 4.5, 'name': 'Golf, walking and carrying clubs'}, {'accessLevel': 'PUBLIC', 'hasSpeed': False, 'id': 15285, 'mets': 4.300000190734863, 'name': 'Golf, walking and pulling clubs'}, {'accessLevel': 'PUBLIC', 'hasSpeed': False, 'id': 15300, 'mets': 4, 'name': 'Gymnastics'}, {'accessLevel': 'PUBLIC', 'hasSpeed': False, 'id': 15310, 'mets': 4, 'name': 'Hacky sack'}, {'accessLevel': 'PUBLIC', 'hasSpeed': False, 'id': 15320, 'mets': 12, 'name': 'Handball'}, {'accessLevel': 'PUBLIC', 'hasSpeed': False, 'id': 15330, 'mets': 8, 'name': 'Handball, team'}, {'accessLevel': 'PUBLIC', 'hasSpeed': False, 'id': 15340, 'mets': 3.5, 'name': 'Hang gliding'}, {'accessLevel': 'PUBLIC', 'hasSpeed': False, 'id': 15360, 'mets': 8, 'name': 'Hockey'}, {'accessLevel': 'PUBLIC', 'hasSpeed': False, 'id': 15370, 'mets': 4, 'name': 'Horseback riding'}, {'accessLevel': 'PUBLIC', 'hasSpeed': False, 'id': 11390, 'mets': 8, 'name': 'Horseback riding - galloping'}, {'accessLevel': 'PUBLIC', 'hasSpeed': False, 'id': 11400, 'mets': 6.5, 'name': 'Horseback riding - trotting'}, {'accessLevel': 'PUBLIC', 'hasSpeed': False, 'id': 11410, 'mets': 2.5999999046325684, 'name': 'Horseback riding - walking'}, {'accessLevel': 'PUBLIC', 'hasSpeed': False, 'id': 15380, 'mets': 3.5, 'name': 'Horseback riding, saddling horse, grooming horse'}, {'accessLevel': 'PUBLIC', 'hasSpeed': False, 'id': 15410, 'mets': 3, 'name': 'Horseshoe pitching'}, {'accessLevel': 'PUBLIC', 'hasSpeed': False, 'id': 15420, 'mets': 12, 'name': 'Jai alai'}, {'accessLevel': 'PUBLIC', 'hasSpeed': False, 'id': 15440, 'mets': 4, 'name': 'Juggling'}, {'accessLevel': 'PUBLIC', 'hasSpeed': False, 'id': 15551, 'mets': 10, 'name': 'Jumping rope'}, {'accessLevel': 'PUBLIC', 'hasSpeed': False, 'id': 15450, 'mets': 7, 'name': 'Kickball'}, {'accessLevel': 'PUBLIC', 'hasSpeed': False, 'id': 55002, 'mets': 9.399999618530273, 'name': 'Kickboxing'}, {'accessLevel': 'PUBLIC', 'hasSpeed': False, 'id': 15460, 'mets': 8, 'name': 'Lacrosse'}, {'accessLevel': 'PUBLIC', 'hasSpeed': False, 'id': 15430, 'mets': 10, 'name': 'Martial Arts'}, {'accessLevel': 'PUBLIC', 'hasSpeed': False, 'id': 15470, 'mets': 4, 'name': 'Motocross'}, {'accessLevel': 'PUBLIC', 'hasSpeed': False, 'id': 15480, 'mets': 9, 'name': 'Orienteering'}, {'accessLevel': 'PUBLIC', 'hasSpeed': False, 'id': 15500, 'mets': 6, 'name': 'Paddleball, casual, general'}, {'accessLevel': 'PUBLIC', 'hasSpeed': False, 'id': 15490, 'mets': 10, 'name': 'Paddleball, competitive'}, {'accessLevel': 'PUBLIC', 'hasSpeed': False, 'id': 15510, 'mets': 8, 'name': 'Polo'}, {'accessLevel': 'PUBLIC', 'hasSpeed': False, 'id': 15530, 'mets': 7, 'name': 'Racquetball'}, {'accessLevel': 'PUBLIC', 'hasSpeed': False, 'id': 15520, 'mets': 10, 'name': 'Racquetball, competitive'}, {'accessLevel': 'PUBLIC', 'hasSpeed': False, 'id': 15535, 'mets': 11, 'name': 'Rock climbing'}, {'accessLevel': 'PUBLIC', 'hasSpeed': False, 'id': 15540, 'mets': 8, 'name': 'Rock climbing, rappelling'}, {'accessLevel': 'PUBLIC', 'hasSpeed': False, 'id': 15591, 'mets': 12.5, 'name': 'Roller blading'}, {'accessLevel': 'PUBLIC', 'hasSpeed': False, 'id': 15590, 'mets': 7, 'name': 'Roller skating'}, {'accessLevel': 'PUBLIC', 'hasSpeed': False, 'id': 15550, 'mets': 12, 'name': 'Rope jumping, fast'}, {'accessLevel': 'PUBLIC', 'hasSpeed': False, 'id': 15552, 'mets': 8, 'name': 'Rope jumping, slow'}, {'accessLevel': 'PUBLIC', 'hasSpeed': False, 'id': 15560, 'mets': 10, 'name': 'Rugby'}, {'accessLevel': 'PUBLIC', 'hasSpeed': False, 'id': 15570, 'mets': 3, 'name': 'Shuffleboard, lawn bowling'}, {'accessLevel': 'PUBLIC', 'hasSpeed': False, 'id': 15580, 'mets': 5, 'name': 'Skateboarding'}, {'accessLevel': 'PUBLIC', 'hasSpeed': False, 'id': 15600, 'mets': 3.5, 'name': 'Sky diving'}, {'accessLevel': 'PUBLIC', 'hasSpeed': False, 'id': 15605, 'mets': 10, 'name': 'Soccer'}, {'accessLevel': 'PUBLIC', 'hasSpeed': False, 'id': 15610, 'mets': 7, 'name': 'Soccer, casual, general'}, {'accessLevel': 'PUBLIC', 'hasSpeed': False, 'id': 15640, 'mets': 6, 'name': 'Softball'}, {'accessLevel': 'PUBLIC', 'hasSpeed': False, 'id': 15630, 'mets': 4, 'name': 'Softball, officiating'}, {'accessLevel': 'PUBLIC', 'hasSpeed': False, 'id': 55001, 'mets': 6.5, 'name': 'Spinning'}, {'accessLevel': 'PUBLIC', 'hasSpeed': False, 'id': 15650, 'mets': 12, 'name': 'Squash'}, {'accessLevel': 'PUBLIC', 'hasSpeed': False, 'id': 15660, 'mets': 4, 'name': 'Table tennis'}, {'accessLevel': 'PUBLIC', 'hasSpeed': False, 'id': 15670, 'mets': 4, 'name': 'Tai chi'}, {'accessLevel': 'PUBLIC', 'hasSpeed': False, 'id': 15675, 'mets': 7, 'name': 'Tennis'}, {'accessLevel': 'PUBLIC', 'hasSpeed': False, 'id': 15680, 'mets': 6, 'name': 'Tennis, doubles'}, {'accessLevel': 'PUBLIC', 'hasSpeed': False, 'id': 15690, 'mets': 8, 'name': 'Tennis, singles'}, {'accessLevel': 'PUBLIC', 'hasSpeed': False, 'id': 15733, 'mets': 6, 'name': 'Track and field (high jump, long jump, triple jump, javelin, pole vault)'}, {'accessLevel': 'PUBLIC', 'hasSpeed': False, 'id': 15732, 'mets': 4, 'name': 'Track and field (shot, discus, hammer throw)'}, {'accessLevel': 'PUBLIC', 'hasSpeed': False, 'id': 15734, 'mets': 10, 'name': 'Track and field (steeplechase, hurdles)'}, {'accessLevel': 'PUBLIC', 'hasSpeed': False, 'id': 15700, 'mets': 3.5, 'name': 'Trampoline'}, {'accessLevel': 'PUBLIC', 'hasSpeed': False, 'id': 15250, 'mets': 8, 'name': 'Ultimate frisbee'}, {'accessLevel': 'PUBLIC', 'hasSpeed': False, 'id': 15711, 'mets': 8, 'name': 'Volleyball'}, {'accessLevel': 'PUBLIC', 'hasSpeed': False, 'id': 15725, 'mets': 8, 'name': 'Volleyball, beach'}, {'accessLevel': 'PUBLIC', 'hasSpeed': False, 'id': 15710, 'mets': 4, 'name': 'Volleyball, light'}, {'accessLevel': 'PUBLIC', 'hasSpeed': False, 'id': 15720, 'mets': 3, 'name': 'Volleyball, non-competitive, 6 - 9 member team, general'}, {'accessLevel': 'PUBLIC', 'hasSpeed': False, 'id': 15731, 'mets': 7, 'name': 'Wallyball, general'}, {'accessLevel': 'PUBLIC', 'hasSpeed': False, 'id': 15730, 'mets': 6, 'name': 'Wrestling'}, {'accessLevel': 'PUBLIC', 'hasSpeed': False, 'id': 56001, 'mets': 5.5, 'name': 'Zumba'}], 'id': 20, 'name': 'Sports and Workouts', 'subCategories': [{'activities': [{'accessLevel': 'PUBLIC', 'activityLevels': [{'id': 1010, 'maxSpeedMPH': 9.9, 'mets': 4, 'minSpeedMPH': -1, 'name': 'under 10 mph'}, {'id': 1020, 'maxSpeedMPH': 11.9, 'mets': 6, 'minSpeedMPH': 10, 'name': '10-11.9 mph'}, {'id': 1030, 'maxSpeedMPH': 13.9, 'mets': 8, 'minSpeedMPH': 12, 'name': '12 to 13.9mph'}, {'id': 1009, 'maxSpeedMPH': -1, 'mets': 8.5, 'minSpeedMPH': -1, 'name': 'Mountain Bike'}, {'id': 1040, 'maxSpeedMPH': 15.9, 'mets': 10, 'minSpeedMPH': 14, 'name': '14 to 15.9 mph'}, {'id': 1050, 'maxSpeedMPH': 19, 'mets': 12, 'minSpeedMPH': 16, 'name': '16 to 19mph'}, {'id': 1060, 'maxSpeedMPH': -1, 'mets': 16, 'minSpeedMPH': 20, 'name': 'over 20mph'}], 'hasSpeed': True, 'id': 90001, 'name': 'Bike'}, {'accessLevel': 'PUBLIC', 'hasSpeed': False, 'id': 1070, 'mets': 5, 'name': 'Unicycling'}], 'id': 21, 'name': 'Bicycling'}, {'activities': [{'accessLevel': 'PUBLIC', 'hasSpeed': False, 'id': 2020, 'mets': 8, 'name': 'Calisthenics'}, {'accessLevel': 'PUBLIC', 'hasSpeed': False, 'id': 2030, 'mets': 3.5, 'name': 'Calisthenics, home exercise, light or moderate effort, general (example: back exercises), going up and down from floor'}, {'accessLevel': 'PUBLIC', 'hasSpeed': False, 'id': 2040, 'mets': 8, 'name': 'Circuit Training'}, {'accessLevel': 'PUBLIC', 'hasSpeed': False, 'id': 2060, 'mets': 5.5, 'name': 'Health club exercise, general'}, {'accessLevel': 'PUBLIC', 'hasSpeed': False, 'id': 2101, 'mets': 2.5, 'name': 'Mild stretching'}, {'accessLevel': 'PUBLIC', 'activityLevels': [{'id': 2071, 'maxSpeedMPH': -1, 'mets': 3.5, 'minSpeedMPH': -1, 'name': 'light effort (50 watts)'}, {'id': 2072, 'maxSpeedMPH': -1, 'mets': 7, 'minSpeedMPH': -1, 'name': 'moderate effort (100 watts)'}, {'id': 2073, 'maxSpeedMPH': -1, 'mets': 8.5, 'minSpeedMPH': -1, 'name': 'vigorous effort (150 watts)'}, {'id': 2074, 'maxSpeedMPH': -1, 'mets': 12, 'minSpeedMPH': -1, 'name': 'very vigorous effort (200 watts)'}], 'hasSpeed': True, 'id': 90003, 'name': 'Rowing Machine'}, {'accessLevel': 'PUBLIC', 'hasSpeed': False, 'id': 2080, 'mets': 7, 'name': 'Ski machine, general'}, {'accessLevel': 'PUBLIC', 'hasSpeed': False, 'id': 2090, 'mets': 6, 'name': 'Slimnastics, jazzercise'}, {'accessLevel': 'PUBLIC', 'activityLevels': [{'id': 2011, 'maxSpeedMPH': -1, 'mets': 3, 'minSpeedMPH': -1, 'name': 'very light effort (50 watts)'}, {'id': 2012, 'maxSpeedMPH': -1, 'mets': 5.5, 'minSpeedMPH': -1, 'name': 'light effort (100 watts)'}, {'id': 2013, 'maxSpeedMPH': -1, 'mets': 7, 'minSpeedMPH': -1, 'name': 'moderate effort (150 watts)'}, {'id': 2014, 'maxSpeedMPH': -1, 'mets': 10.5, 'minSpeedMPH': -1, 'name': 'vigorous effort (200 watts)'}, {'id': 2015, 'maxSpeedMPH': -1, 'mets': 12.5, 'minSpeedMPH': -1, 'name': 'very vigorous effort (250 watts)'}], 'hasSpeed': True, 'id': 90002, 'name': 'Spinning'}, {'accessLevel': 'PUBLIC', 'hasSpeed': False, 'id': 2065, 'mets': 9, 'name': 'Stairclimber'}, {'accessLevel': 'PUBLIC', 'hasSpeed': False, 'id': 2100, 'mets': 2.5, 'name': 'Stretching'}, {'accessLevel': 'PUBLIC', 'hasSpeed': False, 'id': 2110, 'mets': 6, 'name': 'Teaching aerobic exercise class'}, {'accessLevel': 'PUBLIC', 'hasSpeed': False, 'id': 2120, 'mets': 4, 'name': 'Water aerobics'}, {'accessLevel': 'PUBLIC', 'hasSpeed': False, 'id': 2130, 'mets': 3, 'name': 'Weight lifting (free, nautilus or universal-type), light or moderate effort, light workout, general'}, {'accessLevel': 'PUBLIC', 'hasSpeed': False, 'id': 2050, 'mets': 6, 'name': 'Weights'}, {'accessLevel': 'PUBLIC', 'hasSpeed': False, 'id': 2135, 'mets': 1, 'name': 'Whirlpool, sitting'}], 'id': 22, 'name': 'Conditioning exercises'}, {'activities': [{'accessLevel': 'PUBLIC', 'activityLevels': [{'id': 50101, 'maxSpeedMPH': -1, 'mets': 6, 'minSpeedMPH': -1, 'name': 'Low Speed'}, {'id': 50102, 'maxSpeedMPH': -1, 'mets': 8.699999809265137, 'minSpeedMPH': -1, 'name': 'Medium Speed'}, {'id': 50103, 'maxSpeedMPH': -1, 'mets': 12, 'minSpeedMPH': -1, 'name': 'High Speed'}], 'hasSpeed': False, 'id': 90017, 'name': 'Elliptical'}, {'accessLevel': 'PUBLIC', 'activityLevels': [{'id': 50201, 'maxSpeedMPH': -1, 'mets': 10.399999618530273, 'minSpeedMPH': -1, 'name': 'Low Speed'}, {'id': 50202, 'maxSpeedMPH': -1, 'mets': 13.199999809265137, 'minSpeedMPH': -1, 'name': 'Medium Speed'}, {'id': 50203, 'maxSpeedMPH': -1, 'mets': 16.399999618530273, 'minSpeedMPH': -1, 'name': 'High Speed'}], 'hasSpeed': False, 'id': 90018, 'name': 'Elliptical, High Resistance'}, {'accessLevel': 'PUBLIC', 'activityLevels': [{'id': 50001, 'maxSpeedMPH': -1, 'mets': 2, 'minSpeedMPH': -1, 'name': 'Low Speed'}, {'id': 50002, 'maxSpeedMPH': -1, 'mets': 4.699999809265137, 'minSpeedMPH': -1, 'name': 'Medium Speed'}, {'id': 50003, 'maxSpeedMPH': -1, 'mets': 8, 'minSpeedMPH': -1, 'name': 'High Speed'}], 'hasSpeed': False, 'id': 90016, 'name': 'Elliptical, Low Resistance'}], 'id': 29, 'name': 'Elliptical'}, {'activities': [{'accessLevel': 'PUBLIC', 'hasSpeed': False, 'id': 12010, 'mets': 6, 'name': 'Jog/walk combination (jogging component of less than 10 minutes)'}, {'accessLevel': 'PUBLIC', 'hasSpeed': False, 'id': 12027, 'mets': 4.5, 'name': 'Jogging on a mini-tramp'}, {'accessLevel': 'PUBLIC', 'hasSpeed': False, 'id': 12020, 'mets': 7, 'name': 'Jogging, general'}, {'accessLevel': 'PUBLIC', 'hasSpeed': False, 'id': 12025, 'mets': 8, 'name': 'Jogging, in place'}, {'accessLevel': 'PUBLIC', 'activityLevels': [{'id': 12030, 'maxSpeedMPH': 5, 'mets': 8, 'minSpeedMPH': -1, 'name': '5 mph (12 min/mile)'}, {'id': 12040, 'maxSpeedMPH': 5.2, 'mets': 9, 'minSpeedMPH': -1, 'name': '5.2 mph (11.5 min/mile)'}, {'id': 12050, 'maxSpeedMPH': 6, 'mets': 10, 'minSpeedMPH': -1, 'name': '6 mph (10 min/mile)'}, {'id': 12060, 'maxSpeedMPH': 6.7, 'mets': 11, 'minSpeedMPH': -1, 'name': '6.7 mph (9 min/mile)'}, {'id': 12070, 'maxSpeedMPH': 7, 'mets': 11.5, 'minSpeedMPH': -1, 'name': '7 mph (8.5 min/mile)'}, {'id': 12080, 'maxSpeedMPH': 7.5, 'mets': 12.5, 'minSpeedMPH': -1, 'name': '7.5 mph (8 min/mile)'}, {'id': 12090, 'maxSpeedMPH': 8, 'mets': 13.5, 'minSpeedMPH': -1, 'name': '8 mph (7.5 min/mile)'}, {'id': 12100, 'maxSpeedMPH': 8.6, 'mets': 14, 'minSpeedMPH': -1, 'name': '8.6 mph (7 min/mile)'}, {'id': 12110, 'maxSpeedMPH': 9, 'mets': 15, 'minSpeedMPH': -1, 'name': '9 mph (6.5 min/mile)'}, {'id': 12120, 'maxSpeedMPH': 10, 'mets': 16, 'minSpeedMPH': -1, 'name': '10 mph (6 min/mile)'}, {'id': 12130, 'maxSpeedMPH': 10.9, 'mets': 18, 'minSpeedMPH': -1, 'name': '10.9 mph (5.5 min/mile)'}], 'hasSpeed': True, 'id': 90009, 'name': 'Run'}, {'accessLevel': 'PUBLIC', 'hasSpeed': False, 'id': 12190, 'mets': 8, 'name': 'Running while pushing a stroller or wheelchair'}, {'accessLevel': 'PUBLIC', 'hasSpeed': False, 'id': 12140, 'mets': 9, 'name': 'Running, cross country'}, {'accessLevel': 'PUBLIC', 'hasSpeed': False, 'id': 12180, 'mets': 10, 'name': 'Running, on a track, team practice'}, {'accessLevel': 'PUBLIC', 'hasSpeed': False, 'id': 12170, 'mets': 15, 'name': 'Running, stairs, up'}], 'id': 23, 'name': 'Running'}, {'activities': [{'accessLevel': 'PUBLIC', 'activityLevels': [{'id': 51002, 'maxSpeedMPH': 2.4, 'mets': 3, 'minSpeedMPH': -1, 'name': '2mph'}, {'id': 51003, 'maxSpeedMPH': 3.4, 'mets': 3.9000000953674316, 'minSpeedMPH': 2.5, 'name': '3mph'}, {'id': 51004, 'maxSpeedMPH': 4.4, 'mets': 4.800000190734863, 'minSpeedMPH': 3.5, 'name': '4mph'}, {'id': 51005, 'maxSpeedMPH': 5.4, 'mets': 10.399999618530273, 'minSpeedMPH': 4.5, 'name': '5mph'}, {'id': 51006, 'maxSpeedMPH': 6.4, 'mets': 12.199999809265137, 'minSpeedMPH': 5.5, 'name': '6mph'}, {'id': 51007, 'maxSpeedMPH': 7.4, 'mets': 14, 'minSpeedMPH': 6.5, 'name': '7mph'}, {'id': 51008, 'maxSpeedMPH': 8.4, 'mets': 16, 'minSpeedMPH': 7.5, 'name': '8mph'}, {'id': 51009, 'maxSpeedMPH': 9.4, 'mets': 17.799999237060547, 'minSpeedMPH': 8.5, 'name': '9mph'}, {'id': 51010, 'maxSpeedMPH': 10.4, 'mets': 19.600000381469727, 'minSpeedMPH': 9.5, 'name': '10mph'}], 'hasSpeed': True, 'id': 90019, 'name': 'Treadmill'}, {'accessLevel': 'PUBLIC', 'activityLevels': [{'id': 51202, 'maxSpeedMPH': 2.4, 'mets': 6.300000190734863, 'minSpeedMPH': -1, 'name': '2mph'}, {'id': 51203, 'maxSpeedMPH': 3.4, 'mets': 8.800000190734863, 'minSpeedMPH': 2.5, 'name': '3mph'}, {'id': 51204, 'maxSpeedMPH': 4.4, 'mets': 11.5, 'minSpeedMPH': 3.5, 'name': '4mph'}, {'id': 51205, 'maxSpeedMPH': 5.4, 'mets': 14.5, 'minSpeedMPH': 4.5, 'name': '5mph'}, {'id': 51206, 'maxSpeedMPH': 6.4, 'mets': 17.200000762939453, 'minSpeedMPH': 5.5, 'name': '6mph'}, {'id': 51207, 'maxSpeedMPH': 7.4, 'mets': 19.899999618530273, 'minSpeedMPH': 6.5, 'name': '7mph'}, {'id': 51208, 'maxSpeedMPH': 8.4, 'mets': 22.5, 'minSpeedMPH': 7.5, 'name': '8mph'}, {'id': 51209, 'maxSpeedMPH': 9.4, 'mets': 25.200000762939453, 'minSpeedMPH': 8.5, 'name': '9mph'}, {'id': 51210, 'maxSpeedMPH': 10.4, 'mets': 28, 'minSpeedMPH': 9.5, 'name': '10mph'}], 'hasSpeed': True, 'id': 90021, 'name': 'Treadmill, 10% Incline'}, {'accessLevel': 'PUBLIC', 'activityLevels': [{'id': 51302, 'maxSpeedMPH': 2.4, 'mets': 8, 'minSpeedMPH': -1, 'name': '2mph'}, {'id': 51303, 'maxSpeedMPH': 3.4, 'mets': 11.399999618530273, 'minSpeedMPH': 2.5, 'name': '3mph'}, {'id': 51304, 'maxSpeedMPH': 4.4, 'mets': 14.800000190734863, 'minSpeedMPH': 3.5, 'name': '4mph'}, {'id': 51305, 'maxSpeedMPH': 5.4, 'mets': 16.600000381469727, 'minSpeedMPH': 4.5, 'name': '5mph'}, {'id': 51306, 'maxSpeedMPH': 6.4, 'mets': 19.700000762939453, 'minSpeedMPH': 5.5, 'name': '6mph'}, {'id': 51307, 'maxSpeedMPH': 7.4, 'mets': 22.799999237060547, 'minSpeedMPH': 6.5, 'name': '7mph'}, {'id': 51308, 'maxSpeedMPH': 8.4, 'mets': 25.899999618530273, 'minSpeedMPH': 7.5, 'name': '8mph'}, {'id': 51309, 'maxSpeedMPH': 9.4, 'mets': 28.899999618530273, 'minSpeedMPH': 8.5, 'name': '9mph'}, {'id': 51310, 'maxSpeedMPH': 10.4, 'mets': 32, 'minSpeedMPH': 9.5, 'name': '10mph'}], 'hasSpeed': True, 'id': 90022, 'name': 'Treadmill, 15% Incline'}, {'accessLevel': 'PUBLIC', 'activityLevels': [{'id': 51102, 'maxSpeedMPH': 2.4, 'mets': 4.599999904632568, 'minSpeedMPH': -1, 'name': '2mph'}, {'id': 51103, 'maxSpeedMPH': 3.4, 'mets': 6.400000095367432, 'minSpeedMPH': 2.5, 'name': '3mph'}, {'id': 51104, 'maxSpeedMPH': 4.4, 'mets': 8.100000381469727, 'minSpeedMPH': 3.5, 'name': '4mph'}, {'id': 51105, 'maxSpeedMPH': 5.4, 'mets': 12.5, 'minSpeedMPH': 4.5, 'name': '5mph'}, {'id': 51106, 'maxSpeedMPH': 6.4, 'mets': 14.800000190734863, 'minSpeedMPH': 5.5, 'name': '6mph'}, {'id': 51107, 'maxSpeedMPH': 7.4, 'mets': 16.899999618530273, 'minSpeedMPH': 6.5, 'name': '7mph'}, {'id': 51108, 'maxSpeedMPH': 8.4, 'mets': 19.200000762939453, 'minSpeedMPH': 7.5, 'name': '8mph'}, {'id': 51109, 'maxSpeedMPH': 9.4, 'mets': 21.5, 'minSpeedMPH': 8.5, 'name': '9mph'}, {'id': 51110, 'maxSpeedMPH': 10.4, 'mets': 23.700000762939453, 'minSpeedMPH': 9.5, 'name': '10mph'}], 'hasSpeed': True, 'id': 90020, 'name': 'Treadmill, 5% Incline'}], 'id': 30, 'name': 'Treadmill'}, {'activities': [{'accessLevel': 'PUBLIC', 'hasSpeed': False, 'id': 18010, 'mets': 2.5, 'name': 'Boating, power'}, {'accessLevel': 'PUBLIC', 'hasSpeed': False, 'id': 18080, 'mets': 12, 'name': 'Canoeing'}, {'accessLevel': 'PUBLIC', 'hasSpeed': False, 'id': 18025, 'mets': 3.299999952316284, 'name': 'Canoeing, harvesting wild rice, knocking rice off the stalks'}, {'accessLevel': 'PUBLIC', 'hasSpeed': False, 'id': 18020, 'mets': 4, 'name': 'Canoeing, on camping trip'}, {'accessLevel': 'PUBLIC', 'hasSpeed': False, 'id': 18030, 'mets': 7, 'name': 'Canoeing, portaging'}, {'accessLevel': 'PUBLIC', 'hasSpeed': False, 'id': 18090, 'mets': 3, 'name': 'Diving'}, {'accessLevel': 'PUBLIC', 'hasSpeed': False, 'id': 18100, 'mets': 5, 'name': 'Kayaking'}, {'accessLevel': 'PUBLIC', 'hasSpeed': False, 'id': 18110, 'mets': 4, 'name': 'Paddle boat'}, {'accessLevel': 'PUBLIC', 'activityLevels': [{'id': 18040, 'maxSpeedMPH': 3.9, 'mets': 3, 'minSpeedMPH': -1, 'name': '2.0 - 3.9 mph, light effort'}, {'id': 18050, 'maxSpeedMPH': 5.9, 'mets': 7, 'minSpeedMPH': 4, 'name': '4.0 - 5.9 mph, moderate effort'}, {'id': 18060, 'maxSpeedMPH': -1, 'mets': 12, 'minSpeedMPH': 6, 'name': 'Faster than 6 mph, vigorous effort'}], 'hasSpeed': True, 'id': 90014, 'name': 'Rowing'}, {'accessLevel': 'PUBLIC', 'hasSpeed': False, 'id': 18120, 'mets': 3, 'name': 'Sailing'}, {'accessLevel': 'PUBLIC', 'hasSpeed': False, 'id': 18140, 'mets': 3, 'name': 'Sailing, Sunfish/Laser/Hobby Cat, Keel boats, ocean sailing, yachting'}, {'accessLevel': 'PUBLIC', 'hasSpeed': False, 'id': 18130, 'mets': 5, 'name': 'Sailing, in competition'}, {'accessLevel': 'PUBLIC', 'hasSpeed': False, 'id': 18200, 'mets': 7, 'name': 'Scuba diving'}, {'accessLevel': 'PUBLIC', 'hasSpeed': False, 'id': 18160, 'mets': 7, 'name': 'Skimobiling'}, {'accessLevel': 'PUBLIC', 'hasSpeed': False, 'id': 18180, 'mets': 16, 'name': 'Skindiving, fast'}, {'accessLevel': 'PUBLIC', 'hasSpeed': False, 'id': 18190, 'mets': 12.5, 'name': 'Skindiving, moderate'}, {'accessLevel': 'PUBLIC', 'hasSpeed': False, 'id': 18210, 'mets': 5, 'name': 'Snorkeling'}, {'accessLevel': 'PUBLIC', 'hasSpeed': False, 'id': 18220, 'mets': 3, 'name': 'Surfing, body or board'}, {'accessLevel': 'PUBLIC', 'activityLevels': [{'id': 58001, 'maxSpeedMPH': 0.9, 'mets': 4, 'minSpeedMPH': -1, 'name': 'less than 25 yards/min'}, {'id': 18240, 'maxSpeedMPH': 1.7, 'mets': 8, 'minSpeedMPH': 1, 'name': '25-50 yards/min'}, {'id': 58002, 'maxSpeedMPH': 2.6, 'mets': 11, 'minSpeedMPH': 1.8, 'name': '50-75 yards/min'}, {'id': 58003, 'maxSpeedMPH': 3.4, 'mets': 14, 'minSpeedMPH': 2.7, 'name': '75-100 yards/min'}], 'hasSpeed': True, 'id': 90024, 'name': 'Swim'}, {'accessLevel': 'PUBLIC', 'hasSpeed': False, 'id': 18230, 'mets': 10, 'name': 'Swimming laps, freestyle, fast, vigorous effort'}, {'accessLevel': 'PUBLIC', 'hasSpeed': False, 'id': 18250, 'mets': 7, 'name': 'Swimming, backstroke, general'}, {'accessLevel': 'PUBLIC', 'hasSpeed': False, 'id': 18260, 'mets': 10, 'name': 'Swimming, breaststroke, general'}, {'accessLevel': 'PUBLIC', 'hasSpeed': False, 'id': 18270, 'mets': 11, 'name': 'Swimming, butterfly, general'}, {'accessLevel': 'PUBLIC', 'hasSpeed': False, 'id': 18280, 'mets': 11, 'name': 'Swimming, crawl, fast (75 yards/minute), vigorous effort'}, {'accessLevel': 'PUBLIC', 'hasSpeed': False, 'id': 18290, 'mets': 8, 'name': 'Swimming, crawl, slow (50 yards/minute), moderate or light effort'}, {'accessLevel': 'PUBLIC', 'hasSpeed': False, 'id': 18300, 'mets': 6, 'name': 'Swimming, lake, ocean, river'}, {'accessLevel': 'PUBLIC', 'hasSpeed': False, 'id': 18310, 'mets': 6, 'name': 'Swimming, leisurely, not lap swimming, general'}, {'accessLevel': 'PUBLIC', 'hasSpeed': False, 'id': 18320, 'mets': 8, 'name': 'Swimming, sidestroke, general'}, {'accessLevel': 'PUBLIC', 'hasSpeed': False, 'id': 18330, 'mets': 8, 'name': 'Swimming, synchronized'}, {'accessLevel': 'PUBLIC', 'hasSpeed': False, 'id': 18340, 'mets': 10, 'name': 'Swimming, treading water, fast vigorous effort'}, {'accessLevel': 'PUBLIC', 'hasSpeed': False, 'id': 18350, 'mets': 4, 'name': 'Swimming, treading water, moderate effort, general'}, {'accessLevel': 'PUBLIC', 'hasSpeed': False, 'id': 18355, 'mets': 4, 'name': 'Water aerobics'}, {'accessLevel': 'PUBLIC', 'hasSpeed': False, 'id': 18366, 'mets': 8, 'name': 'Water jogging'}, {'accessLevel': 'PUBLIC', 'hasSpeed': False, 'id': 18360, 'mets': 10, 'name': 'Water polo'}, {'accessLevel': 'PUBLIC', 'hasSpeed': False, 'id': 18150, 'mets': 6, 'name': 'Water skiing'}, {'accessLevel': 'PUBLIC', 'hasSpeed': False, 'id': 18365, 'mets': 3, 'name': 'Water volleyball'}, {'accessLevel': 'PUBLIC', 'hasSpeed': False, 'id': 18370, 'mets': 5, 'name': 'Whitewater rafting, kayaking, or canoeing'}], 'id': 25, 'name': 'Water Activities'}, {'activities': [{'accessLevel': 'PUBLIC', 'activityLevels': [{'id': 19080, 'maxSpeedMPH': 2.5, 'mets': 7, 'minSpeedMPH': -1, 'name': '2.5 mph, slow or light effort, ski walking'}, {'id': 19090, 'maxSpeedMPH': 4.9, 'mets': 8, 'minSpeedMPH': 4, 'name': '4.0-4.9 mph, moderate speed and effort, general'}, {'id': 19100, 'maxSpeedMPH': 7.9, 'mets': 9, 'minSpeedMPH': 5, 'name': '5.0-7.9 mph, brisk speed, vigorous effort'}, {'id': 19110, 'maxSpeedMPH': -1, 'mets': 14, 'minSpeedMPH': 8, 'name': 'faster than 8.0 mph, racing'}], 'hasSpeed': True, 'id': 90015, 'name': 'Cross Country Skiing'}, {'accessLevel': 'PUBLIC', 'hasSpeed': False, 'id': 19030, 'mets': 7, 'name': 'Ice skating'}, {'accessLevel': 'PUBLIC', 'hasSpeed': False, 'id': 19010, 'mets': 6, 'name': 'Moving ice house (set up/drill holes, etc.)'}, {'accessLevel': 'PUBLIC', 'hasSpeed': False, 'id': 19020, 'mets': 5.5, 'name': 'Skating, ice, 9 mph or less'}, {'accessLevel': 'PUBLIC', 'hasSpeed': False, 'id': 19040, 'mets': 9, 'name': 'Skating, ice, rapidly, more than 9 mph'}, {'accessLevel': 'PUBLIC', 'hasSpeed': False, 'id': 19050, 'mets': 15, 'name': 'Skating, speed, competitive'}, {'accessLevel': 'PUBLIC', 'hasSpeed': False, 'id': 19060, 'mets': 7, 'name': 'Ski jumping (climb up carrying skis)'}, {'accessLevel': 'PUBLIC', 'hasSpeed': False, 'id': 19160, 'mets': 6, 'name': 'Skiing'}, {'accessLevel': 'PUBLIC', 'hasSpeed': False, 'id': 19130, 'mets': 16.5, 'name': 'Skiing, cross country, hard snow, uphill, maximum, snow mountaineering'}, {'accessLevel': 'PUBLIC', 'hasSpeed': False, 'id': 19150, 'mets': 5, 'name': 'Skiing, downhill, light effort'}, {'accessLevel': 'PUBLIC', 'hasSpeed': False, 'id': 19170, 'mets': 8, 'name': 'Skiing, downhill, vigorous effort, racing'}, {'accessLevel': 'PUBLIC', 'hasSpeed': False, 'id': 19180, 'mets': 7, 'name': 'Sledding, tobogganing, bobsledding, luge'}, {'accessLevel': 'PUBLIC', 'hasSpeed': False, 'id': 19200, 'mets': 3.5, 'name': 'Snowmobiling'}, {'accessLevel': 'PUBLIC', 'hasSpeed': False, 'id': 19190, 'mets': 8, 'name': 'Snowshoeing'}], 'id': 24, 'name': 'Winter activities'}]}, {'activities': [{'accessLevel': 'PUBLIC', 'hasSpeed': False, 'id': 16010, 'mets': 2, 'name': 'Driving'}, {'accessLevel': 'PUBLIC', 'hasSpeed': False, 'id': 16050, 'mets': 3, 'name': 'Driving heavy truck, tractor, bus'}, {'accessLevel': 'PUBLIC', 'hasSpeed': False, 'id': 16020, 'mets': 2, 'name': 'Flying airplane'}, {'accessLevel': 'PUBLIC', 'hasSpeed': False, 'id': 16030, 'mets': 2.5, 'name': 'Motorcycle'}, {'accessLevel': 'PUBLIC', 'hasSpeed': False, 'id': 16040, 'mets': 6, 'name': 'Pushing plane in and out of hangar'}, {'accessLevel': 'PUBLIC', 'hasSpeed': False, 'id': 16016, 'mets': 1, 'name': 'Riding in a bus'}, {'accessLevel': 'PUBLIC', 'hasSpeed': False, 'id': 16015, 'mets': 1, 'name': 'Riding in a car or truck'}], 'id': 26, 'name': 'Transportation'}, {'activities': [{'accessLevel': 'PUBLIC', 'hasSpeed': False, 'id': 17010, 'mets': 7, 'name': 'Backpacking'}, {'accessLevel': 'PUBLIC', 'hasSpeed': False, 'id': 17085, 'mets': 2.5, 'name': 'Bird watching'}, {'accessLevel': 'PUBLIC', 'hasSpeed': False, 'id': 17020, 'mets': 3.5, 'name': 'Carrying infant or 15 pound load (e.g. suitcase)'}, {'accessLevel': 'PUBLIC', 'activityLevels': [{'id': 17026, 'maxSpeedMPH': -1, 'mets': 5, 'minSpeedMPH': -1, 'name': '1 to 15 lb load'}, {'id': 17027, 'maxSpeedMPH': -1, 'mets': 6, 'minSpeedMPH': -1, 'name': '16 to 24 lb load'}, {'id': 17028, 'maxSpeedMPH': -1, 'mets': 8, 'minSpeedMPH': -1, 'name': '25 to 49 lb load'}, {'id': 17029, 'maxSpeedMPH': -1, 'mets': 10, 'minSpeedMPH': -1, 'name': '50 to 74 lb load'}, {'id': 17030, 'maxSpeedMPH': -1, 'mets': 12, 'minSpeedMPH': -1, 'name': '74+ lb load'}], 'hasSpeed': False, 'id': 90011, 'name': 'Carrying load upstairs'}, {'accessLevel': 'PUBLIC', 'hasSpeed': False, 'id': 17130, 'mets': 8, 'name': 'Going up stairs, using or climbing up ladder'}, {'accessLevel': 'PUBLIC', 'activityLevels': [{'id': 17035, 'maxSpeedMPH': -1, 'mets': 7, 'minSpeedMPH': -1, 'name': 'With 0 to 9 pound pack'}, {'id': 17040, 'maxSpeedMPH': -1, 'mets': 7.5, 'minSpeedMPH': -1, 'name': 'With 10 to 20 pound pack'}, {'id': 17050, 'maxSpeedMPH': -1, 'mets': 8, 'minSpeedMPH': -1, 'name': 'With 21 to 42 pound pack'}, {'id': 17060, 'maxSpeedMPH': -1, 'mets': 9, 'minSpeedMPH': -1, 'name': 'With 42+ pound pack'}], 'hasSpeed': True, 'id': 90012, 'name': 'Hike'}, {'accessLevel': 'PUBLIC', 'hasSpeed': False, 'id': 17080, 'mets': 6, 'name': 'Hiking, cross country'}, {'accessLevel': 'PUBLIC', 'hasSpeed': False, 'id': 17090, 'mets': 6.5, 'name': 'Marching, rapidly, military'}, {'accessLevel': 'PUBLIC', 'hasSpeed': False, 'id': 17105, 'mets': 4, 'name': 'Pushing a wheelchair'}, {'accessLevel': 'PUBLIC', 'hasSpeed': False, 'id': 17100, 'mets': 2.5, 'name': 'Pushing or pulling stroller with child or walking with children'}, {'accessLevel': 'PUBLIC', 'hasSpeed': False, 'id': 17110, 'mets': 6.5, 'name': 'Race walking'}, {'accessLevel': 'PUBLIC', 'hasSpeed': False, 'id': 17120, 'mets': 8, 'name': 'Rock climbing'}, {'accessLevel': 'PUBLIC', 'hasSpeed': False, 'id': 17140, 'mets': 5, 'name': 'Using crutches'}, {'accessLevel': 'PUBLIC', 'activityLevels': [{'id': 17151, 'maxSpeedMPH': 1.5, 'mets': 2, 'minSpeedMPH': -1, 'name': 'less than 2 mph, strolling very slowly'}, {'id': 17152, 'maxSpeedMPH': 2, 'mets': 2.5, 'minSpeedMPH': -1, 'name': '2.0 mph, slow pace'}, {'id': 17170, 'maxSpeedMPH': 2.5, 'mets': 3, 'minSpeedMPH': -1, 'name': '2.5 mph'}, {'id': 17190, 'maxSpeedMPH': 3, 'mets': 3.299999952316284, 'minSpeedMPH': -1, 'name': '3.0 mph, moderate pace'}, {'id': 17200, 'maxSpeedMPH': 3.5, 'mets': 3.799999952316284, 'minSpeedMPH': -1, 'name': '3.5 mph, walking for exercise'}, {'id': 17220, 'maxSpeedMPH': 4, 'mets': 5, 'minSpeedMPH': -1, 'name': '4.0 mph, very brisk pace'}, {'id': 17230, 'maxSpeedMPH': 4.5, 'mets': 6.300000190734863, 'minSpeedMPH': -1, 'name': '4.5 mph, very, very brisk'}, {'id': 17231, 'maxSpeedMPH': 5, 'mets': 8, 'minSpeedMPH': -1, 'name': '5.0 mph, speed walking'}, {'id': 17165, 'maxSpeedMPH': -1, 'mets': 3, 'minSpeedMPH': -1, 'name': 'Walking the dog'}], 'hasSpeed': True, 'id': 90013, 'name': 'Walk'}, {'accessLevel': 'PUBLIC', 'hasSpeed': False, 'id': 17160, 'mets': 3.5, 'name': 'Walking for pleasure'}, {'accessLevel': 'PUBLIC', 'hasSpeed': False, 'id': 17260, 'mets': 5, 'name': 'Walking, grass track'}, {'accessLevel': 'PUBLIC', 'hasSpeed': False, 'id': 17150, 'mets': 2, 'name': 'Walking, household'}], 'id': 27, 'name': 'Walking'}, {'activities': [{'accessLevel': 'PUBLIC', 'hasSpeed': False, 'id': 54011, 'mets': 3.200000047683716, 'name': 'Wii Baseball'}, {'accessLevel': 'PUBLIC', 'hasSpeed': False, 'id': 54003, 'mets': 2.799999952316284, 'name': 'Wii Bowling'}, {'accessLevel': 'PUBLIC', 'hasSpeed': False, 'id': 54004, 'mets': 4.800000190734863, 'name': 'Wii Boxing'}, {'accessLevel': 'PUBLIC', 'hasSpeed': False, 'id': 54001, 'mets': 2.5, 'name': 'Wii Fit Advanced Step'}, {'accessLevel': 'PUBLIC', 'hasSpeed': False, 'id': 54006, 'mets': 3.700000047683716, 'name': 'Wii Fit Free Run'}, {'accessLevel': 'PUBLIC', 'hasSpeed': False, 'id': 54007, 'mets': 2.299999952316284, 'name': 'Wii Fit Free step'}, {'accessLevel': 'PUBLIC', 'hasSpeed': False, 'id': 54009, 'mets': 3.700000047683716, 'name': 'Wii Fit Island Run'}, {'accessLevel': 'PUBLIC', 'hasSpeed': False, 'id': 54005, 'mets': 2.799999952316284, 'name': 'Wii Fit Rhythm Boxing'}, {'accessLevel': 'PUBLIC', 'hasSpeed': False, 'id': 54002, 'mets': 2.5, 'name': 'Wii Fit Super Hula Hoop'}, {'accessLevel': 'PUBLIC', 'hasSpeed': False, 'id': 54010, 'mets': 2.299999952316284, 'name': 'Wii Golf'}, {'accessLevel': 'PUBLIC', 'hasSpeed': False, 'id': 54008, 'mets': 3.700000047683716, 'name': 'Wii Tennis'}], 'id': 33, 'name': 'Wii Games'}, {'activities': [{'accessLevel': 'PUBLIC', 'hasSpeed': False, 'id': 57001, 'mets': 3.200000047683716, 'name': 'XBOX Sports - Baseball'}, {'accessLevel': 'PUBLIC', 'hasSpeed': False, 'id': 57002, 'mets': 2.299999952316284, 'name': 'XBOX Sports - Darts'}, {'accessLevel': 'PUBLIC', 'hasSpeed': False, 'id': 57004, 'mets': 3.700000047683716, 'name': 'XBOX Sports - Football'}, {'accessLevel': 'PUBLIC', 'hasSpeed': False, 'id': 57003, 'mets': 2.299999952316284, 'name': 'XBOX Sports - Golf'}, {'accessLevel': 'PUBLIC', 'hasSpeed': False, 'id': 57007, 'mets': 2.799999952316284, 'name': 'XBOX Sports - Just Dance 3'}, {'accessLevel': 'PUBLIC', 'hasSpeed': False, 'id': 57005, 'mets': 3.700000047683716, 'name': 'XBOX Sports - Skiing'}, {'accessLevel': 'PUBLIC', 'hasSpeed': False, 'id': 57006, 'mets': 3.700000047683716, 'name': 'XBOX Sports - Tennis'}], 'id': 35, 'name': 'XBOX Games'}, {'activities': [{'accessLevel': 'PUBLIC', 'hasSpeed': False, 'id': 52001, 'mets': 4.300000190734863, 'name': 'Yoga'}, {'accessLevel': 'PUBLIC', 'hasSpeed': False, 'id': 52002, 'mets': 5.900000095367432, 'name': 'Yoga, Bikram'}, {'accessLevel': 'PUBLIC', 'hasSpeed': False, 'id': 52003, 'mets': 2.299999952316284, 'name': 'Yoga, Hatha'}, {'accessLevel': 'PUBLIC', 'hasSpeed': False, 'id': 52004, 'mets': 4.300000190734863, 'name': 'Yoga, Power'}, {'accessLevel': 'PUBLIC', 'hasSpeed': False, 'id': 52005, 'mets': 7.300000190734863, 'name': 'Yoga, Vinyasa'}], 'id': 31, 'name': 'Yoga'}]}\n"
     ]
    }
   ],
   "source": [
    "_001fb = auth2_client.intraday_time_series('activities/steps', base_date = today)\n",
    "print(_001fb)"
   ]
  },
  {
   "cell_type": "code",
   "execution_count": 27,
   "metadata": {},
   "outputs": [
    {
     "name": "stdout",
     "output_type": "stream",
     "text": [
      "{'categories': [{'activities': [{'accessLevel': 'PUBLIC', 'activityLevels': [{'id': 3016, 'maxSpeedMPH': -1, 'mets': 8.5, 'minSpeedMPH': -1, 'name': '6 - 8 inch step'}, {'id': 3017, 'maxSpeedMPH': -1, 'mets': 10, 'minSpeedMPH': -1, 'name': '10 - 12 inch step'}], 'hasSpeed': False, 'id': 90004, 'name': 'Aerobic step'}, {'accessLevel': 'PUBLIC', 'hasSpeed': False, 'id': 3015, 'mets': 6.5, 'name': 'Aerobic, general'}, {'accessLevel': 'PUBLIC', 'activityLevels': [{'id': 3020, 'maxSpeedMPH': -1, 'mets': 5, 'minSpeedMPH': -1, 'name': 'low impact'}, {'id': 3021, 'maxSpeedMPH': -1, 'mets': 7, 'minSpeedMPH': -1, 'name': 'high impact'}], 'hasSpeed': False, 'id': 90005, 'name': 'Aerobics'}, {'accessLevel': 'PUBLIC', 'hasSpeed': False, 'id': 3050, 'mets': 5.5, 'name': 'Anishinaabe Jingle Dancing or other traditional American Indian dancing'}, {'accessLevel': 'PUBLIC', 'hasSpeed': False, 'id': 3010, 'mets': 4.800000190734863, 'name': 'Ballet'}, {'accessLevel': 'PUBLIC', 'hasSpeed': False, 'id': 3040, 'mets': 3, 'name': 'Ballroom, slow (e.g. waltz, foxtrot, slow dancing), samba, tango, 19th C, mambo, chacha'}, {'accessLevel': 'PUBLIC', 'hasSpeed': False, 'id': 3031, 'mets': 5, 'name': 'Dancing'}, {'accessLevel': 'PUBLIC', 'hasSpeed': False, 'id': 3025, 'mets': 4.5, 'name': 'General, Greek, Middle Eastern, hula, flamenco, belly, swing'}, {'accessLevel': 'PUBLIC', 'hasSpeed': False, 'id': 56001, 'mets': 5.5, 'name': 'Zumba'}], 'id': 0, 'name': 'Dancing'}, {'activities': [{'accessLevel': 'PUBLIC', 'hasSpeed': False, 'id': 4010, 'mets': 4, 'name': 'Digging worms, with shovel'}, {'accessLevel': 'PUBLIC', 'hasSpeed': False, 'id': 4001, 'mets': 3, 'name': 'Fishing'}, {'accessLevel': 'PUBLIC', 'hasSpeed': False, 'id': 4030, 'mets': 2.5, 'name': 'Fishing from boat, sitting'}, {'accessLevel': 'PUBLIC', 'hasSpeed': False, 'id': 4020, 'mets': 4, 'name': 'Fishing from river bank and walking'}, {'accessLevel': 'PUBLIC', 'hasSpeed': False, 'id': 4040, 'mets': 3.5, 'name': 'Fishing from river bank, standing'}, {'accessLevel': 'PUBLIC', 'hasSpeed': False, 'id': 4050, 'mets': 6, 'name': 'Fishing in stream, in waders'}, {'accessLevel': 'PUBLIC', 'hasSpeed': False, 'id': 4060, 'mets': 2, 'name': 'Fishing, ice, sitting'}, {'accessLevel': 'PUBLIC', 'hasSpeed': False, 'id': 4100, 'mets': 5, 'name': 'Hunting'}, {'accessLevel': 'PUBLIC', 'hasSpeed': False, 'id': 4070, 'mets': 2.5, 'name': 'Hunting, bow and arrow or crossbow'}, {'accessLevel': 'PUBLIC', 'hasSpeed': False, 'id': 4080, 'mets': 6, 'name': 'Hunting, deer, elk, large game'}, {'accessLevel': 'PUBLIC', 'hasSpeed': False, 'id': 4090, 'mets': 2.5, 'name': 'Hunting, duck, wading'}, {'accessLevel': 'PUBLIC', 'hasSpeed': False, 'id': 4110, 'mets': 6, 'name': 'Hunting, pheasants or grouse'}, {'accessLevel': 'PUBLIC', 'hasSpeed': False, 'id': 4120, 'mets': 5, 'name': 'Hunting, rabbit, squirrel, prairie chick, raccoon, small game'}, {'accessLevel': 'PUBLIC', 'hasSpeed': False, 'id': 4130, 'mets': 2.5, 'name': 'Shooting'}], 'id': 1, 'name': 'Fishing and Hunting'}, {'activities': [{'accessLevel': 'PUBLIC', 'hasSpeed': False, 'id': 5149, 'mets': 2.5, 'name': 'Building a fire inside'}, {'accessLevel': 'PUBLIC', 'hasSpeed': False, 'id': 5010, 'mets': 3.299999952316284, 'name': 'Carpet sweeping, sweeping floors'}, {'accessLevel': 'PUBLIC', 'hasSpeed': False, 'id': 5056, 'mets': 7.5, 'name': 'Carrying groceries upstairs'}, {'accessLevel': 'PUBLIC', 'hasSpeed': False, 'id': 5181, 'mets': 3, 'name': 'Carrying small children'}, {'accessLevel': 'PUBLIC', 'hasSpeed': False, 'id': 5161, 'mets': 2, 'name': 'Change light bulb'}, {'accessLevel': 'PUBLIC', 'hasSpeed': False, 'id': 5185, 'mets': 2.5, 'name': 'Child care: sitting/kneeling - dressing, bathing, grooming, feeding, occasional lifting of child-light effort, general'}, {'accessLevel': 'PUBLIC', 'hasSpeed': False, 'id': 5186, 'mets': 3, 'name': 'Child care: standing - dressing, bathing, grooming, feeding, occasional lifting of child-light effort'}, {'accessLevel': 'PUBLIC', 'hasSpeed': False, 'id': 5020, 'mets': 3, 'name': 'Cleaning'}, {'accessLevel': 'PUBLIC', 'hasSpeed': False, 'id': 5030, 'mets': 3, 'name': 'Cleaning, house or cabin, general'}, {'accessLevel': 'PUBLIC', 'hasSpeed': False, 'id': 5040, 'mets': 2.5, 'name': 'Cleaning, light (dusting, straightening up, changing linen, carrying out trash)'}, {'accessLevel': 'PUBLIC', 'hasSpeed': False, 'id': 5166, 'mets': 3, 'name': 'Closing windows and locking doors'}, {'accessLevel': 'PUBLIC', 'hasSpeed': False, 'id': 5057, 'mets': 3, 'name': 'Cooking Indian bread on an outside stove'}, {'accessLevel': 'PUBLIC', 'hasSpeed': False, 'id': 5052, 'mets': 2.5, 'name': 'Cooking or food preparation'}, {'accessLevel': 'PUBLIC', 'hasSpeed': False, 'id': 5187, 'mets': 4, 'name': 'Elder care, disabled adult, only active periods'}, {'accessLevel': 'PUBLIC', 'hasSpeed': False, 'id': 5053, 'mets': 2.5, 'name': 'Feeding animals'}, {'accessLevel': 'PUBLIC', 'hasSpeed': False, 'id': 5060, 'mets': 2.299999952316284, 'name': 'Food shopping with or without a grocery cart, standing or walking'}, {'accessLevel': 'PUBLIC', 'activityLevels': [{'id': 5025, 'maxSpeedMPH': -1, 'mets': 2.5, 'minSpeedMPH': -1, 'name': 'light effort'}, {'id': 5026, 'maxSpeedMPH': -1, 'mets': 3.5, 'minSpeedMPH': -1, 'name': 'moderate effort'}, {'id': 5027, 'maxSpeedMPH': -1, 'mets': 4, 'minSpeedMPH': -1, 'name': 'vigorous effort'}], 'hasSpeed': False, 'id': 90006, 'name': 'Household Chores'}, {'accessLevel': 'PUBLIC', 'hasSpeed': False, 'id': 5070, 'mets': 2.299999952316284, 'name': 'Ironing'}, {'accessLevel': 'PUBLIC', 'hasSpeed': False, 'id': 5080, 'mets': 1.5, 'name': 'Knitting, sewing'}, {'accessLevel': 'PUBLIC', 'hasSpeed': False, 'id': 5090, 'mets': 2, 'name': 'Laundry, fold or hang clothes, put clothes in washer or dryer, packing suitcase'}, {'accessLevel': 'PUBLIC', 'hasSpeed': False, 'id': 17031, 'mets': 3, 'name': 'Loading /unloading a car'}, {'accessLevel': 'PUBLIC', 'hasSpeed': False, 'id': 5100, 'mets': 2, 'name': 'Making a bed'}, {'accessLevel': 'PUBLIC', 'hasSpeed': False, 'id': 5110, 'mets': 5, 'name': 'Maple syruping/sugar bushing (including carrying buckets, carrying wood)'}, {'accessLevel': 'PUBLIC', 'hasSpeed': False, 'id': 5021, 'mets': 3.5, 'name': 'Mopping'}, {'accessLevel': 'PUBLIC', 'hasSpeed': False, 'id': 5120, 'mets': 6, 'name': 'Moving furniture, household items, carrying boxes'}, {'accessLevel': 'PUBLIC', 'hasSpeed': False, 'id': 5150, 'mets': 9, 'name': 'Moving household items upstairs, carrying boxes or furniture'}, {'accessLevel': 'PUBLIC', 'hasSpeed': False, 'id': 5160, 'mets': 2, 'name': 'Pumping gas, change light bulb, etc.)'}, {'accessLevel': 'PUBLIC', 'hasSpeed': False, 'id': 5095, 'mets': 2.299999952316284, 'name': 'Putting away clothes, gathering clothes to pack, putting away laundry'}, {'accessLevel': 'PUBLIC', 'hasSpeed': False, 'id': 5055, 'mets': 2.5, 'name': 'Putting away groceries (e.g. carrying groceries, shopping without a grocery cart), carrying packages'}, {'accessLevel': 'PUBLIC', 'hasSpeed': False, 'id': 5147, 'mets': 3, 'name': 'Putting away household items - moderate effort'}, {'accessLevel': 'PUBLIC', 'hasSpeed': False, 'id': 5165, 'mets': 3, 'name': 'Readying to leave'}, {'accessLevel': 'PUBLIC', 'hasSpeed': False, 'id': 5130, 'mets': 3.799999952316284, 'name': 'Scrubbing floors, on hands and knees, scrubbing bathroom, bathtub'}, {'accessLevel': 'PUBLIC', 'hasSpeed': False, 'id': 5051, 'mets': 2.5, 'name': 'Serving food, setting table'}, {'accessLevel': 'PUBLIC', 'hasSpeed': False, 'id': 5065, 'mets': 2.299999952316284, 'name': 'Shopping'}, {'accessLevel': 'PUBLIC', 'hasSpeed': False, 'id': 5190, 'mets': 2.5, 'name': 'Sit, playing with animals, light, only active periods'}, {'accessLevel': 'PUBLIC', 'hasSpeed': False, 'id': 5170, 'mets': 2.5, 'name': 'Sitting - playing with child(ren) - light, only active periods'}, {'accessLevel': 'PUBLIC', 'hasSpeed': False, 'id': 5191, 'mets': 2.799999952316284, 'name': 'Stand, playing with animals, light, only active periods'}, {'accessLevel': 'PUBLIC', 'hasSpeed': False, 'id': 5195, 'mets': 3.5, 'name': 'Standing - bathing dog'}, {'accessLevel': 'PUBLIC', 'hasSpeed': False, 'id': 5146, 'mets': 3.5, 'name': 'Standing - packing/unpacking boxes, occasional lifting of household items light - moderate effort'}, {'accessLevel': 'PUBLIC', 'hasSpeed': False, 'id': 5171, 'mets': 2.799999952316284, 'name': 'Standing - playing with child(ren) - light, only active periods'}, {'accessLevel': 'PUBLIC', 'hasSpeed': False, 'id': 5140, 'mets': 4, 'name': 'Sweeping garage, sidewalk or outside of house'}, {'accessLevel': 'PUBLIC', 'hasSpeed': False, 'id': 5043, 'mets': 3.5, 'name': 'Vacuuming'}, {'accessLevel': 'PUBLIC', 'hasSpeed': False, 'id': 5175, 'mets': 4, 'name': 'Walk/run - playing with child(ren) - moderate, only active periods'}, {'accessLevel': 'PUBLIC', 'hasSpeed': False, 'id': 5180, 'mets': 5, 'name': 'Walk/run - playing with child(ren) - vigorous, only active periods'}, {'accessLevel': 'PUBLIC', 'hasSpeed': False, 'id': 5192, 'mets': 2.799999952316284, 'name': 'Walk/run, playing with animals, light, only active periods'}, {'accessLevel': 'PUBLIC', 'hasSpeed': False, 'id': 5193, 'mets': 4, 'name': 'Walk/run, playing with animals, moderate, only active periods'}, {'accessLevel': 'PUBLIC', 'hasSpeed': False, 'id': 5194, 'mets': 5, 'name': 'Walk/run, playing with animals, vigorous, only active periods'}, {'accessLevel': 'PUBLIC', 'hasSpeed': False, 'id': 5041, 'mets': 2.299999952316284, 'name': 'Washing dishes - standing or in general (not broken into stand/walk components)'}, {'accessLevel': 'PUBLIC', 'hasSpeed': False, 'id': 5042, 'mets': 2.5, 'name': 'Washing dishes; clearing dishes from table - walking'}, {'accessLevel': 'PUBLIC', 'hasSpeed': False, 'id': 5148, 'mets': 2.5, 'name': 'Watering plants'}, {'accessLevel': 'PUBLIC', 'hasSpeed': False, 'id': 5081, 'mets': 1.5, 'name': 'Wrapping presents'}], 'id': 2, 'name': 'Home activities'}, {'activities': [{'accessLevel': 'PUBLIC', 'hasSpeed': False, 'id': 6010, 'mets': 3, 'name': 'Airplane repair'}, {'accessLevel': 'PUBLIC', 'hasSpeed': False, 'id': 6020, 'mets': 4, 'name': 'Automobile body work'}, {'accessLevel': 'PUBLIC', 'hasSpeed': False, 'id': 6030, 'mets': 3, 'name': 'Automobile repair'}, {'accessLevel': 'PUBLIC', 'hasSpeed': False, 'id': 6060, 'mets': 4.5, 'name': 'Carpentry, finishing or refinishing cabinets or furniture'}, {'accessLevel': 'PUBLIC', 'hasSpeed': False, 'id': 6040, 'mets': 3, 'name': 'Carpentry, general, workshop'}, {'accessLevel': 'PUBLIC', 'hasSpeed': False, 'id': 6050, 'mets': 6, 'name': 'Carpentry, outside house, installing rain gutters, building a fence'}, {'accessLevel': 'PUBLIC', 'hasSpeed': False, 'id': 6070, 'mets': 7.5, 'name': 'Carpentry, sawing hardwood'}, {'accessLevel': 'PUBLIC', 'hasSpeed': False, 'id': 6080, 'mets': 5, 'name': 'Caulking, chinking log cabin'}, {'accessLevel': 'PUBLIC', 'hasSpeed': False, 'id': 6090, 'mets': 4.5, 'name': 'Caulking, except log cabin'}, {'accessLevel': 'PUBLIC', 'hasSpeed': False, 'id': 6100, 'mets': 5, 'name': 'Cleaning gutters'}, {'accessLevel': 'PUBLIC', 'hasSpeed': False, 'id': 6110, 'mets': 5, 'name': 'Excavating garage'}, {'accessLevel': 'PUBLIC', 'hasSpeed': False, 'id': 6120, 'mets': 5, 'name': 'Hanging storm windows'}, {'accessLevel': 'PUBLIC', 'hasSpeed': False, 'id': 6130, 'mets': 4.5, 'name': 'Laying or removing carpet'}, {'accessLevel': 'PUBLIC', 'hasSpeed': False, 'id': 6140, 'mets': 4.5, 'name': 'Laying tile or linoleum, repairing appliances'}, {'accessLevel': 'PUBLIC', 'hasSpeed': False, 'id': 6165, 'mets': 4.5, 'name': 'Painting'}, {'accessLevel': 'PUBLIC', 'hasSpeed': False, 'id': 6150, 'mets': 5, 'name': 'Painting, outside home'}, {'accessLevel': 'PUBLIC', 'hasSpeed': False, 'id': 6160, 'mets': 3, 'name': 'Painting, papering, plastering, scraping, inside house, hanging sheet rock, remodeling'}, {'accessLevel': 'PUBLIC', 'hasSpeed': False, 'id': 6170, 'mets': 3, 'name': 'Put on and removal of tarp - sailboat'}, {'accessLevel': 'PUBLIC', 'hasSpeed': False, 'id': 6180, 'mets': 6, 'name': 'Roofing'}, {'accessLevel': 'PUBLIC', 'hasSpeed': False, 'id': 6190, 'mets': 4.5, 'name': 'Sanding floors with a power sander'}, {'accessLevel': 'PUBLIC', 'hasSpeed': False, 'id': 6200, 'mets': 4.5, 'name': 'Scraping and painting sailboat or powerboat'}, {'accessLevel': 'PUBLIC', 'hasSpeed': False, 'id': 6210, 'mets': 5, 'name': 'Spreading dirt with a shovel'}, {'accessLevel': 'PUBLIC', 'hasSpeed': False, 'id': 6220, 'mets': 4.5, 'name': 'Washing and waxing hull of sailboat, car, powerboat, airplane'}, {'accessLevel': 'PUBLIC', 'hasSpeed': False, 'id': 6230, 'mets': 4.5, 'name': 'Washing fence, painting fence'}, {'accessLevel': 'PUBLIC', 'hasSpeed': False, 'id': 6240, 'mets': 3, 'name': 'Wiring, plumbing'}], 'id': 3, 'name': 'Home repair'}, {'activities': [{'accessLevel': 'PUBLIC', 'hasSpeed': False, 'id': 8010, 'mets': 5, 'name': 'Carrying, loading or stacking wood, loading/unloading or carrying lumber'}, {'accessLevel': 'PUBLIC', 'hasSpeed': False, 'id': 8020, 'mets': 6, 'name': 'Chopping wood, splitting logs'}, {'accessLevel': 'PUBLIC', 'hasSpeed': False, 'id': 8030, 'mets': 5, 'name': 'Clearing land, hauling branches, wheelbarrow chores'}, {'accessLevel': 'PUBLIC', 'hasSpeed': False, 'id': 8040, 'mets': 5, 'name': 'Digging sandbox'}, {'accessLevel': 'PUBLIC', 'hasSpeed': False, 'id': 8050, 'mets': 5, 'name': 'Digging, spading, filling garden, composting'}, {'accessLevel': 'PUBLIC', 'hasSpeed': False, 'id': 8245, 'mets': 4, 'name': 'Gardening'}, {'accessLevel': 'PUBLIC', 'hasSpeed': False, 'id': 8060, 'mets': 6, 'name': 'Gardening with heavy power tools, tilling a garden, chain saw'}, {'accessLevel': 'PUBLIC', 'hasSpeed': False, 'id': 8250, 'mets': 3, 'name': 'Implied walking/standing -picking up yard, light, picking flowers or vegetables'}, {'accessLevel': 'PUBLIC', 'hasSpeed': False, 'id': 8080, 'mets': 5, 'name': 'Laying crushed rock'}, {'accessLevel': 'PUBLIC', 'hasSpeed': False, 'id': 8090, 'mets': 5, 'name': 'Laying sod'}, {'accessLevel': 'PUBLIC', 'hasSpeed': False, 'id': 8095, 'mets': 5.5, 'name': 'Mowing lawn'}, {'accessLevel': 'PUBLIC', 'hasSpeed': False, 'id': 8100, 'mets': 2.5, 'name': 'Mowing lawn, riding mower'}, {'accessLevel': 'PUBLIC', 'hasSpeed': False, 'id': 8110, 'mets': 6, 'name': 'Mowing lawn, walk, hand mower'}, {'accessLevel': 'PUBLIC', 'hasSpeed': False, 'id': 8120, 'mets': 5.5, 'name': 'Mowing lawn, walk, power mower'}, {'accessLevel': 'PUBLIC', 'hasSpeed': False, 'id': 8130, 'mets': 4.5, 'name': 'Operating snow blower, walking'}, {'accessLevel': 'PUBLIC', 'hasSpeed': False, 'id': 8246, 'mets': 3, 'name': 'Picking fruit off trees, picking fruits/vegetables, moderate effort'}, {'accessLevel': 'PUBLIC', 'hasSpeed': False, 'id': 8140, 'mets': 4.5, 'name': 'Planting seedlings, shrubs'}, {'accessLevel': 'PUBLIC', 'hasSpeed': False, 'id': 8150, 'mets': 4.5, 'name': 'Planting trees'}, {'accessLevel': 'PUBLIC', 'hasSpeed': False, 'id': 8160, 'mets': 4.300000190734863, 'name': 'Raking lawn'}, {'accessLevel': 'PUBLIC', 'hasSpeed': False, 'id': 8170, 'mets': 4, 'name': 'Raking roof with snow rake'}, {'accessLevel': 'PUBLIC', 'hasSpeed': False, 'id': 8180, 'mets': 3, 'name': 'Riding snow blower'}, {'accessLevel': 'PUBLIC', 'hasSpeed': False, 'id': 8190, 'mets': 4, 'name': 'Sacking grass, leaves'}, {'accessLevel': 'PUBLIC', 'hasSpeed': False, 'id': 8200, 'mets': 6, 'name': 'Shoveling snow, by hand'}, {'accessLevel': 'PUBLIC', 'hasSpeed': False, 'id': 8210, 'mets': 4.5, 'name': 'Trimming shrubs or trees, manual cutter'}, {'accessLevel': 'PUBLIC', 'hasSpeed': False, 'id': 8215, 'mets': 3.5, 'name': 'Trimming shrubs or trees, power cutter, using leaf blower, edger'}, {'accessLevel': 'PUBLIC', 'hasSpeed': False, 'id': 8220, 'mets': 2.5, 'name': 'Walking, applying fertilizer or seeding a lawn'}, {'accessLevel': 'PUBLIC', 'hasSpeed': False, 'id': 8251, 'mets': 3, 'name': 'Walking, gathering gardening tools'}, {'accessLevel': 'PUBLIC', 'hasSpeed': False, 'id': 8230, 'mets': 1.5, 'name': 'Watering lawn or garden, standing or walking'}, {'accessLevel': 'PUBLIC', 'hasSpeed': False, 'id': 8240, 'mets': 4.5, 'name': 'Weeding, cultivating garden'}], 'id': 5, 'name': 'Lawn and garden'}, {'activities': [{'accessLevel': 'PUBLIC', 'hasSpeed': False, 'id': 7010, 'mets': 1, 'name': 'Lying quietly and watching television'}, {'accessLevel': 'PUBLIC', 'hasSpeed': False, 'id': 7011, 'mets': 1, 'name': 'Lying quietly, doing nothing, lying in bed awake, listening to music (not talking or reading)'}, {'accessLevel': 'PUBLIC', 'hasSpeed': False, 'id': 7075, 'mets': 1, 'name': 'Meditating'}, {'accessLevel': 'PUBLIC', 'hasSpeed': False, 'id': 7070, 'mets': 1, 'name': 'Reclining - reading'}, {'accessLevel': 'PUBLIC', 'hasSpeed': False, 'id': 7060, 'mets': 1, 'name': 'Reclining - talking or talking on phone'}, {'accessLevel': 'PUBLIC', 'hasSpeed': False, 'id': 7050, 'mets': 1, 'name': 'Reclining - writing'}, {'accessLevel': 'PUBLIC', 'hasSpeed': False, 'id': 7020, 'mets': 1, 'name': 'Sitting quietly and watching television'}, {'accessLevel': 'PUBLIC', 'hasSpeed': False, 'id': 7021, 'mets': 1, 'name': 'Sitting quietly, sitting smoking, listening to music (not talking or reading), watching a movie in a theater'}, {'accessLevel': 'PUBLIC', 'hasSpeed': False, 'id': 7030, 'mets': 0.8999999761581421, 'name': 'Sleeping'}, {'accessLevel': 'PUBLIC', 'hasSpeed': False, 'id': 7040, 'mets': 1.2000000476837158, 'name': 'Standing quietly (standing in a line)'}], 'id': 4, 'name': 'Leisure and inactivity'}, {'activities': [{'accessLevel': 'PUBLIC', 'hasSpeed': False, 'id': 9110, 'mets': 2.5, 'name': 'Camping involving standing, walking, sitting, light-to-moderate effort'}, {'accessLevel': 'PUBLIC', 'hasSpeed': False, 'id': 9100, 'mets': 1.5, 'name': 'Retreat/family reunion activities involving sitting, relaxing, talking, eating'}, {'accessLevel': 'PUBLIC', 'hasSpeed': False, 'id': 9075, 'mets': 1.5, 'name': 'Sitting - arts and crafts, light effort'}, {'accessLevel': 'PUBLIC', 'hasSpeed': False, 'id': 9065, 'mets': 1.7999999523162842, 'name': 'Sitting - in class, general, including note-taking or class discussion'}, {'accessLevel': 'PUBLIC', 'hasSpeed': False, 'id': 9030, 'mets': 1.2999999523162842, 'name': 'Sitting - reading, book, newspaper, etc.'}, {'accessLevel': 'PUBLIC', 'hasSpeed': False, 'id': 9060, 'mets': 1.7999999523162842, 'name': 'Sitting - studying, general, including reading and/or writing'}, {'accessLevel': 'PUBLIC', 'hasSpeed': False, 'id': 9055, 'mets': 1.5, 'name': 'Sitting - talking or talking on the phone'}, {'accessLevel': 'PUBLIC', 'hasSpeed': False, 'id': 9040, 'mets': 1.7999999523162842, 'name': 'Sitting - writing, desk work, typing'}, {'accessLevel': 'PUBLIC', 'hasSpeed': False, 'id': 9080, 'mets': 2, 'name': 'Sitting -arts and crafts, moderate effort'}, {'accessLevel': 'PUBLIC', 'hasSpeed': False, 'id': 9010, 'mets': 1.5, 'name': 'Sitting -card playing, playing board games'}, {'accessLevel': 'PUBLIC', 'hasSpeed': False, 'id': 9115, 'mets': 1.5, 'name': 'Sitting at a sporting event, spectator'}, {'accessLevel': 'PUBLIC', 'hasSpeed': False, 'id': 9085, 'mets': 1.7999999523162842, 'name': 'Standing - arts and crafts, light effort'}, {'accessLevel': 'PUBLIC', 'hasSpeed': False, 'id': 9090, 'mets': 3, 'name': 'Standing - arts and crafts, moderate effort'}, {'accessLevel': 'PUBLIC', 'hasSpeed': False, 'id': 9095, 'mets': 3.5, 'name': 'Standing - arts and crafts, vigorous effort'}, {'accessLevel': 'PUBLIC', 'hasSpeed': False, 'id': 9071, 'mets': 2, 'name': 'Standing - miscellaneous'}, {'accessLevel': 'PUBLIC', 'hasSpeed': False, 'id': 9070, 'mets': 1.7999999523162842, 'name': 'Standing - reading'}, {'accessLevel': 'PUBLIC', 'hasSpeed': False, 'id': 9050, 'mets': 1.7999999523162842, 'name': 'Standing - talking or talking on the phone'}, {'accessLevel': 'PUBLIC', 'hasSpeed': False, 'id': 9020, 'mets': 2.299999952316284, 'name': 'Standing -drawing (writing), casino gambling, duplicating machine'}, {'accessLevel': 'PUBLIC', 'hasSpeed': False, 'id': 9105, 'mets': 2, 'name': 'Touring/traveling/vacation involving walking and riding'}], 'id': 6, 'name': 'Miscellaneous'}, {'activities': [{'accessLevel': 'PUBLIC', 'hasSpeed': False, 'id': 10010, 'mets': 1.7999999523162842, 'name': 'Accordion'}, {'accessLevel': 'PUBLIC', 'hasSpeed': False, 'id': 10020, 'mets': 2, 'name': 'Cello'}, {'accessLevel': 'PUBLIC', 'hasSpeed': False, 'id': 10030, 'mets': 2.5, 'name': 'Conducting'}, {'accessLevel': 'PUBLIC', 'hasSpeed': False, 'id': 10040, 'mets': 4, 'name': 'Drums'}, {'accessLevel': 'PUBLIC', 'hasSpeed': False, 'id': 10050, 'mets': 2, 'name': 'Flute (sitting)'}, {'accessLevel': 'PUBLIC', 'hasSpeed': False, 'id': 10120, 'mets': 2, 'name': 'Guitar, classical, folk (sitting)'}, {'accessLevel': 'PUBLIC', 'hasSpeed': False, 'id': 10125, 'mets': 3, 'name': 'Guitar, rock and roll band (standing)'}, {'accessLevel': 'PUBLIC', 'hasSpeed': False, 'id': 10060, 'mets': 2, 'name': 'Horn'}, {'accessLevel': 'PUBLIC', 'hasSpeed': False, 'id': 10135, 'mets': 3.5, 'name': 'Marching band, drum major (walking)'}, {'accessLevel': 'PUBLIC', 'hasSpeed': False, 'id': 10130, 'mets': 4, 'name': 'Marching band, playing an instrument, baton twirling (walking)'}, {'accessLevel': 'PUBLIC', 'hasSpeed': False, 'id': 10070, 'mets': 2.5, 'name': 'Piano or organ'}, {'accessLevel': 'PUBLIC', 'hasSpeed': False, 'id': 10080, 'mets': 3.5, 'name': 'Trombone'}, {'accessLevel': 'PUBLIC', 'hasSpeed': False, 'id': 10090, 'mets': 2.5, 'name': 'Trumpet'}, {'accessLevel': 'PUBLIC', 'hasSpeed': False, 'id': 10100, 'mets': 2.5, 'name': 'Violin'}, {'accessLevel': 'PUBLIC', 'hasSpeed': False, 'id': 10110, 'mets': 2, 'name': 'Woodwind'}], 'id': 7, 'name': 'Music playing'}, {'activities': [{'accessLevel': 'PUBLIC', 'hasSpeed': False, 'id': 11010, 'mets': 4, 'name': 'Bakery, general, moderate effort'}, {'accessLevel': 'PUBLIC', 'hasSpeed': False, 'id': 11015, 'mets': 2.5, 'name': 'Bakery, light effort'}, {'accessLevel': 'PUBLIC', 'hasSpeed': False, 'id': 11020, 'mets': 2.299999952316284, 'name': 'Bookbinding'}, {'accessLevel': 'PUBLIC', 'hasSpeed': False, 'id': 11030, 'mets': 6, 'name': 'Building road (including hauling debris, driving heavy machinery)'}, {'accessLevel': 'PUBLIC', 'hasSpeed': False, 'id': 11035, 'mets': 2, 'name': 'Building road, directing traffic (standing)'}, {'accessLevel': 'PUBLIC', 'hasSpeed': False, 'id': 11040, 'mets': 3.5, 'name': 'Carpentry'}, {'accessLevel': 'PUBLIC', 'hasSpeed': False, 'id': 11050, 'mets': 8, 'name': 'Carrying heavy loads, such as bricks'}, {'accessLevel': 'PUBLIC', 'hasSpeed': False, 'id': 11060, 'mets': 8, 'name': 'Carrying moderate loads up stairs, moving boxes (16-40 pounds)'}, {'accessLevel': 'PUBLIC', 'hasSpeed': False, 'id': 11070, 'mets': 2.5, 'name': 'Chambermaid, making bed (nursing)'}, {'accessLevel': 'PUBLIC', 'hasSpeed': False, 'id': 11120, 'mets': 5.5, 'name': 'Construction, outside, remodeling'}, {'accessLevel': 'PUBLIC', 'hasSpeed': False, 'id': 11130, 'mets': 3.5, 'name': 'Electrical work, plumbing'}, {'accessLevel': 'PUBLIC', 'hasSpeed': False, 'id': 11370, 'mets': 4.5, 'name': 'Furriery'}, {'accessLevel': 'PUBLIC', 'hasSpeed': False, 'id': 11380, 'mets': 6, 'name': 'Horse grooming'}, {'accessLevel': 'PUBLIC', 'hasSpeed': False, 'id': 11615, 'mets': 4, 'name': 'Lifting items continuously, 10 - 20 lbs, with limited walking or resting'}, {'accessLevel': 'PUBLIC', 'hasSpeed': False, 'id': 11420, 'mets': 3.5, 'name': 'Locksmith'}, {'accessLevel': 'PUBLIC', 'hasSpeed': False, 'id': 11480, 'mets': 7, 'name': 'Masonry concrete'}, {'accessLevel': 'PUBLIC', 'hasSpeed': False, 'id': 11485, 'mets': 4, 'name': 'Massage therapist (standing)'}, {'accessLevel': 'PUBLIC', 'hasSpeed': False, 'id': 11490, 'mets': 7.5, 'name': 'Moving, pushing heavy objects, 75 lbs or more (desks, moving van work)'}, {'accessLevel': 'PUBLIC', 'hasSpeed': False, 'id': 11500, 'mets': 2.5, 'name': 'Operating heavy duty equipment/automated, not driving'}, {'accessLevel': 'PUBLIC', 'hasSpeed': False, 'id': 11510, 'mets': 4.5, 'name': 'Orange grove work'}, {'accessLevel': 'PUBLIC', 'hasSpeed': False, 'id': 11520, 'mets': 2.299999952316284, 'name': 'Printing (standing)'}, {'accessLevel': 'PUBLIC', 'hasSpeed': False, 'id': 11530, 'mets': 2.5, 'name': 'Shoe repair, general'}, {'accessLevel': 'PUBLIC', 'activityLevels': [{'id': 11540, 'maxSpeedMPH': -1, 'mets': 8.5, 'minSpeedMPH': -1, 'name': 'Digging ditches'}, {'id': 11550, 'maxSpeedMPH': -1, 'mets': 9, 'minSpeedMPH': -1, 'name': 'Heavy lifting (more than 16 pounds/minute)'}, {'id': 11560, 'maxSpeedMPH': -1, 'mets': 6, 'minSpeedMPH': -1, 'name': 'Light lifting (less than 10 pounds/minute)'}, {'id': 11570, 'maxSpeedMPH': -1, 'mets': 7, 'minSpeedMPH': -1, 'name': 'Moderate lifting (10 to 15 pounds/minute)'}], 'hasSpeed': False, 'id': 90007, 'name': 'Shoveling'}, {'accessLevel': 'PUBLIC', 'hasSpeed': False, 'id': 11580, 'mets': 1.5, 'name': 'Sitting - light office work, general (chemistry lab work, light use of hand tools, watch repair or micro-assembly, light assembly/repair), sitting, reading, driving at work'}, {'accessLevel': 'PUBLIC', 'hasSpeed': False, 'id': 11585, 'mets': 1.5, 'name': 'Sitting - meetings, general, and/or with talking involved, eating at a business meeting'}, {'accessLevel': 'PUBLIC', 'hasSpeed': False, 'id': 11590, 'mets': 2.5, 'name': 'Sitting; moderate (heavy levers, riding mower/forklift, crane operation), teaching stretching or yoga'}, {'accessLevel': 'PUBLIC', 'hasSpeed': False, 'id': 11495, 'mets': 12, 'name': 'Skindiving or SCUBA diving as a frogman (Navy Seal)'}, {'accessLevel': 'PUBLIC', 'hasSpeed': False, 'id': 11600, 'mets': 2.299999952316284, 'name': 'Standing; light (bartending, store clerk, assembling, filing, duplicating, putting up a Christmas tree), standing and talking at work, changing clothes when teaching physical education'}, {'accessLevel': 'PUBLIC', 'hasSpeed': False, 'id': 11610, 'mets': 3, 'name': 'Standing; light/moderate (assemble/repair heavy parts, welding, stocking, auto repair, pack boxes for moving, etc.), patient care (as in nursing)'}, {'accessLevel': 'PUBLIC', 'hasSpeed': False, 'id': 11620, 'mets': 3.5, 'name': 'Standing; moderate (assembling at fast rate, intermittent, lifting 50 lbs, hitch/twisting ropes)'}, {'accessLevel': 'PUBLIC', 'hasSpeed': False, 'id': 11630, 'mets': 4, 'name': 'Standing; moderate/heavy (lifting more than 50 lbs, masonry, painting, paper hanging)'}, {'accessLevel': 'PUBLIC', 'hasSpeed': False, 'id': 11875, 'mets': 4, 'name': 'Teach physical education, exercise, sports classes (non-sport play)'}, {'accessLevel': 'PUBLIC', 'hasSpeed': False, 'id': 11876, 'mets': 6.5, 'name': 'Teach physical education, exercise, sports classes (participate in the class)'}, {'accessLevel': 'PUBLIC', 'hasSpeed': False, 'id': 11766, 'mets': 6.5, 'name': 'Truck driving, loading and unloading truck (standing)'}, {'accessLevel': 'PUBLIC', 'hasSpeed': False, 'id': 11770, 'mets': 1.5, 'name': 'Typing, electric, manual or computer'}, {'accessLevel': 'PUBLIC', 'hasSpeed': False, 'id': 11780, 'mets': 6, 'name': 'Using heavy power tools such as pneumatic tools (jackhammers, drills. etc.)'}, {'accessLevel': 'PUBLIC', 'hasSpeed': False, 'id': 11790, 'mets': 8, 'name': 'Using heavy tools (not power) such as shovel, pick, tunnel bar, spade'}, {'accessLevel': 'PUBLIC', 'activityLevels': [{'id': 11810, 'maxSpeedMPH': -1, 'mets': 4.5, 'minSpeedMPH': -1, 'name': 'Carrying under 25 pounds'}, {'id': 11820, 'maxSpeedMPH': -1, 'mets': 5, 'minSpeedMPH': -1, 'name': 'Carrying 25 to 49 pounds'}, {'id': 11830, 'maxSpeedMPH': -1, 'mets': 6.5, 'minSpeedMPH': -1, 'name': 'Carrying 50 to 74 pounds'}, {'id': 11840, 'maxSpeedMPH': -1, 'mets': 7.5, 'minSpeedMPH': -1, 'name': 'Carrying 75 to 99 pounds'}, {'id': 11850, 'maxSpeedMPH': -1, 'mets': 8.5, 'minSpeedMPH': -1, 'name': 'Carrying over 100 pounds'}], 'hasSpeed': False, 'id': 90008, 'name': 'Walking while carrying things'}, {'accessLevel': 'PUBLIC', 'hasSpeed': False, 'id': 11870, 'mets': 3, 'name': 'Working in scene shop, theater actor, backstage employee'}], 'id': 8, 'name': 'Occupations', 'subCategories': [{'activities': [{'accessLevel': 'PUBLIC', 'hasSpeed': False, 'id': 11090, 'mets': 6.5, 'name': 'Coal mining, erecting supports'}, {'accessLevel': 'PUBLIC', 'hasSpeed': False, 'id': 11100, 'mets': 6, 'name': 'Coal mining, general'}, {'accessLevel': 'PUBLIC', 'hasSpeed': False, 'id': 11080, 'mets': 6.5, 'name': 'Drilling coal, rock'}, {'accessLevel': 'PUBLIC', 'hasSpeed': False, 'id': 11110, 'mets': 7, 'name': 'Shoveling coal'}], 'id': 9, 'name': 'Coal Mining'}, {'activities': [{'accessLevel': 'PUBLIC', 'hasSpeed': False, 'id': 11121, 'mets': 3, 'name': 'Buffing the floor with electric buffer'}, {'accessLevel': 'PUBLIC', 'hasSpeed': False, 'id': 11122, 'mets': 2.5, 'name': 'Cleaning sink and toilet, light effort'}, {'accessLevel': 'PUBLIC', 'hasSpeed': False, 'id': 11123, 'mets': 2.5, 'name': 'Dusting, light effort'}, {'accessLevel': 'PUBLIC', 'hasSpeed': False, 'id': 11124, 'mets': 4, 'name': 'Feathering arena floor, moderate effort'}, {'accessLevel': 'PUBLIC', 'hasSpeed': False, 'id': 11125, 'mets': 3.5, 'name': 'General cleaning, moderate effort'}, {'accessLevel': 'PUBLIC', 'hasSpeed': False, 'id': 11126, 'mets': 3.5, 'name': 'Mopping, moderate effort'}, {'accessLevel': 'PUBLIC', 'hasSpeed': False, 'id': 11127, 'mets': 3, 'name': 'Taking out the trash, moderate effort'}, {'accessLevel': 'PUBLIC', 'hasSpeed': False, 'id': 11128, 'mets': 2.5, 'name': 'Vacuuming, light effort'}, {'accessLevel': 'PUBLIC', 'hasSpeed': False, 'id': 11129, 'mets': 3, 'name': 'Vacuuming, moderate effort'}], 'id': 10, 'name': 'Custodial Work'}, {'activities': [{'accessLevel': 'PUBLIC', 'hasSpeed': False, 'id': 11140, 'mets': 8, 'name': 'Baling hay, cleaning barn, poultry work, vigorous effort'}, {'accessLevel': 'PUBLIC', 'hasSpeed': False, 'id': 11151, 'mets': 4, 'name': 'Chasing cattle or other livestock on horseback, moderate effort'}, {'accessLevel': 'PUBLIC', 'hasSpeed': False, 'id': 11152, 'mets': 2, 'name': 'Chasing cattle or other livestock, driving, light effort'}, {'accessLevel': 'PUBLIC', 'hasSpeed': False, 'id': 11150, 'mets': 3.5, 'name': 'Chasing cattle, non-strenuous (walking), moderate effort'}, {'accessLevel': 'PUBLIC', 'hasSpeed': False, 'id': 11160, 'mets': 2.5, 'name': 'Driving a harvester, cutting hay, irrigation work'}, {'accessLevel': 'PUBLIC', 'hasSpeed': False, 'id': 11170, 'mets': 2.5, 'name': 'Driving a tractor'}, {'accessLevel': 'PUBLIC', 'hasSpeed': False, 'id': 11190, 'mets': 4.5, 'name': 'Feeding cattle, horses'}, {'accessLevel': 'PUBLIC', 'hasSpeed': False, 'id': 11180, 'mets': 4, 'name': 'Feeding small animals'}, {'accessLevel': 'PUBLIC', 'hasSpeed': False, 'id': 11200, 'mets': 8, 'name': 'Forking straw bales, cleaning corral or bars, vigorous effort'}, {'accessLevel': 'PUBLIC', 'hasSpeed': False, 'id': 11191, 'mets': 4.5, 'name': 'Hauling water for animals, general hauling water'}, {'accessLevel': 'PUBLIC', 'hasSpeed': False, 'id': 11210, 'mets': 3, 'name': 'Milking by hand, moderate effort'}, {'accessLevel': 'PUBLIC', 'hasSpeed': False, 'id': 11220, 'mets': 1.5, 'name': 'Milking by machine, light effort'}, {'accessLevel': 'PUBLIC', 'hasSpeed': False, 'id': 11230, 'mets': 5.5, 'name': 'Shoveling grain, moderate effort'}, {'accessLevel': 'PUBLIC', 'hasSpeed': False, 'id': 11192, 'mets': 6, 'name': 'Taking care of animals (grooming, brushing, shearing sheep, assisting with birthing, medical care, branding)'}], 'id': 11, 'name': 'Farming'}, {'activities': [{'accessLevel': 'PUBLIC', 'hasSpeed': False, 'id': 11245, 'mets': 11, 'name': 'Fire fighter, climbing ladder with full gear'}, {'accessLevel': 'PUBLIC', 'hasSpeed': False, 'id': 11240, 'mets': 12, 'name': 'Fire fighter, general'}, {'accessLevel': 'PUBLIC', 'hasSpeed': False, 'id': 11246, 'mets': 8, 'name': 'Fire fighter, hauling hoses on ground'}], 'id': 12, 'name': 'Fire Fighter'}, {'activities': [{'accessLevel': 'PUBLIC', 'hasSpeed': False, 'id': 11250, 'mets': 17, 'name': 'Ax chopping, fast'}, {'accessLevel': 'PUBLIC', 'hasSpeed': False, 'id': 11260, 'mets': 5, 'name': 'Ax chopping, slow'}, {'accessLevel': 'PUBLIC', 'hasSpeed': False, 'id': 11270, 'mets': 7, 'name': 'Barking trees'}, {'accessLevel': 'PUBLIC', 'hasSpeed': False, 'id': 11280, 'mets': 11, 'name': 'Carrying logs'}, {'accessLevel': 'PUBLIC', 'hasSpeed': False, 'id': 11290, 'mets': 8, 'name': 'Felling trees'}, {'accessLevel': 'PUBLIC', 'hasSpeed': False, 'id': 11300, 'mets': 8, 'name': 'Forestry, general'}, {'accessLevel': 'PUBLIC', 'hasSpeed': False, 'id': 11310, 'mets': 5, 'name': 'Hoeing'}, {'accessLevel': 'PUBLIC', 'hasSpeed': False, 'id': 11320, 'mets': 6, 'name': 'Planting by hand'}, {'accessLevel': 'PUBLIC', 'hasSpeed': False, 'id': 11330, 'mets': 7, 'name': 'Sawing by hand'}, {'accessLevel': 'PUBLIC', 'hasSpeed': False, 'id': 11340, 'mets': 4.5, 'name': 'Sawing with a chainsaw'}, {'accessLevel': 'PUBLIC', 'hasSpeed': False, 'id': 11350, 'mets': 9, 'name': 'Trimming trees'}, {'accessLevel': 'PUBLIC', 'hasSpeed': False, 'id': 11360, 'mets': 4, 'name': 'Weeding'}], 'id': 13, 'name': 'Forestry'}, {'activities': [{'accessLevel': 'PUBLIC', 'hasSpeed': False, 'id': 11390, 'mets': 8, 'name': 'Horseback riding - galloping'}, {'accessLevel': 'PUBLIC', 'hasSpeed': False, 'id': 11400, 'mets': 6.5, 'name': 'Horseback riding - trotting'}, {'accessLevel': 'PUBLIC', 'hasSpeed': False, 'id': 11410, 'mets': 2.5999999046325684, 'name': 'Horseback riding - walking'}], 'id': 14, 'name': 'Horse Trainer'}, {'activities': [{'accessLevel': 'PUBLIC', 'hasSpeed': False, 'id': 11430, 'mets': 2.5, 'name': 'Machine tooling, machining, working sheet metal'}, {'accessLevel': 'PUBLIC', 'hasSpeed': False, 'id': 11440, 'mets': 3, 'name': 'Operating a lathe'}, {'accessLevel': 'PUBLIC', 'hasSpeed': False, 'id': 11450, 'mets': 5, 'name': 'Operating a punch press'}, {'accessLevel': 'PUBLIC', 'hasSpeed': False, 'id': 11460, 'mets': 4, 'name': 'Tapping and drilling'}, {'accessLevel': 'PUBLIC', 'hasSpeed': False, 'id': 11470, 'mets': 3, 'name': 'Welding'}], 'id': 15, 'name': 'Machine Shop'}, {'activities': [{'accessLevel': 'PUBLIC', 'hasSpeed': False, 'id': 11525, 'mets': 2.5, 'name': 'Directing traffic (standing)'}, {'accessLevel': 'PUBLIC', 'hasSpeed': False, 'id': 11526, 'mets': 2, 'name': 'Driving a squad car (sitting)'}, {'accessLevel': 'PUBLIC', 'hasSpeed': False, 'id': 11528, 'mets': 4, 'name': 'Making an arrest (standing)'}, {'accessLevel': 'PUBLIC', 'hasSpeed': False, 'id': 11527, 'mets': 1.2999999523162842, 'name': 'Riding in a squad car (sitting)'}], 'id': 16, 'name': 'Police'}, {'activities': [{'accessLevel': 'PUBLIC', 'hasSpeed': False, 'id': 11640, 'mets': 5, 'name': 'Fettling'}, {'accessLevel': 'PUBLIC', 'hasSpeed': False, 'id': 11650, 'mets': 5.5, 'name': 'Forging'}, {'accessLevel': 'PUBLIC', 'hasSpeed': False, 'id': 11660, 'mets': 8, 'name': 'Hand rolling'}, {'accessLevel': 'PUBLIC', 'hasSpeed': False, 'id': 11670, 'mets': 8, 'name': 'Merchant mill rolling'}, {'accessLevel': 'PUBLIC', 'hasSpeed': False, 'id': 11680, 'mets': 11, 'name': 'Removing slag'}, {'accessLevel': 'PUBLIC', 'hasSpeed': False, 'id': 11690, 'mets': 7.5, 'name': 'Tending furnace'}, {'accessLevel': 'PUBLIC', 'hasSpeed': False, 'id': 11700, 'mets': 5.5, 'name': 'Tipping molds'}, {'accessLevel': 'PUBLIC', 'hasSpeed': False, 'id': 11710, 'mets': 8, 'name': 'Working in general'}], 'id': 17, 'name': 'Steel Mill'}, {'activities': [{'accessLevel': 'PUBLIC', 'hasSpeed': False, 'id': 11740, 'mets': 2, 'name': 'Hand sewing'}, {'accessLevel': 'PUBLIC', 'hasSpeed': False, 'id': 11750, 'mets': 2.5, 'name': 'Machine sewing'}, {'accessLevel': 'PUBLIC', 'hasSpeed': False, 'id': 11760, 'mets': 4, 'name': 'Pressing'}, {'accessLevel': 'PUBLIC', 'hasSpeed': False, 'id': 11720, 'mets': 2.5, 'name': 'Tailoring, cutting'}, {'accessLevel': 'PUBLIC', 'hasSpeed': False, 'id': 11730, 'mets': 2.5, 'name': 'Tailoring, general'}, {'accessLevel': 'PUBLIC', 'hasSpeed': False, 'id': 11765, 'mets': 3.5, 'name': 'Weaving'}], 'id': 18, 'name': 'Tailoring'}]}, {'activities': [{'accessLevel': 'PUBLIC', 'hasSpeed': False, 'id': 53001, 'mets': 3.0999999046325684, 'name': 'Pilates'}, {'accessLevel': 'PUBLIC', 'hasSpeed': False, 'id': 53003, 'mets': 5.300000190734863, 'name': 'Pilates, Advanced'}, {'accessLevel': 'PUBLIC', 'hasSpeed': False, 'id': 53002, 'mets': 4.300000190734863, 'name': 'Pilates, Intermediate'}], 'id': 32, 'name': 'Pilates'}, {'activities': [{'accessLevel': 'PUBLIC', 'hasSpeed': False, 'id': 13030, 'mets': 1.5, 'name': 'Eating (sitting)'}, {'accessLevel': 'PUBLIC', 'hasSpeed': False, 'id': 13040, 'mets': 2, 'name': 'Grooming (washing, shaving, brushing teeth, washing hands, putting on make-up), sitting or standing'}, {'accessLevel': 'PUBLIC', 'hasSpeed': False, 'id': 13045, 'mets': 2.5, 'name': 'Hairstyling'}, {'accessLevel': 'PUBLIC', 'hasSpeed': False, 'id': 13046, 'mets': 1, 'name': 'Having hair or nails done by someone else, sitting'}, {'accessLevel': 'PUBLIC', 'hasSpeed': False, 'id': 13000, 'mets': 2, 'name': 'Standing - getting ready for bed, in general'}, {'accessLevel': 'PUBLIC', 'hasSpeed': False, 'id': 13036, 'mets': 1, 'name': 'Taking medication, sitting or standing'}, {'accessLevel': 'PUBLIC', 'hasSpeed': False, 'id': 13035, 'mets': 2, 'name': 'Talking and eating or eating only (standing)'}], 'id': 19, 'name': 'Self care'}, {'activities': [{'accessLevel': 'PUBLIC', 'hasSpeed': False, 'id': 15010, 'mets': 3.5, 'name': 'Archery'}, {'accessLevel': 'PUBLIC', 'hasSpeed': False, 'id': 15020, 'mets': 7, 'name': 'Badminton'}, {'accessLevel': 'PUBLIC', 'hasSpeed': False, 'id': 15030, 'mets': 4.5, 'name': 'Badminton, social singles and doubles, general'}, {'accessLevel': 'PUBLIC', 'hasSpeed': False, 'id': 15620, 'mets': 5, 'name': 'Baseball'}, {'accessLevel': 'PUBLIC', 'hasSpeed': False, 'id': 15040, 'mets': 8, 'name': 'Basketball'}, {'accessLevel': 'PUBLIC', 'hasSpeed': False, 'id': 15050, 'mets': 6, 'name': 'Basketball, non-game, general'}, {'accessLevel': 'PUBLIC', 'hasSpeed': False, 'id': 15060, 'mets': 7, 'name': 'Basketball, officiating'}, {'accessLevel': 'PUBLIC', 'hasSpeed': False, 'id': 15070, 'mets': 4.5, 'name': 'Basketball, shooting baskets'}, {'accessLevel': 'PUBLIC', 'hasSpeed': False, 'id': 15075, 'mets': 6.5, 'name': 'Basketball, wheelchair'}, {'accessLevel': 'PUBLIC', 'hasSpeed': False, 'id': 15080, 'mets': 2.5, 'name': 'Billiards'}, {'accessLevel': 'PUBLIC', 'hasSpeed': False, 'id': 55003, 'mets': 8.899999618530273, 'name': 'Bootcamp'}, {'accessLevel': 'PUBLIC', 'hasSpeed': False, 'id': 15090, 'mets': 3, 'name': 'Bowling'}, {'accessLevel': 'PUBLIC', 'hasSpeed': False, 'id': 15100, 'mets': 12, 'name': 'Boxing'}, {'accessLevel': 'PUBLIC', 'hasSpeed': False, 'id': 15110, 'mets': 6, 'name': 'Boxing, punching bag'}, {'accessLevel': 'PUBLIC', 'hasSpeed': False, 'id': 15120, 'mets': 9, 'name': 'Boxing, sparring'}, {'accessLevel': 'PUBLIC', 'hasSpeed': False, 'id': 15130, 'mets': 7, 'name': 'Broomball'}, {'accessLevel': 'PUBLIC', 'hasSpeed': False, 'id': 15135, 'mets': 5, 'name': \"Children's games (hopscotch, 4-square, dodge bail, playground apparatus, t-ball, tetherbai;, marbles, jacks, acrace games)\"}, {'accessLevel': 'PUBLIC', 'hasSpeed': False, 'id': 15140, 'mets': 4, 'name': 'Coaching: football, soccer, basketball, baseball, swimming, etc.'}, {'accessLevel': 'PUBLIC', 'hasSpeed': False, 'id': 15150, 'mets': 5, 'name': 'Cricket'}, {'accessLevel': 'PUBLIC', 'hasSpeed': False, 'id': 15160, 'mets': 2.5, 'name': 'Croquet'}, {'accessLevel': 'PUBLIC', 'hasSpeed': False, 'id': 15170, 'mets': 4, 'name': 'Curling'}, {'accessLevel': 'PUBLIC', 'hasSpeed': False, 'id': 15180, 'mets': 2.5, 'name': 'Darts, wail or lawn'}, {'accessLevel': 'PUBLIC', 'hasSpeed': False, 'id': 15190, 'mets': 6, 'name': 'Drag racing, pushing or driving a car'}, {'accessLevel': 'PUBLIC', 'hasSpeed': False, 'id': 15200, 'mets': 6, 'name': 'Fencing'}, {'accessLevel': 'PUBLIC', 'hasSpeed': False, 'id': 15350, 'mets': 8, 'name': 'Field Hockey'}, {'accessLevel': 'PUBLIC', 'hasSpeed': False, 'id': 15210, 'mets': 9, 'name': 'Football'}, {'accessLevel': 'PUBLIC', 'hasSpeed': False, 'id': 15235, 'mets': 2.5, 'name': 'Football or baseball, playing catch'}, {'accessLevel': 'PUBLIC', 'hasSpeed': False, 'id': 15230, 'mets': 8, 'name': 'Football, touch, flag, general'}, {'accessLevel': 'PUBLIC', 'hasSpeed': False, 'id': 15240, 'mets': 3, 'name': 'Frisbee playing, general'}, {'accessLevel': 'PUBLIC', 'hasSpeed': False, 'id': 15255, 'mets': 4.5, 'name': 'Golf'}, {'accessLevel': 'PUBLIC', 'hasSpeed': False, 'id': 15270, 'mets': 3, 'name': 'Golf, miniature, driving range'}, {'accessLevel': 'PUBLIC', 'hasSpeed': False, 'id': 15290, 'mets': 3.5, 'name': 'Golf, using power cart'}, {'accessLevel': 'PUBLIC', 'hasSpeed': False, 'id': 15265, 'mets': 4.5, 'name': 'Golf, walking and carrying clubs'}, {'accessLevel': 'PUBLIC', 'hasSpeed': False, 'id': 15285, 'mets': 4.300000190734863, 'name': 'Golf, walking and pulling clubs'}, {'accessLevel': 'PUBLIC', 'hasSpeed': False, 'id': 15300, 'mets': 4, 'name': 'Gymnastics'}, {'accessLevel': 'PUBLIC', 'hasSpeed': False, 'id': 15310, 'mets': 4, 'name': 'Hacky sack'}, {'accessLevel': 'PUBLIC', 'hasSpeed': False, 'id': 15320, 'mets': 12, 'name': 'Handball'}, {'accessLevel': 'PUBLIC', 'hasSpeed': False, 'id': 15330, 'mets': 8, 'name': 'Handball, team'}, {'accessLevel': 'PUBLIC', 'hasSpeed': False, 'id': 15340, 'mets': 3.5, 'name': 'Hang gliding'}, {'accessLevel': 'PUBLIC', 'hasSpeed': False, 'id': 15360, 'mets': 8, 'name': 'Hockey'}, {'accessLevel': 'PUBLIC', 'hasSpeed': False, 'id': 15370, 'mets': 4, 'name': 'Horseback riding'}, {'accessLevel': 'PUBLIC', 'hasSpeed': False, 'id': 11390, 'mets': 8, 'name': 'Horseback riding - galloping'}, {'accessLevel': 'PUBLIC', 'hasSpeed': False, 'id': 11400, 'mets': 6.5, 'name': 'Horseback riding - trotting'}, {'accessLevel': 'PUBLIC', 'hasSpeed': False, 'id': 11410, 'mets': 2.5999999046325684, 'name': 'Horseback riding - walking'}, {'accessLevel': 'PUBLIC', 'hasSpeed': False, 'id': 15380, 'mets': 3.5, 'name': 'Horseback riding, saddling horse, grooming horse'}, {'accessLevel': 'PUBLIC', 'hasSpeed': False, 'id': 15410, 'mets': 3, 'name': 'Horseshoe pitching'}, {'accessLevel': 'PUBLIC', 'hasSpeed': False, 'id': 15420, 'mets': 12, 'name': 'Jai alai'}, {'accessLevel': 'PUBLIC', 'hasSpeed': False, 'id': 15440, 'mets': 4, 'name': 'Juggling'}, {'accessLevel': 'PUBLIC', 'hasSpeed': False, 'id': 15551, 'mets': 10, 'name': 'Jumping rope'}, {'accessLevel': 'PUBLIC', 'hasSpeed': False, 'id': 15450, 'mets': 7, 'name': 'Kickball'}, {'accessLevel': 'PUBLIC', 'hasSpeed': False, 'id': 55002, 'mets': 9.399999618530273, 'name': 'Kickboxing'}, {'accessLevel': 'PUBLIC', 'hasSpeed': False, 'id': 15460, 'mets': 8, 'name': 'Lacrosse'}, {'accessLevel': 'PUBLIC', 'hasSpeed': False, 'id': 15430, 'mets': 10, 'name': 'Martial Arts'}, {'accessLevel': 'PUBLIC', 'hasSpeed': False, 'id': 15470, 'mets': 4, 'name': 'Motocross'}, {'accessLevel': 'PUBLIC', 'hasSpeed': False, 'id': 15480, 'mets': 9, 'name': 'Orienteering'}, {'accessLevel': 'PUBLIC', 'hasSpeed': False, 'id': 15500, 'mets': 6, 'name': 'Paddleball, casual, general'}, {'accessLevel': 'PUBLIC', 'hasSpeed': False, 'id': 15490, 'mets': 10, 'name': 'Paddleball, competitive'}, {'accessLevel': 'PUBLIC', 'hasSpeed': False, 'id': 15510, 'mets': 8, 'name': 'Polo'}, {'accessLevel': 'PUBLIC', 'hasSpeed': False, 'id': 15530, 'mets': 7, 'name': 'Racquetball'}, {'accessLevel': 'PUBLIC', 'hasSpeed': False, 'id': 15520, 'mets': 10, 'name': 'Racquetball, competitive'}, {'accessLevel': 'PUBLIC', 'hasSpeed': False, 'id': 15535, 'mets': 11, 'name': 'Rock climbing'}, {'accessLevel': 'PUBLIC', 'hasSpeed': False, 'id': 15540, 'mets': 8, 'name': 'Rock climbing, rappelling'}, {'accessLevel': 'PUBLIC', 'hasSpeed': False, 'id': 15591, 'mets': 12.5, 'name': 'Roller blading'}, {'accessLevel': 'PUBLIC', 'hasSpeed': False, 'id': 15590, 'mets': 7, 'name': 'Roller skating'}, {'accessLevel': 'PUBLIC', 'hasSpeed': False, 'id': 15550, 'mets': 12, 'name': 'Rope jumping, fast'}, {'accessLevel': 'PUBLIC', 'hasSpeed': False, 'id': 15552, 'mets': 8, 'name': 'Rope jumping, slow'}, {'accessLevel': 'PUBLIC', 'hasSpeed': False, 'id': 15560, 'mets': 10, 'name': 'Rugby'}, {'accessLevel': 'PUBLIC', 'hasSpeed': False, 'id': 15570, 'mets': 3, 'name': 'Shuffleboard, lawn bowling'}, {'accessLevel': 'PUBLIC', 'hasSpeed': False, 'id': 15580, 'mets': 5, 'name': 'Skateboarding'}, {'accessLevel': 'PUBLIC', 'hasSpeed': False, 'id': 15600, 'mets': 3.5, 'name': 'Sky diving'}, {'accessLevel': 'PUBLIC', 'hasSpeed': False, 'id': 15605, 'mets': 10, 'name': 'Soccer'}, {'accessLevel': 'PUBLIC', 'hasSpeed': False, 'id': 15610, 'mets': 7, 'name': 'Soccer, casual, general'}, {'accessLevel': 'PUBLIC', 'hasSpeed': False, 'id': 15640, 'mets': 6, 'name': 'Softball'}, {'accessLevel': 'PUBLIC', 'hasSpeed': False, 'id': 15630, 'mets': 4, 'name': 'Softball, officiating'}, {'accessLevel': 'PUBLIC', 'hasSpeed': False, 'id': 55001, 'mets': 6.5, 'name': 'Spinning'}, {'accessLevel': 'PUBLIC', 'hasSpeed': False, 'id': 15650, 'mets': 12, 'name': 'Squash'}, {'accessLevel': 'PUBLIC', 'hasSpeed': False, 'id': 15660, 'mets': 4, 'name': 'Table tennis'}, {'accessLevel': 'PUBLIC', 'hasSpeed': False, 'id': 15670, 'mets': 4, 'name': 'Tai chi'}, {'accessLevel': 'PUBLIC', 'hasSpeed': False, 'id': 15675, 'mets': 7, 'name': 'Tennis'}, {'accessLevel': 'PUBLIC', 'hasSpeed': False, 'id': 15680, 'mets': 6, 'name': 'Tennis, doubles'}, {'accessLevel': 'PUBLIC', 'hasSpeed': False, 'id': 15690, 'mets': 8, 'name': 'Tennis, singles'}, {'accessLevel': 'PUBLIC', 'hasSpeed': False, 'id': 15733, 'mets': 6, 'name': 'Track and field (high jump, long jump, triple jump, javelin, pole vault)'}, {'accessLevel': 'PUBLIC', 'hasSpeed': False, 'id': 15732, 'mets': 4, 'name': 'Track and field (shot, discus, hammer throw)'}, {'accessLevel': 'PUBLIC', 'hasSpeed': False, 'id': 15734, 'mets': 10, 'name': 'Track and field (steeplechase, hurdles)'}, {'accessLevel': 'PUBLIC', 'hasSpeed': False, 'id': 15700, 'mets': 3.5, 'name': 'Trampoline'}, {'accessLevel': 'PUBLIC', 'hasSpeed': False, 'id': 15250, 'mets': 8, 'name': 'Ultimate frisbee'}, {'accessLevel': 'PUBLIC', 'hasSpeed': False, 'id': 15711, 'mets': 8, 'name': 'Volleyball'}, {'accessLevel': 'PUBLIC', 'hasSpeed': False, 'id': 15725, 'mets': 8, 'name': 'Volleyball, beach'}, {'accessLevel': 'PUBLIC', 'hasSpeed': False, 'id': 15710, 'mets': 4, 'name': 'Volleyball, light'}, {'accessLevel': 'PUBLIC', 'hasSpeed': False, 'id': 15720, 'mets': 3, 'name': 'Volleyball, non-competitive, 6 - 9 member team, general'}, {'accessLevel': 'PUBLIC', 'hasSpeed': False, 'id': 15731, 'mets': 7, 'name': 'Wallyball, general'}, {'accessLevel': 'PUBLIC', 'hasSpeed': False, 'id': 15730, 'mets': 6, 'name': 'Wrestling'}, {'accessLevel': 'PUBLIC', 'hasSpeed': False, 'id': 56001, 'mets': 5.5, 'name': 'Zumba'}], 'id': 20, 'name': 'Sports and Workouts', 'subCategories': [{'activities': [{'accessLevel': 'PUBLIC', 'activityLevels': [{'id': 1010, 'maxSpeedMPH': 9.9, 'mets': 4, 'minSpeedMPH': -1, 'name': 'under 10 mph'}, {'id': 1020, 'maxSpeedMPH': 11.9, 'mets': 6, 'minSpeedMPH': 10, 'name': '10-11.9 mph'}, {'id': 1030, 'maxSpeedMPH': 13.9, 'mets': 8, 'minSpeedMPH': 12, 'name': '12 to 13.9mph'}, {'id': 1009, 'maxSpeedMPH': -1, 'mets': 8.5, 'minSpeedMPH': -1, 'name': 'Mountain Bike'}, {'id': 1040, 'maxSpeedMPH': 15.9, 'mets': 10, 'minSpeedMPH': 14, 'name': '14 to 15.9 mph'}, {'id': 1050, 'maxSpeedMPH': 19, 'mets': 12, 'minSpeedMPH': 16, 'name': '16 to 19mph'}, {'id': 1060, 'maxSpeedMPH': -1, 'mets': 16, 'minSpeedMPH': 20, 'name': 'over 20mph'}], 'hasSpeed': True, 'id': 90001, 'name': 'Bike'}, {'accessLevel': 'PUBLIC', 'hasSpeed': False, 'id': 1070, 'mets': 5, 'name': 'Unicycling'}], 'id': 21, 'name': 'Bicycling'}, {'activities': [{'accessLevel': 'PUBLIC', 'hasSpeed': False, 'id': 2020, 'mets': 8, 'name': 'Calisthenics'}, {'accessLevel': 'PUBLIC', 'hasSpeed': False, 'id': 2030, 'mets': 3.5, 'name': 'Calisthenics, home exercise, light or moderate effort, general (example: back exercises), going up and down from floor'}, {'accessLevel': 'PUBLIC', 'hasSpeed': False, 'id': 2040, 'mets': 8, 'name': 'Circuit Training'}, {'accessLevel': 'PUBLIC', 'hasSpeed': False, 'id': 2060, 'mets': 5.5, 'name': 'Health club exercise, general'}, {'accessLevel': 'PUBLIC', 'hasSpeed': False, 'id': 2101, 'mets': 2.5, 'name': 'Mild stretching'}, {'accessLevel': 'PUBLIC', 'activityLevels': [{'id': 2071, 'maxSpeedMPH': -1, 'mets': 3.5, 'minSpeedMPH': -1, 'name': 'light effort (50 watts)'}, {'id': 2072, 'maxSpeedMPH': -1, 'mets': 7, 'minSpeedMPH': -1, 'name': 'moderate effort (100 watts)'}, {'id': 2073, 'maxSpeedMPH': -1, 'mets': 8.5, 'minSpeedMPH': -1, 'name': 'vigorous effort (150 watts)'}, {'id': 2074, 'maxSpeedMPH': -1, 'mets': 12, 'minSpeedMPH': -1, 'name': 'very vigorous effort (200 watts)'}], 'hasSpeed': True, 'id': 90003, 'name': 'Rowing Machine'}, {'accessLevel': 'PUBLIC', 'hasSpeed': False, 'id': 2080, 'mets': 7, 'name': 'Ski machine, general'}, {'accessLevel': 'PUBLIC', 'hasSpeed': False, 'id': 2090, 'mets': 6, 'name': 'Slimnastics, jazzercise'}, {'accessLevel': 'PUBLIC', 'activityLevels': [{'id': 2011, 'maxSpeedMPH': -1, 'mets': 3, 'minSpeedMPH': -1, 'name': 'very light effort (50 watts)'}, {'id': 2012, 'maxSpeedMPH': -1, 'mets': 5.5, 'minSpeedMPH': -1, 'name': 'light effort (100 watts)'}, {'id': 2013, 'maxSpeedMPH': -1, 'mets': 7, 'minSpeedMPH': -1, 'name': 'moderate effort (150 watts)'}, {'id': 2014, 'maxSpeedMPH': -1, 'mets': 10.5, 'minSpeedMPH': -1, 'name': 'vigorous effort (200 watts)'}, {'id': 2015, 'maxSpeedMPH': -1, 'mets': 12.5, 'minSpeedMPH': -1, 'name': 'very vigorous effort (250 watts)'}], 'hasSpeed': True, 'id': 90002, 'name': 'Spinning'}, {'accessLevel': 'PUBLIC', 'hasSpeed': False, 'id': 2065, 'mets': 9, 'name': 'Stairclimber'}, {'accessLevel': 'PUBLIC', 'hasSpeed': False, 'id': 2100, 'mets': 2.5, 'name': 'Stretching'}, {'accessLevel': 'PUBLIC', 'hasSpeed': False, 'id': 2110, 'mets': 6, 'name': 'Teaching aerobic exercise class'}, {'accessLevel': 'PUBLIC', 'hasSpeed': False, 'id': 2120, 'mets': 4, 'name': 'Water aerobics'}, {'accessLevel': 'PUBLIC', 'hasSpeed': False, 'id': 2130, 'mets': 3, 'name': 'Weight lifting (free, nautilus or universal-type), light or moderate effort, light workout, general'}, {'accessLevel': 'PUBLIC', 'hasSpeed': False, 'id': 2050, 'mets': 6, 'name': 'Weights'}, {'accessLevel': 'PUBLIC', 'hasSpeed': False, 'id': 2135, 'mets': 1, 'name': 'Whirlpool, sitting'}], 'id': 22, 'name': 'Conditioning exercises'}, {'activities': [{'accessLevel': 'PUBLIC', 'activityLevels': [{'id': 50101, 'maxSpeedMPH': -1, 'mets': 6, 'minSpeedMPH': -1, 'name': 'Low Speed'}, {'id': 50102, 'maxSpeedMPH': -1, 'mets': 8.699999809265137, 'minSpeedMPH': -1, 'name': 'Medium Speed'}, {'id': 50103, 'maxSpeedMPH': -1, 'mets': 12, 'minSpeedMPH': -1, 'name': 'High Speed'}], 'hasSpeed': False, 'id': 90017, 'name': 'Elliptical'}, {'accessLevel': 'PUBLIC', 'activityLevels': [{'id': 50201, 'maxSpeedMPH': -1, 'mets': 10.399999618530273, 'minSpeedMPH': -1, 'name': 'Low Speed'}, {'id': 50202, 'maxSpeedMPH': -1, 'mets': 13.199999809265137, 'minSpeedMPH': -1, 'name': 'Medium Speed'}, {'id': 50203, 'maxSpeedMPH': -1, 'mets': 16.399999618530273, 'minSpeedMPH': -1, 'name': 'High Speed'}], 'hasSpeed': False, 'id': 90018, 'name': 'Elliptical, High Resistance'}, {'accessLevel': 'PUBLIC', 'activityLevels': [{'id': 50001, 'maxSpeedMPH': -1, 'mets': 2, 'minSpeedMPH': -1, 'name': 'Low Speed'}, {'id': 50002, 'maxSpeedMPH': -1, 'mets': 4.699999809265137, 'minSpeedMPH': -1, 'name': 'Medium Speed'}, {'id': 50003, 'maxSpeedMPH': -1, 'mets': 8, 'minSpeedMPH': -1, 'name': 'High Speed'}], 'hasSpeed': False, 'id': 90016, 'name': 'Elliptical, Low Resistance'}], 'id': 29, 'name': 'Elliptical'}, {'activities': [{'accessLevel': 'PUBLIC', 'hasSpeed': False, 'id': 12010, 'mets': 6, 'name': 'Jog/walk combination (jogging component of less than 10 minutes)'}, {'accessLevel': 'PUBLIC', 'hasSpeed': False, 'id': 12027, 'mets': 4.5, 'name': 'Jogging on a mini-tramp'}, {'accessLevel': 'PUBLIC', 'hasSpeed': False, 'id': 12020, 'mets': 7, 'name': 'Jogging, general'}, {'accessLevel': 'PUBLIC', 'hasSpeed': False, 'id': 12025, 'mets': 8, 'name': 'Jogging, in place'}, {'accessLevel': 'PUBLIC', 'activityLevels': [{'id': 12030, 'maxSpeedMPH': 5, 'mets': 8, 'minSpeedMPH': -1, 'name': '5 mph (12 min/mile)'}, {'id': 12040, 'maxSpeedMPH': 5.2, 'mets': 9, 'minSpeedMPH': -1, 'name': '5.2 mph (11.5 min/mile)'}, {'id': 12050, 'maxSpeedMPH': 6, 'mets': 10, 'minSpeedMPH': -1, 'name': '6 mph (10 min/mile)'}, {'id': 12060, 'maxSpeedMPH': 6.7, 'mets': 11, 'minSpeedMPH': -1, 'name': '6.7 mph (9 min/mile)'}, {'id': 12070, 'maxSpeedMPH': 7, 'mets': 11.5, 'minSpeedMPH': -1, 'name': '7 mph (8.5 min/mile)'}, {'id': 12080, 'maxSpeedMPH': 7.5, 'mets': 12.5, 'minSpeedMPH': -1, 'name': '7.5 mph (8 min/mile)'}, {'id': 12090, 'maxSpeedMPH': 8, 'mets': 13.5, 'minSpeedMPH': -1, 'name': '8 mph (7.5 min/mile)'}, {'id': 12100, 'maxSpeedMPH': 8.6, 'mets': 14, 'minSpeedMPH': -1, 'name': '8.6 mph (7 min/mile)'}, {'id': 12110, 'maxSpeedMPH': 9, 'mets': 15, 'minSpeedMPH': -1, 'name': '9 mph (6.5 min/mile)'}, {'id': 12120, 'maxSpeedMPH': 10, 'mets': 16, 'minSpeedMPH': -1, 'name': '10 mph (6 min/mile)'}, {'id': 12130, 'maxSpeedMPH': 10.9, 'mets': 18, 'minSpeedMPH': -1, 'name': '10.9 mph (5.5 min/mile)'}], 'hasSpeed': True, 'id': 90009, 'name': 'Run'}, {'accessLevel': 'PUBLIC', 'hasSpeed': False, 'id': 12190, 'mets': 8, 'name': 'Running while pushing a stroller or wheelchair'}, {'accessLevel': 'PUBLIC', 'hasSpeed': False, 'id': 12140, 'mets': 9, 'name': 'Running, cross country'}, {'accessLevel': 'PUBLIC', 'hasSpeed': False, 'id': 12180, 'mets': 10, 'name': 'Running, on a track, team practice'}, {'accessLevel': 'PUBLIC', 'hasSpeed': False, 'id': 12170, 'mets': 15, 'name': 'Running, stairs, up'}], 'id': 23, 'name': 'Running'}, {'activities': [{'accessLevel': 'PUBLIC', 'activityLevels': [{'id': 51002, 'maxSpeedMPH': 2.4, 'mets': 3, 'minSpeedMPH': -1, 'name': '2mph'}, {'id': 51003, 'maxSpeedMPH': 3.4, 'mets': 3.9000000953674316, 'minSpeedMPH': 2.5, 'name': '3mph'}, {'id': 51004, 'maxSpeedMPH': 4.4, 'mets': 4.800000190734863, 'minSpeedMPH': 3.5, 'name': '4mph'}, {'id': 51005, 'maxSpeedMPH': 5.4, 'mets': 10.399999618530273, 'minSpeedMPH': 4.5, 'name': '5mph'}, {'id': 51006, 'maxSpeedMPH': 6.4, 'mets': 12.199999809265137, 'minSpeedMPH': 5.5, 'name': '6mph'}, {'id': 51007, 'maxSpeedMPH': 7.4, 'mets': 14, 'minSpeedMPH': 6.5, 'name': '7mph'}, {'id': 51008, 'maxSpeedMPH': 8.4, 'mets': 16, 'minSpeedMPH': 7.5, 'name': '8mph'}, {'id': 51009, 'maxSpeedMPH': 9.4, 'mets': 17.799999237060547, 'minSpeedMPH': 8.5, 'name': '9mph'}, {'id': 51010, 'maxSpeedMPH': 10.4, 'mets': 19.600000381469727, 'minSpeedMPH': 9.5, 'name': '10mph'}], 'hasSpeed': True, 'id': 90019, 'name': 'Treadmill'}, {'accessLevel': 'PUBLIC', 'activityLevels': [{'id': 51202, 'maxSpeedMPH': 2.4, 'mets': 6.300000190734863, 'minSpeedMPH': -1, 'name': '2mph'}, {'id': 51203, 'maxSpeedMPH': 3.4, 'mets': 8.800000190734863, 'minSpeedMPH': 2.5, 'name': '3mph'}, {'id': 51204, 'maxSpeedMPH': 4.4, 'mets': 11.5, 'minSpeedMPH': 3.5, 'name': '4mph'}, {'id': 51205, 'maxSpeedMPH': 5.4, 'mets': 14.5, 'minSpeedMPH': 4.5, 'name': '5mph'}, {'id': 51206, 'maxSpeedMPH': 6.4, 'mets': 17.200000762939453, 'minSpeedMPH': 5.5, 'name': '6mph'}, {'id': 51207, 'maxSpeedMPH': 7.4, 'mets': 19.899999618530273, 'minSpeedMPH': 6.5, 'name': '7mph'}, {'id': 51208, 'maxSpeedMPH': 8.4, 'mets': 22.5, 'minSpeedMPH': 7.5, 'name': '8mph'}, {'id': 51209, 'maxSpeedMPH': 9.4, 'mets': 25.200000762939453, 'minSpeedMPH': 8.5, 'name': '9mph'}, {'id': 51210, 'maxSpeedMPH': 10.4, 'mets': 28, 'minSpeedMPH': 9.5, 'name': '10mph'}], 'hasSpeed': True, 'id': 90021, 'name': 'Treadmill, 10% Incline'}, {'accessLevel': 'PUBLIC', 'activityLevels': [{'id': 51302, 'maxSpeedMPH': 2.4, 'mets': 8, 'minSpeedMPH': -1, 'name': '2mph'}, {'id': 51303, 'maxSpeedMPH': 3.4, 'mets': 11.399999618530273, 'minSpeedMPH': 2.5, 'name': '3mph'}, {'id': 51304, 'maxSpeedMPH': 4.4, 'mets': 14.800000190734863, 'minSpeedMPH': 3.5, 'name': '4mph'}, {'id': 51305, 'maxSpeedMPH': 5.4, 'mets': 16.600000381469727, 'minSpeedMPH': 4.5, 'name': '5mph'}, {'id': 51306, 'maxSpeedMPH': 6.4, 'mets': 19.700000762939453, 'minSpeedMPH': 5.5, 'name': '6mph'}, {'id': 51307, 'maxSpeedMPH': 7.4, 'mets': 22.799999237060547, 'minSpeedMPH': 6.5, 'name': '7mph'}, {'id': 51308, 'maxSpeedMPH': 8.4, 'mets': 25.899999618530273, 'minSpeedMPH': 7.5, 'name': '8mph'}, {'id': 51309, 'maxSpeedMPH': 9.4, 'mets': 28.899999618530273, 'minSpeedMPH': 8.5, 'name': '9mph'}, {'id': 51310, 'maxSpeedMPH': 10.4, 'mets': 32, 'minSpeedMPH': 9.5, 'name': '10mph'}], 'hasSpeed': True, 'id': 90022, 'name': 'Treadmill, 15% Incline'}, {'accessLevel': 'PUBLIC', 'activityLevels': [{'id': 51102, 'maxSpeedMPH': 2.4, 'mets': 4.599999904632568, 'minSpeedMPH': -1, 'name': '2mph'}, {'id': 51103, 'maxSpeedMPH': 3.4, 'mets': 6.400000095367432, 'minSpeedMPH': 2.5, 'name': '3mph'}, {'id': 51104, 'maxSpeedMPH': 4.4, 'mets': 8.100000381469727, 'minSpeedMPH': 3.5, 'name': '4mph'}, {'id': 51105, 'maxSpeedMPH': 5.4, 'mets': 12.5, 'minSpeedMPH': 4.5, 'name': '5mph'}, {'id': 51106, 'maxSpeedMPH': 6.4, 'mets': 14.800000190734863, 'minSpeedMPH': 5.5, 'name': '6mph'}, {'id': 51107, 'maxSpeedMPH': 7.4, 'mets': 16.899999618530273, 'minSpeedMPH': 6.5, 'name': '7mph'}, {'id': 51108, 'maxSpeedMPH': 8.4, 'mets': 19.200000762939453, 'minSpeedMPH': 7.5, 'name': '8mph'}, {'id': 51109, 'maxSpeedMPH': 9.4, 'mets': 21.5, 'minSpeedMPH': 8.5, 'name': '9mph'}, {'id': 51110, 'maxSpeedMPH': 10.4, 'mets': 23.700000762939453, 'minSpeedMPH': 9.5, 'name': '10mph'}], 'hasSpeed': True, 'id': 90020, 'name': 'Treadmill, 5% Incline'}], 'id': 30, 'name': 'Treadmill'}, {'activities': [{'accessLevel': 'PUBLIC', 'hasSpeed': False, 'id': 18010, 'mets': 2.5, 'name': 'Boating, power'}, {'accessLevel': 'PUBLIC', 'hasSpeed': False, 'id': 18080, 'mets': 12, 'name': 'Canoeing'}, {'accessLevel': 'PUBLIC', 'hasSpeed': False, 'id': 18025, 'mets': 3.299999952316284, 'name': 'Canoeing, harvesting wild rice, knocking rice off the stalks'}, {'accessLevel': 'PUBLIC', 'hasSpeed': False, 'id': 18020, 'mets': 4, 'name': 'Canoeing, on camping trip'}, {'accessLevel': 'PUBLIC', 'hasSpeed': False, 'id': 18030, 'mets': 7, 'name': 'Canoeing, portaging'}, {'accessLevel': 'PUBLIC', 'hasSpeed': False, 'id': 18090, 'mets': 3, 'name': 'Diving'}, {'accessLevel': 'PUBLIC', 'hasSpeed': False, 'id': 18100, 'mets': 5, 'name': 'Kayaking'}, {'accessLevel': 'PUBLIC', 'hasSpeed': False, 'id': 18110, 'mets': 4, 'name': 'Paddle boat'}, {'accessLevel': 'PUBLIC', 'activityLevels': [{'id': 18040, 'maxSpeedMPH': 3.9, 'mets': 3, 'minSpeedMPH': -1, 'name': '2.0 - 3.9 mph, light effort'}, {'id': 18050, 'maxSpeedMPH': 5.9, 'mets': 7, 'minSpeedMPH': 4, 'name': '4.0 - 5.9 mph, moderate effort'}, {'id': 18060, 'maxSpeedMPH': -1, 'mets': 12, 'minSpeedMPH': 6, 'name': 'Faster than 6 mph, vigorous effort'}], 'hasSpeed': True, 'id': 90014, 'name': 'Rowing'}, {'accessLevel': 'PUBLIC', 'hasSpeed': False, 'id': 18120, 'mets': 3, 'name': 'Sailing'}, {'accessLevel': 'PUBLIC', 'hasSpeed': False, 'id': 18140, 'mets': 3, 'name': 'Sailing, Sunfish/Laser/Hobby Cat, Keel boats, ocean sailing, yachting'}, {'accessLevel': 'PUBLIC', 'hasSpeed': False, 'id': 18130, 'mets': 5, 'name': 'Sailing, in competition'}, {'accessLevel': 'PUBLIC', 'hasSpeed': False, 'id': 18200, 'mets': 7, 'name': 'Scuba diving'}, {'accessLevel': 'PUBLIC', 'hasSpeed': False, 'id': 18160, 'mets': 7, 'name': 'Skimobiling'}, {'accessLevel': 'PUBLIC', 'hasSpeed': False, 'id': 18180, 'mets': 16, 'name': 'Skindiving, fast'}, {'accessLevel': 'PUBLIC', 'hasSpeed': False, 'id': 18190, 'mets': 12.5, 'name': 'Skindiving, moderate'}, {'accessLevel': 'PUBLIC', 'hasSpeed': False, 'id': 18210, 'mets': 5, 'name': 'Snorkeling'}, {'accessLevel': 'PUBLIC', 'hasSpeed': False, 'id': 18220, 'mets': 3, 'name': 'Surfing, body or board'}, {'accessLevel': 'PUBLIC', 'activityLevels': [{'id': 58001, 'maxSpeedMPH': 0.9, 'mets': 4, 'minSpeedMPH': -1, 'name': 'less than 25 yards/min'}, {'id': 18240, 'maxSpeedMPH': 1.7, 'mets': 8, 'minSpeedMPH': 1, 'name': '25-50 yards/min'}, {'id': 58002, 'maxSpeedMPH': 2.6, 'mets': 11, 'minSpeedMPH': 1.8, 'name': '50-75 yards/min'}, {'id': 58003, 'maxSpeedMPH': 3.4, 'mets': 14, 'minSpeedMPH': 2.7, 'name': '75-100 yards/min'}], 'hasSpeed': True, 'id': 90024, 'name': 'Swim'}, {'accessLevel': 'PUBLIC', 'hasSpeed': False, 'id': 18230, 'mets': 10, 'name': 'Swimming laps, freestyle, fast, vigorous effort'}, {'accessLevel': 'PUBLIC', 'hasSpeed': False, 'id': 18250, 'mets': 7, 'name': 'Swimming, backstroke, general'}, {'accessLevel': 'PUBLIC', 'hasSpeed': False, 'id': 18260, 'mets': 10, 'name': 'Swimming, breaststroke, general'}, {'accessLevel': 'PUBLIC', 'hasSpeed': False, 'id': 18270, 'mets': 11, 'name': 'Swimming, butterfly, general'}, {'accessLevel': 'PUBLIC', 'hasSpeed': False, 'id': 18280, 'mets': 11, 'name': 'Swimming, crawl, fast (75 yards/minute), vigorous effort'}, {'accessLevel': 'PUBLIC', 'hasSpeed': False, 'id': 18290, 'mets': 8, 'name': 'Swimming, crawl, slow (50 yards/minute), moderate or light effort'}, {'accessLevel': 'PUBLIC', 'hasSpeed': False, 'id': 18300, 'mets': 6, 'name': 'Swimming, lake, ocean, river'}, {'accessLevel': 'PUBLIC', 'hasSpeed': False, 'id': 18310, 'mets': 6, 'name': 'Swimming, leisurely, not lap swimming, general'}, {'accessLevel': 'PUBLIC', 'hasSpeed': False, 'id': 18320, 'mets': 8, 'name': 'Swimming, sidestroke, general'}, {'accessLevel': 'PUBLIC', 'hasSpeed': False, 'id': 18330, 'mets': 8, 'name': 'Swimming, synchronized'}, {'accessLevel': 'PUBLIC', 'hasSpeed': False, 'id': 18340, 'mets': 10, 'name': 'Swimming, treading water, fast vigorous effort'}, {'accessLevel': 'PUBLIC', 'hasSpeed': False, 'id': 18350, 'mets': 4, 'name': 'Swimming, treading water, moderate effort, general'}, {'accessLevel': 'PUBLIC', 'hasSpeed': False, 'id': 18355, 'mets': 4, 'name': 'Water aerobics'}, {'accessLevel': 'PUBLIC', 'hasSpeed': False, 'id': 18366, 'mets': 8, 'name': 'Water jogging'}, {'accessLevel': 'PUBLIC', 'hasSpeed': False, 'id': 18360, 'mets': 10, 'name': 'Water polo'}, {'accessLevel': 'PUBLIC', 'hasSpeed': False, 'id': 18150, 'mets': 6, 'name': 'Water skiing'}, {'accessLevel': 'PUBLIC', 'hasSpeed': False, 'id': 18365, 'mets': 3, 'name': 'Water volleyball'}, {'accessLevel': 'PUBLIC', 'hasSpeed': False, 'id': 18370, 'mets': 5, 'name': 'Whitewater rafting, kayaking, or canoeing'}], 'id': 25, 'name': 'Water Activities'}, {'activities': [{'accessLevel': 'PUBLIC', 'activityLevels': [{'id': 19080, 'maxSpeedMPH': 2.5, 'mets': 7, 'minSpeedMPH': -1, 'name': '2.5 mph, slow or light effort, ski walking'}, {'id': 19090, 'maxSpeedMPH': 4.9, 'mets': 8, 'minSpeedMPH': 4, 'name': '4.0-4.9 mph, moderate speed and effort, general'}, {'id': 19100, 'maxSpeedMPH': 7.9, 'mets': 9, 'minSpeedMPH': 5, 'name': '5.0-7.9 mph, brisk speed, vigorous effort'}, {'id': 19110, 'maxSpeedMPH': -1, 'mets': 14, 'minSpeedMPH': 8, 'name': 'faster than 8.0 mph, racing'}], 'hasSpeed': True, 'id': 90015, 'name': 'Cross Country Skiing'}, {'accessLevel': 'PUBLIC', 'hasSpeed': False, 'id': 19030, 'mets': 7, 'name': 'Ice skating'}, {'accessLevel': 'PUBLIC', 'hasSpeed': False, 'id': 19010, 'mets': 6, 'name': 'Moving ice house (set up/drill holes, etc.)'}, {'accessLevel': 'PUBLIC', 'hasSpeed': False, 'id': 19020, 'mets': 5.5, 'name': 'Skating, ice, 9 mph or less'}, {'accessLevel': 'PUBLIC', 'hasSpeed': False, 'id': 19040, 'mets': 9, 'name': 'Skating, ice, rapidly, more than 9 mph'}, {'accessLevel': 'PUBLIC', 'hasSpeed': False, 'id': 19050, 'mets': 15, 'name': 'Skating, speed, competitive'}, {'accessLevel': 'PUBLIC', 'hasSpeed': False, 'id': 19060, 'mets': 7, 'name': 'Ski jumping (climb up carrying skis)'}, {'accessLevel': 'PUBLIC', 'hasSpeed': False, 'id': 19160, 'mets': 6, 'name': 'Skiing'}, {'accessLevel': 'PUBLIC', 'hasSpeed': False, 'id': 19130, 'mets': 16.5, 'name': 'Skiing, cross country, hard snow, uphill, maximum, snow mountaineering'}, {'accessLevel': 'PUBLIC', 'hasSpeed': False, 'id': 19150, 'mets': 5, 'name': 'Skiing, downhill, light effort'}, {'accessLevel': 'PUBLIC', 'hasSpeed': False, 'id': 19170, 'mets': 8, 'name': 'Skiing, downhill, vigorous effort, racing'}, {'accessLevel': 'PUBLIC', 'hasSpeed': False, 'id': 19180, 'mets': 7, 'name': 'Sledding, tobogganing, bobsledding, luge'}, {'accessLevel': 'PUBLIC', 'hasSpeed': False, 'id': 19200, 'mets': 3.5, 'name': 'Snowmobiling'}, {'accessLevel': 'PUBLIC', 'hasSpeed': False, 'id': 19190, 'mets': 8, 'name': 'Snowshoeing'}], 'id': 24, 'name': 'Winter activities'}]}, {'activities': [{'accessLevel': 'PUBLIC', 'hasSpeed': False, 'id': 16010, 'mets': 2, 'name': 'Driving'}, {'accessLevel': 'PUBLIC', 'hasSpeed': False, 'id': 16050, 'mets': 3, 'name': 'Driving heavy truck, tractor, bus'}, {'accessLevel': 'PUBLIC', 'hasSpeed': False, 'id': 16020, 'mets': 2, 'name': 'Flying airplane'}, {'accessLevel': 'PUBLIC', 'hasSpeed': False, 'id': 16030, 'mets': 2.5, 'name': 'Motorcycle'}, {'accessLevel': 'PUBLIC', 'hasSpeed': False, 'id': 16040, 'mets': 6, 'name': 'Pushing plane in and out of hangar'}, {'accessLevel': 'PUBLIC', 'hasSpeed': False, 'id': 16016, 'mets': 1, 'name': 'Riding in a bus'}, {'accessLevel': 'PUBLIC', 'hasSpeed': False, 'id': 16015, 'mets': 1, 'name': 'Riding in a car or truck'}], 'id': 26, 'name': 'Transportation'}, {'activities': [{'accessLevel': 'PUBLIC', 'hasSpeed': False, 'id': 17010, 'mets': 7, 'name': 'Backpacking'}, {'accessLevel': 'PUBLIC', 'hasSpeed': False, 'id': 17085, 'mets': 2.5, 'name': 'Bird watching'}, {'accessLevel': 'PUBLIC', 'hasSpeed': False, 'id': 17020, 'mets': 3.5, 'name': 'Carrying infant or 15 pound load (e.g. suitcase)'}, {'accessLevel': 'PUBLIC', 'activityLevels': [{'id': 17026, 'maxSpeedMPH': -1, 'mets': 5, 'minSpeedMPH': -1, 'name': '1 to 15 lb load'}, {'id': 17027, 'maxSpeedMPH': -1, 'mets': 6, 'minSpeedMPH': -1, 'name': '16 to 24 lb load'}, {'id': 17028, 'maxSpeedMPH': -1, 'mets': 8, 'minSpeedMPH': -1, 'name': '25 to 49 lb load'}, {'id': 17029, 'maxSpeedMPH': -1, 'mets': 10, 'minSpeedMPH': -1, 'name': '50 to 74 lb load'}, {'id': 17030, 'maxSpeedMPH': -1, 'mets': 12, 'minSpeedMPH': -1, 'name': '74+ lb load'}], 'hasSpeed': False, 'id': 90011, 'name': 'Carrying load upstairs'}, {'accessLevel': 'PUBLIC', 'hasSpeed': False, 'id': 17130, 'mets': 8, 'name': 'Going up stairs, using or climbing up ladder'}, {'accessLevel': 'PUBLIC', 'activityLevels': [{'id': 17035, 'maxSpeedMPH': -1, 'mets': 7, 'minSpeedMPH': -1, 'name': 'With 0 to 9 pound pack'}, {'id': 17040, 'maxSpeedMPH': -1, 'mets': 7.5, 'minSpeedMPH': -1, 'name': 'With 10 to 20 pound pack'}, {'id': 17050, 'maxSpeedMPH': -1, 'mets': 8, 'minSpeedMPH': -1, 'name': 'With 21 to 42 pound pack'}, {'id': 17060, 'maxSpeedMPH': -1, 'mets': 9, 'minSpeedMPH': -1, 'name': 'With 42+ pound pack'}], 'hasSpeed': True, 'id': 90012, 'name': 'Hike'}, {'accessLevel': 'PUBLIC', 'hasSpeed': False, 'id': 17080, 'mets': 6, 'name': 'Hiking, cross country'}, {'accessLevel': 'PUBLIC', 'hasSpeed': False, 'id': 17090, 'mets': 6.5, 'name': 'Marching, rapidly, military'}, {'accessLevel': 'PUBLIC', 'hasSpeed': False, 'id': 17105, 'mets': 4, 'name': 'Pushing a wheelchair'}, {'accessLevel': 'PUBLIC', 'hasSpeed': False, 'id': 17100, 'mets': 2.5, 'name': 'Pushing or pulling stroller with child or walking with children'}, {'accessLevel': 'PUBLIC', 'hasSpeed': False, 'id': 17110, 'mets': 6.5, 'name': 'Race walking'}, {'accessLevel': 'PUBLIC', 'hasSpeed': False, 'id': 17120, 'mets': 8, 'name': 'Rock climbing'}, {'accessLevel': 'PUBLIC', 'hasSpeed': False, 'id': 17140, 'mets': 5, 'name': 'Using crutches'}, {'accessLevel': 'PUBLIC', 'activityLevels': [{'id': 17151, 'maxSpeedMPH': 1.5, 'mets': 2, 'minSpeedMPH': -1, 'name': 'less than 2 mph, strolling very slowly'}, {'id': 17152, 'maxSpeedMPH': 2, 'mets': 2.5, 'minSpeedMPH': -1, 'name': '2.0 mph, slow pace'}, {'id': 17170, 'maxSpeedMPH': 2.5, 'mets': 3, 'minSpeedMPH': -1, 'name': '2.5 mph'}, {'id': 17190, 'maxSpeedMPH': 3, 'mets': 3.299999952316284, 'minSpeedMPH': -1, 'name': '3.0 mph, moderate pace'}, {'id': 17200, 'maxSpeedMPH': 3.5, 'mets': 3.799999952316284, 'minSpeedMPH': -1, 'name': '3.5 mph, walking for exercise'}, {'id': 17220, 'maxSpeedMPH': 4, 'mets': 5, 'minSpeedMPH': -1, 'name': '4.0 mph, very brisk pace'}, {'id': 17230, 'maxSpeedMPH': 4.5, 'mets': 6.300000190734863, 'minSpeedMPH': -1, 'name': '4.5 mph, very, very brisk'}, {'id': 17231, 'maxSpeedMPH': 5, 'mets': 8, 'minSpeedMPH': -1, 'name': '5.0 mph, speed walking'}, {'id': 17165, 'maxSpeedMPH': -1, 'mets': 3, 'minSpeedMPH': -1, 'name': 'Walking the dog'}], 'hasSpeed': True, 'id': 90013, 'name': 'Walk'}, {'accessLevel': 'PUBLIC', 'hasSpeed': False, 'id': 17160, 'mets': 3.5, 'name': 'Walking for pleasure'}, {'accessLevel': 'PUBLIC', 'hasSpeed': False, 'id': 17260, 'mets': 5, 'name': 'Walking, grass track'}, {'accessLevel': 'PUBLIC', 'hasSpeed': False, 'id': 17150, 'mets': 2, 'name': 'Walking, household'}], 'id': 27, 'name': 'Walking'}, {'activities': [{'accessLevel': 'PUBLIC', 'hasSpeed': False, 'id': 54011, 'mets': 3.200000047683716, 'name': 'Wii Baseball'}, {'accessLevel': 'PUBLIC', 'hasSpeed': False, 'id': 54003, 'mets': 2.799999952316284, 'name': 'Wii Bowling'}, {'accessLevel': 'PUBLIC', 'hasSpeed': False, 'id': 54004, 'mets': 4.800000190734863, 'name': 'Wii Boxing'}, {'accessLevel': 'PUBLIC', 'hasSpeed': False, 'id': 54001, 'mets': 2.5, 'name': 'Wii Fit Advanced Step'}, {'accessLevel': 'PUBLIC', 'hasSpeed': False, 'id': 54006, 'mets': 3.700000047683716, 'name': 'Wii Fit Free Run'}, {'accessLevel': 'PUBLIC', 'hasSpeed': False, 'id': 54007, 'mets': 2.299999952316284, 'name': 'Wii Fit Free step'}, {'accessLevel': 'PUBLIC', 'hasSpeed': False, 'id': 54009, 'mets': 3.700000047683716, 'name': 'Wii Fit Island Run'}, {'accessLevel': 'PUBLIC', 'hasSpeed': False, 'id': 54005, 'mets': 2.799999952316284, 'name': 'Wii Fit Rhythm Boxing'}, {'accessLevel': 'PUBLIC', 'hasSpeed': False, 'id': 54002, 'mets': 2.5, 'name': 'Wii Fit Super Hula Hoop'}, {'accessLevel': 'PUBLIC', 'hasSpeed': False, 'id': 54010, 'mets': 2.299999952316284, 'name': 'Wii Golf'}, {'accessLevel': 'PUBLIC', 'hasSpeed': False, 'id': 54008, 'mets': 3.700000047683716, 'name': 'Wii Tennis'}], 'id': 33, 'name': 'Wii Games'}, {'activities': [{'accessLevel': 'PUBLIC', 'hasSpeed': False, 'id': 57001, 'mets': 3.200000047683716, 'name': 'XBOX Sports - Baseball'}, {'accessLevel': 'PUBLIC', 'hasSpeed': False, 'id': 57002, 'mets': 2.299999952316284, 'name': 'XBOX Sports - Darts'}, {'accessLevel': 'PUBLIC', 'hasSpeed': False, 'id': 57004, 'mets': 3.700000047683716, 'name': 'XBOX Sports - Football'}, {'accessLevel': 'PUBLIC', 'hasSpeed': False, 'id': 57003, 'mets': 2.299999952316284, 'name': 'XBOX Sports - Golf'}, {'accessLevel': 'PUBLIC', 'hasSpeed': False, 'id': 57007, 'mets': 2.799999952316284, 'name': 'XBOX Sports - Just Dance 3'}, {'accessLevel': 'PUBLIC', 'hasSpeed': False, 'id': 57005, 'mets': 3.700000047683716, 'name': 'XBOX Sports - Skiing'}, {'accessLevel': 'PUBLIC', 'hasSpeed': False, 'id': 57006, 'mets': 3.700000047683716, 'name': 'XBOX Sports - Tennis'}], 'id': 35, 'name': 'XBOX Games'}, {'activities': [{'accessLevel': 'PUBLIC', 'hasSpeed': False, 'id': 52001, 'mets': 4.300000190734863, 'name': 'Yoga'}, {'accessLevel': 'PUBLIC', 'hasSpeed': False, 'id': 52002, 'mets': 5.900000095367432, 'name': 'Yoga, Bikram'}, {'accessLevel': 'PUBLIC', 'hasSpeed': False, 'id': 52003, 'mets': 2.299999952316284, 'name': 'Yoga, Hatha'}, {'accessLevel': 'PUBLIC', 'hasSpeed': False, 'id': 52004, 'mets': 4.300000190734863, 'name': 'Yoga, Power'}, {'accessLevel': 'PUBLIC', 'hasSpeed': False, 'id': 52005, 'mets': 7.300000190734863, 'name': 'Yoga, Vinyasa'}], 'id': 31, 'name': 'Yoga'}]}\n"
     ]
    }
   ],
   "source": [
    "_001fb = auth2_client.intraday_time_series('activities/tracker/calories', base_date = today)\n",
    "print(_001fb)"
   ]
  },
  {
   "cell_type": "code",
   "execution_count": null,
   "metadata": {},
   "outputs": [],
   "source": []
  }
 ],
 "metadata": {
  "kernelspec": {
   "display_name": "Python 3",
   "language": "python",
   "name": "python3"
  },
  "language_info": {
   "codemirror_mode": {
    "name": "ipython",
    "version": 3
   },
   "file_extension": ".py",
   "mimetype": "text/x-python",
   "name": "python",
   "nbconvert_exporter": "python",
   "pygments_lexer": "ipython3",
   "version": "3.6.8"
  }
 },
 "nbformat": 4,
 "nbformat_minor": 2
}
